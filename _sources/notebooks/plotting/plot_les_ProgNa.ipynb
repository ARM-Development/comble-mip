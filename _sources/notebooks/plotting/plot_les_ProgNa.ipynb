{
 "cells": [
  {
   "cell_type": "markdown",
   "id": "fc413f6b-235a-4007-81fe-210c895c9fbe",
   "metadata": {
    "tags": []
   },
   "source": [
    "# Compare ProgNa LES Sims\n",
    "## Updated as of 5/24/24\n",
    "* The below notebook allows one to compare large-eddy simulations.\n",
    "* All requested 1D and 2D variables are here read and plotted. \"load_sims\" reports variable that are missing. Lines will not show, if a variable is missing or if it contains missing values.\n",
    "* In case you find inconsistencies in the benchmark set or wish to expand the code, please contact Ann Fridlind (ann.fridlind@nasa.gov), Timothy Juliano (tjuliano@ucar.edu), and Florian Tornow (ft2544@columbia.edu)."
   ]
  },
  {
   "cell_type": "code",
   "execution_count": 2,
   "id": "8dc64df9-ac74-4def-bcb4-740c421e1f9a",
   "metadata": {
    "tags": []
   },
   "outputs": [],
   "source": [
    "%run functions_plotting.py\n",
    "\n",
    "## select simulations to plot\n",
    "sim_keyword = 'dx100_ProgNa.'  "
   ]
  },
  {
   "cell_type": "code",
   "execution_count": 3,
   "id": "e6ed1ee4-e2e4-4044-b256-010c272438bb",
   "metadata": {
    "tags": []
   },
   "outputs": [],
   "source": [
    "vars_mean_list = pd.read_excel('https://docs.google.com/spreadsheets/d/1Vl8jYGviet7EtXZuQiitrx4NSkV1x27aJAhxxjBb9zI/export?gid=0&format=xlsx',\n",
    "                              sheet_name='Mean')\n",
    "\n",
    "## short names\n",
    "var_vec_1d = np.asarray(vars_mean_list.variable_id[vars_mean_list.dimensions == 'time'])\n",
    "var_vec_2d = np.asarray(vars_mean_list.variable_id[vars_mean_list.dimensions == 'time, height'])\n",
    "\n",
    "## long names\n",
    "var_vec_1d_long = np.asarray(vars_mean_list.standard_name[vars_mean_list.dimensions == 'time'])\n",
    "var_vec_2d_long = np.asarray(vars_mean_list.standard_name[vars_mean_list.dimensions == 'time, height'])\n",
    "\n",
    "## Units\n",
    "var_vec_1d_units = np.asarray(vars_mean_list.units[vars_mean_list.dimensions == 'time'])\n",
    "var_vec_2d_units = np.asarray(vars_mean_list.units[vars_mean_list.dimensions == 'time, height'])"
   ]
  },
  {
   "cell_type": "code",
   "execution_count": null,
   "id": "aebc954d-1bd0-459a-9ac5-0b8305f2652b",
   "metadata": {
    "tags": []
   },
   "outputs": [
    {
     "name": "stdout",
     "output_type": "stream",
     "text": [
      "Loading variables: f(time)\n",
      "../../output_les/dharma/sandbox/DHARMA_Lx25_dx100_ProgNa.nc\n",
      "../../output_les/icon/sandbox/ICON_Lx25_dx100_ProgNa.nc\n",
      "ssaf shows NAN values in ../../output_les/icon/sandbox/ICON_Lx25_dx100_ProgNa.nc\n",
      "../../output_les/DALES/sandbox/DALES_Lx25_dx100_ProgNa.nc\n",
      "iwp not found in ../../output_les/DALES/sandbox/DALES_Lx25_dx100_ProgNa.nc\n",
      "od not found in ../../output_les/DALES/sandbox/DALES_Lx25_dx100_ProgNa.nc\n",
      "odlc not found in ../../output_les/DALES/sandbox/DALES_Lx25_dx100_ProgNa.nc\n",
      "ssaf not found in ../../output_les/DALES/sandbox/DALES_Lx25_dx100_ProgNa.nc\n",
      "Loading variables: f(time,height)\n",
      "../../output_les/dharma/sandbox/DHARMA_Lx25_dx100_ProgNa.nc\n"
     ]
    }
   ],
   "source": [
    "df_col_1d,df_col_2d = load_sims('../../output_les/',var_vec_1d,var_vec_2d,t_shift=-2,keyword=sim_keyword,subfolder='sand') "
   ]
  },
  {
   "cell_type": "code",
   "execution_count": null,
   "id": "6b2d538f-3794-421a-b033-54227b82ae3f",
   "metadata": {
    "tags": []
   },
   "outputs": [],
   "source": [
    "## plot variables that have only time dependence\n",
    "plot_1d(pd.concat([df_col_1d]),\n",
    "                   var_vec_1d,longnames=var_vec_1d_long,units=var_vec_1d_units,\n",
    "                   plot_colors=['orange','k','r','g','magenta','gold','lightskyblue'],plot_ls=['-','-','-','-','-','-','-'])"
   ]
  },
  {
   "cell_type": "code",
   "execution_count": null,
   "id": "54bb35ce-c080-49a0-9e0e-9046e072f715",
   "metadata": {
    "tags": []
   },
   "outputs": [],
   "source": [
    "%run functions_plotting.py\n",
    "\n",
    "## example where ERA5 and radiosonde are included\n",
    "plot_2d(pd.concat([df_col_2d]),\n",
    "                   var_vec_2d,times=[-1.5,0,3,9,18],z_max=6000,units=var_vec_2d_units,longnames=var_vec_2d_long,\n",
    "                   plot_colors=['orange','k','r','g','magenta','gold','lightskyblue'])"
   ]
  },
  {
   "cell_type": "code",
   "execution_count": null,
   "id": "4a31525e-ed1e-4236-a7fb-36260cdf9345",
   "metadata": {},
   "outputs": [],
   "source": []
  }
 ],
 "metadata": {
  "kernelspec": {
   "display_name": "Python [conda env:base] *",
   "language": "python",
   "name": "conda-base-py"
  },
  "language_info": {
   "codemirror_mode": {
    "name": "ipython",
    "version": 3
   },
   "file_extension": ".py",
   "mimetype": "text/x-python",
   "name": "python",
   "nbconvert_exporter": "python",
   "pygments_lexer": "ipython3",
   "version": "3.10.9"
  }
 },
 "nbformat": 4,
 "nbformat_minor": 5
}
