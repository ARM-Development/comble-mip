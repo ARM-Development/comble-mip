{
 "cells": [
  {
   "cell_type": "markdown",
   "metadata": {},
   "source": [
    "# Generate time-varying surface forcing\n",
    "# Code to generate ONLY time-varying surface forcing based on backward trajectory and high-res sea ice satellite data for COMBLE LES/SCM intercomparison\n",
    "### Developed by Tim Juliano at NCAR/RAL originally on 8/26/22\n",
    "### v1.6 created on 1/18/22\n",
    "### We have the option of starting as far as 28 hours before arriving at Andenes (03/12/20 at 14 UTC)\n",
    "### Includes lat/lon correction by Peng Wu (PNNL)"
   ]
  },
  {
   "cell_type": "markdown",
   "metadata": {},
   "source": [
    "### Import libraries"
   ]
  },
  {
   "cell_type": "code",
   "execution_count": 206,
   "metadata": {},
   "outputs": [],
   "source": [
    "import netCDF4\n",
    "import numpy as np\n",
    "import numpy.ma as ma\n",
    "import sys\n",
    "from netCDF4 import Dataset, date2num,num2date\n",
    "import datetime as dt\n",
    "import os\n",
    "import matplotlib.pyplot as plt\n",
    "from scipy import interpolate\n",
    "import geopy.distance\n",
    "from scipy.ndimage import gaussian_filter1d\n",
    "import gdal\n",
    "import copy"
   ]
  },
  {
   "cell_type": "markdown",
   "metadata": {},
   "source": [
    "### !!! User mods !!!\n",
    "#### How many hours before ice edge do you want to start?\n",
    "#### Note: t0_h = 0 means you are starting approx. at ice edge, t0_h = 10 means you are starting 10 h upstream (north) of the ice edge\n",
    "#### Note: t0_h must be an integer"
   ]
  },
  {
   "cell_type": "code",
   "execution_count": 207,
   "metadata": {},
   "outputs": [],
   "source": [
    "t0_h = 10\n",
    "if t0_h < 0 or t0_h > 10:\n",
    "    sys.exit('Error: Please set 0 <= t0_h >= 10')"
   ]
  },
  {
   "cell_type": "markdown",
   "metadata": {},
   "source": [
    "### Set some things"
   ]
  },
  {
   "cell_type": "code",
   "execution_count": 208,
   "metadata": {},
   "outputs": [
    {
     "name": "stdout",
     "output_type": "stream",
     "text": [
      "Start time is: 2020-03-12 14:00:00\n"
     ]
    }
   ],
   "source": [
    "nhrs = 18 + t0_h + 1 # total number of simulation hours, including t0; default is from 2020-03-12 at 14 UTC to 2020-03-14 at 00 UTC\n",
    "if t0_h == 0:\n",
    "    start_time = '2020-03-13 00:00:00'\n",
    "    start_day = 13\n",
    "    start_hour = 0\n",
    "else:\n",
    "    start_time = '2020-03-12 ' + str(24-t0_h) + ':00:00'\n",
    "    start_day = 12\n",
    "    start_hour = 24-t0_h\n",
    "print ('Start time is: ' + start_time)"
   ]
  },
  {
   "cell_type": "markdown",
   "metadata": {},
   "source": [
    "### Forcing NetCDF name and delete file if already exists"
   ]
  },
  {
   "cell_type": "code",
   "execution_count": 209,
   "metadata": {},
   "outputs": [
    {
     "name": "stdout",
     "output_type": "stream",
     "text": [
      "The file COMBLE_INTERCOMPARISON_SFC_FORCING_ERA5ML_V1.6.nc has been deleted successfully\n"
     ]
    }
   ],
   "source": [
    "savename = 'COMBLE_INTERCOMPARISON_SFC_FORCING_ERA5ML_V1.6.nc'\n",
    "\n",
    "if os.path.exists(savename):\n",
    "    os.remove(savename)\n",
    "    print('The file ' + savename + ' has been deleted successfully')"
   ]
  },
  {
   "cell_type": "markdown",
   "metadata": {},
   "source": [
    "### Get LES domain locations"
   ]
  },
  {
   "cell_type": "code",
   "execution_count": 210,
   "metadata": {},
   "outputs": [
    {
     "name": "stdout",
     "output_type": "stream",
     "text": [
      "LES domain mid point: lat=77.6N, lon=8.6E\n"
     ]
    }
   ],
   "source": [
    "fname = 'LES_domain_location_28h_18Z_Mar13_2020.txt'\n",
    "\n",
    "les_loc = np.loadtxt(fname,skiprows=1)\n",
    "les_hh = les_loc[:,0]\n",
    "les_hh_idx = np.where(les_hh>=-1.*t0_h)[0]\n",
    "les_lat = les_loc[les_hh_idx,1]\n",
    "les_lon = les_loc[les_hh_idx,2]\n",
    "\n",
    "les_lat_mid = round(np.mean(les_lat),1)\n",
    "les_lon_mid = round(np.mean(les_lon),1)\n",
    "print ('LES domain mid point: ' + 'lat=' + str(les_lat_mid) + 'N, lon=' + str(les_lon_mid) + 'E')"
   ]
  },
  {
   "cell_type": "markdown",
   "metadata": {},
   "source": [
    "### Calculate sea ice concentration along trajectory"
   ]
  },
  {
   "cell_type": "code",
   "execution_count": 211,
   "metadata": {},
   "outputs": [],
   "source": [
    "sic_file = netCDF4.Dataset('Svalbard_asi-AMSR2-n10m-20200313_m.nc')\n",
    "sic = sic_file.variables['z'][:,:]\n",
    "sic_lat = sic_file.variables['lat'][:]\n",
    "sic_lon = sic_file.variables['lon'][:]\n",
    "\n",
    "# Read high-res domain location file\n",
    "les_loc_hr = np.loadtxt(fname,skiprows=1)\n",
    "les_hh_hr = les_loc_hr[:,0]\n",
    "les_hh_hr_idx = np.where(les_hh_hr>=-1.*t0_h)[0]\n",
    "#print (les_hh_hr[les_hh_hr_idx])\n",
    "les_lat_hr = les_loc_hr[les_hh_hr_idx,1]\n",
    "les_lon_hr = les_loc_hr[les_hh_hr_idx,2]\n",
    "#print (les_lat_hr)\n",
    "\n",
    "sic_traj = np.empty(len(les_hh_hr_idx))\n",
    "for i in np.arange(len(les_hh_hr_idx)):\n",
    "    abslat = np.abs(sic_lat-les_lat_hr[i])\n",
    "    abslon = np.abs(sic_lon-les_lon_hr[i])\n",
    "    jlat = np.argmin(abslat)\n",
    "    ilon = np.argmin(abslon)\n",
    "    #print (les_lat[i],les_lon[i])\n",
    "    #print (jlat,ilon)\n",
    "    sic_traj[i] = sic[jlat,ilon]\n",
    "    #print (les_lat_hr[i],les_lon_hr[i],les_hh_hr[les_hh_hr_idx[i]],sic_traj[i])"
   ]
  },
  {
   "cell_type": "markdown",
   "metadata": {},
   "source": [
    "### Read in data from ERA5 backtrajectory (netCDF)"
   ]
  },
  {
   "cell_type": "code",
   "execution_count": 212,
   "metadata": {},
   "outputs": [],
   "source": [
    "# File name\n",
    "fname = 'theta_temp_rh_sh_uvw_sst_along_trajectory_era5ml_28h_end_2020-03-13-18.nc'\n",
    "\n",
    "# Open dataset\n",
    "dataset = netCDF4.Dataset(fname, \"r\")\n",
    "\n",
    "# Read variables (1D arrays are time, 2D arrays are time x pressure level)\n",
    "hours = dataset.variables['Time'][:]\n",
    "lat = dataset.variables['Latitude'][:]\n",
    "lon = dataset.variables['Longitude'][:]\n",
    "#pres = dataset.variables['Pressure'][:]\n",
    "#sfc_pres = dataset.variables['SfcPres'][:]\n",
    "sst = dataset.variables['SST'][:]\n",
    "#hgt = dataset.variables['GEOS_HT'][:,:]\n",
    "#uwnd = dataset.variables['U'][:,:]\n",
    "#vwnd = dataset.variables['V'][:,:]\n",
    "#wwnd = dataset.variables['W'][:,:]\n",
    "#temp = dataset.variables['Temp'][:,:]\n",
    "#theta = dataset.variables['Theta'][:,:]\n",
    "#qv = dataset.variables['SH'][:,:]\n",
    "#o3 = dataset.variables['O3'][:,:]"
   ]
  },
  {
   "cell_type": "markdown",
   "metadata": {},
   "source": [
    "### Reverse time dimension of 2D arrays, as well as sfc pressure and sst, so that beginning of backward trajectory is in first position"
   ]
  },
  {
   "cell_type": "code",
   "execution_count": 213,
   "metadata": {},
   "outputs": [],
   "source": [
    "#hgt = np.flip(hgt,axis=0)\n",
    "#uwnd = np.flip(uwnd,axis=0)\n",
    "#vwnd = np.flip(vwnd,axis=0)\n",
    "#wwnd = np.flip(wwnd,axis=0)\n",
    "#temp = np.flip(temp,axis=0)\n",
    "#theta = np.flip(theta,axis=0)\n",
    "#qv = np.flip(qv,axis=0)\n",
    "#o3 = np.flip(o3,axis=0)\n",
    "#sfc_pres_pa = sfc_pres_pa[::-1]\n",
    "sst = sst[::-1]"
   ]
  },
  {
   "cell_type": "markdown",
   "metadata": {},
   "source": [
    "### Unmask sst field and get index according to t0_h (furthest north we can go is 28h after backtrajectory initialization from Andenes, or 3/12/20 at 14 UTC)"
   ]
  },
  {
   "cell_type": "code",
   "execution_count": 214,
   "metadata": {},
   "outputs": [],
   "source": [
    "sst_real = ma.getdata(sst)\n",
    "loopidx = np.where(sst_real>0.0)[0]\n",
    "t0 = loopidx[0]"
   ]
  },
  {
   "cell_type": "markdown",
   "metadata": {},
   "source": [
    "### Get time series information for sfc forcing"
   ]
  },
  {
   "cell_type": "code",
   "execution_count": 215,
   "metadata": {},
   "outputs": [
    {
     "name": "stdout",
     "output_type": "stream",
     "text": [
      "Computed TSK for hour 0.0: 247.0 with SIC = 0.96 and SST = 271.46\n",
      "Computed TSK for hour 0.083: 247.0 with SIC = 0.98 and SST = 271.46\n",
      "Computed TSK for hour 0.167: 247.0 with SIC = 0.98 and SST = 271.46\n",
      "Computed TSK for hour 0.25: 247.0 with SIC = 0.99 and SST = 271.46\n",
      "Computed TSK for hour 0.333: 247.0 with SIC = 0.98 and SST = 271.46\n",
      "Computed TSK for hour 0.417: 247.0 with SIC = 0.98 and SST = 271.46\n",
      "Computed TSK for hour 0.5: 247.0 with SIC = 1.0 and SST = 271.46\n",
      "Computed TSK for hour 0.583: 247.0 with SIC = 1.0 and SST = 271.46\n",
      "Computed TSK for hour 0.667: 247.0 with SIC = 1.0 and SST = 271.46\n",
      "Computed TSK for hour 0.75: 247.0 with SIC = 0.99 and SST = 271.46\n",
      "Computed TSK for hour 0.833: 247.0 with SIC = 0.96 and SST = 271.46\n",
      "Computed TSK for hour 0.917: 247.0 with SIC = 0.98 and SST = 271.46\n",
      "Computed TSK for hour 1.0: 247.0 with SIC = 0.98 and SST = 271.46\n",
      "Computed TSK for hour 1.083: 247.0 with SIC = 0.98 and SST = 271.46\n",
      "Computed TSK for hour 1.167: 247.0 with SIC = 0.99 and SST = 271.46\n",
      "Computed TSK for hour 1.25: 247.0 with SIC = 0.98 and SST = 271.46\n",
      "Computed TSK for hour 1.333: 247.0 with SIC = 0.98 and SST = 271.46\n",
      "Computed TSK for hour 1.417: 247.0 with SIC = 0.98 and SST = 271.46\n",
      "Computed TSK for hour 1.5: 247.0 with SIC = 0.98 and SST = 271.46\n",
      "Computed TSK for hour 1.583: 247.0 with SIC = 0.97 and SST = 271.46\n",
      "Computed TSK for hour 1.667: 247.0 with SIC = 0.99 and SST = 271.46\n",
      "Computed TSK for hour 1.75: 247.0 with SIC = 0.99 and SST = 271.46\n",
      "Computed TSK for hour 1.833: 247.0 with SIC = 0.96 and SST = 271.46\n",
      "Computed TSK for hour 1.917: 247.0 with SIC = 0.99 and SST = 271.46\n",
      "Computed TSK for hour 2.0: 247.0 with SIC = 0.99 and SST = 271.46\n",
      "Computed TSK for hour 2.083: 247.0 with SIC = 0.99 and SST = 271.46\n",
      "Computed TSK for hour 2.167: 247.0 with SIC = 0.98 and SST = 271.46\n",
      "Computed TSK for hour 2.25: 247.0 with SIC = 1.0 and SST = 271.46\n",
      "Computed TSK for hour 2.333: 247.0 with SIC = 0.99 and SST = 271.46\n",
      "Computed TSK for hour 2.417: 247.0 with SIC = 0.99 and SST = 271.46\n",
      "Computed TSK for hour 2.5: 247.0 with SIC = 0.99 and SST = 271.46\n",
      "Computed TSK for hour 2.583: 247.0 with SIC = 0.99 and SST = 271.46\n",
      "Computed TSK for hour 2.667: 247.0 with SIC = 0.99 and SST = 271.46\n",
      "Computed TSK for hour 2.75: 247.0 with SIC = 0.99 and SST = 271.46\n",
      "Computed TSK for hour 2.833: 247.0 with SIC = 1.0 and SST = 271.46\n",
      "Computed TSK for hour 2.917: 247.0 with SIC = 0.99 and SST = 271.46\n",
      "Computed TSK for hour 3.0: 247.0 with SIC = 0.99 and SST = 271.46\n",
      "Computed TSK for hour 3.083: 247.0 with SIC = 0.99 and SST = 271.46\n",
      "Computed TSK for hour 3.167: 247.0 with SIC = 0.98 and SST = 271.46\n",
      "Computed TSK for hour 3.25: 247.0 with SIC = 0.98 and SST = 271.46\n",
      "Computed TSK for hour 3.333: 247.0 with SIC = 0.98 and SST = 271.46\n",
      "Computed TSK for hour 3.417: 247.0 with SIC = 0.99 and SST = 271.46\n",
      "Computed TSK for hour 3.5: 247.0 with SIC = 0.99 and SST = 271.46\n",
      "Computed TSK for hour 3.583: 247.0 with SIC = 0.97 and SST = 271.46\n",
      "Computed TSK for hour 3.667: 247.0 with SIC = 0.97 and SST = 271.46\n",
      "Computed TSK for hour 3.75: 247.0 with SIC = 0.98 and SST = 271.46\n",
      "Computed TSK for hour 3.833: 247.0 with SIC = 0.98 and SST = 271.46\n",
      "Computed TSK for hour 3.917: 247.0 with SIC = 0.98 and SST = 271.46\n",
      "Computed TSK for hour 4.0: 247.0 with SIC = 0.98 and SST = 271.46\n",
      "Computed TSK for hour 4.083: 247.0 with SIC = 0.98 and SST = 271.46\n",
      "Computed TSK for hour 4.167: 247.0 with SIC = 0.98 and SST = 271.46\n",
      "Computed TSK for hour 4.25: 247.0 with SIC = 0.98 and SST = 271.46\n",
      "Computed TSK for hour 4.333: 247.0 with SIC = 0.99 and SST = 271.46\n",
      "Computed TSK for hour 4.417: 247.0 with SIC = 0.99 and SST = 271.46\n",
      "Computed TSK for hour 4.5: 247.0 with SIC = 0.99 and SST = 271.46\n",
      "Computed TSK for hour 4.583: 247.0 with SIC = 0.99 and SST = 271.46\n",
      "Computed TSK for hour 4.667: 247.0 with SIC = 0.99 and SST = 271.46\n",
      "Computed TSK for hour 4.75: 247.0 with SIC = 0.99 and SST = 271.46\n",
      "Computed TSK for hour 4.833: 247.0 with SIC = 0.99 and SST = 271.46\n",
      "Computed TSK for hour 4.917: 247.0 with SIC = 0.99 and SST = 271.46\n",
      "Computed TSK for hour 5.0: 247.0 with SIC = 0.99 and SST = 271.46\n",
      "Computed TSK for hour 5.083: 247.0 with SIC = 0.99 and SST = 271.46\n",
      "Computed TSK for hour 5.167: 247.0 with SIC = 0.99 and SST = 271.46\n",
      "Computed TSK for hour 5.25: 247.0 with SIC = 0.99 and SST = 271.46\n",
      "Computed TSK for hour 5.333: 247.0 with SIC = 0.99 and SST = 271.46\n",
      "Computed TSK for hour 5.417: 247.0 with SIC = 0.99 and SST = 271.46\n",
      "Computed TSK for hour 5.5: 247.0 with SIC = 0.99 and SST = 271.46\n",
      "Computed TSK for hour 5.583: 247.0 with SIC = 0.99 and SST = 271.46\n",
      "Computed TSK for hour 5.667: 247.0 with SIC = 0.99 and SST = 271.46\n",
      "Computed TSK for hour 5.75: 247.0 with SIC = 0.98 and SST = 271.46\n",
      "Computed TSK for hour 5.833: 247.0 with SIC = 0.98 and SST = 271.46\n",
      "Computed TSK for hour 5.917: 247.0 with SIC = 0.98 and SST = 271.46\n",
      "Computed TSK for hour 6.0: 247.0 with SIC = 0.98 and SST = 271.46\n",
      "Computed TSK for hour 6.083: 247.0 with SIC = 0.98 and SST = 271.46\n",
      "Computed TSK for hour 6.167: 247.0 with SIC = 0.98 and SST = 271.46\n",
      "Computed TSK for hour 6.25: 247.0 with SIC = 0.98 and SST = 271.46\n",
      "Computed TSK for hour 6.333: 247.0 with SIC = 0.98 and SST = 271.46\n",
      "Computed TSK for hour 6.417: 247.0 with SIC = 0.98 and SST = 271.46\n",
      "Computed TSK for hour 6.5: 247.0 with SIC = 0.98 and SST = 271.46\n",
      "Computed TSK for hour 6.583: 247.0 with SIC = 0.97 and SST = 271.46\n",
      "Computed TSK for hour 6.667: 247.0 with SIC = 0.97 and SST = 271.46\n",
      "Computed TSK for hour 6.75: 247.0 with SIC = 0.97 and SST = 271.46\n",
      "Computed TSK for hour 6.833: 247.0 with SIC = 0.99 and SST = 271.46\n",
      "Computed TSK for hour 6.917: 247.0 with SIC = 0.99 and SST = 271.46\n",
      "Computed TSK for hour 7.0: 247.0 with SIC = 0.99 and SST = 271.46\n",
      "Computed TSK for hour 7.083: 247.0 with SIC = 0.99 and SST = 271.46\n",
      "Computed TSK for hour 7.167: 247.0 with SIC = 0.98 and SST = 271.46\n",
      "Computed TSK for hour 7.25: 247.0 with SIC = 0.98 and SST = 271.46\n",
      "Computed TSK for hour 7.333: 247.0 with SIC = 0.98 and SST = 271.46\n",
      "Computed TSK for hour 7.417: 247.0 with SIC = 0.98 and SST = 271.46\n",
      "Computed TSK for hour 7.5: 247.0 with SIC = 0.99 and SST = 271.46\n",
      "Computed TSK for hour 7.583: 247.0 with SIC = 0.99 and SST = 271.46\n",
      "Computed TSK for hour 7.667: 247.0 with SIC = 0.99 and SST = 271.46\n",
      "Computed TSK for hour 7.75: 247.0 with SIC = 0.99 and SST = 271.46\n",
      "Computed TSK for hour 7.833: 247.0 with SIC = 0.99 and SST = 271.46\n",
      "Computed TSK for hour 7.917: 247.0 with SIC = 0.99 and SST = 271.46\n",
      "Computed TSK for hour 8.0: 247.0 with SIC = 0.99 and SST = 271.46\n",
      "Computed TSK for hour 8.083: 247.0 with SIC = 0.97 and SST = 271.46\n",
      "Computed TSK for hour 8.167: 247.0 with SIC = 0.96 and SST = 271.46\n",
      "Computed TSK for hour 8.25: 247.0 with SIC = 0.98 and SST = 271.46\n",
      "Computed TSK for hour 8.333: 247.0 with SIC = 0.98 and SST = 271.46\n",
      "Computed TSK for hour 8.417: 247.0 with SIC = 0.98 and SST = 271.46\n",
      "Computed TSK for hour 8.5: 247.0 with SIC = 0.98 and SST = 271.46\n",
      "Computed TSK for hour 8.583: 247.0 with SIC = 1.0 and SST = 271.46\n",
      "Computed TSK for hour 8.667: 247.0 with SIC = 1.0 and SST = 271.46\n",
      "Computed TSK for hour 8.75: 247.0 with SIC = 1.0 and SST = 271.46\n",
      "Computed TSK for hour 8.833: 247.0 with SIC = 1.0 and SST = 271.46\n",
      "Computed TSK for hour 8.917: 247.0 with SIC = 1.0 and SST = 271.46\n",
      "Computed TSK for hour 9.0: 247.0 with SIC = 0.97 and SST = 271.46\n",
      "Computed TSK for hour 9.083: 247.0 with SIC = 0.98 and SST = 271.46\n",
      "Computed TSK for hour 9.167: 247.0 with SIC = 0.99 and SST = 271.46\n",
      "Computed TSK for hour 9.25: 247.0 with SIC = 0.99 and SST = 271.46\n",
      "Computed TSK for hour 9.333: 247.0 with SIC = 0.98 and SST = 271.46\n",
      "Computed TSK for hour 9.417: 247.0 with SIC = 0.99 and SST = 271.46\n",
      "Computed TSK for hour 9.5: 247.0 with SIC = 0.98 and SST = 271.46\n",
      "Computed TSK for hour 9.583: 247.0 with SIC = 0.98 and SST = 271.46\n",
      "Computed TSK for hour 9.667: 247.0 with SIC = 0.98 and SST = 271.46\n",
      "Computed TSK for hour 9.75: 247.0 with SIC = 0.95 and SST = 271.46\n",
      "Computed TSK for hour 9.833: 247.0 with SIC = 0.95 and SST = 271.46\n",
      "Computed TSK for hour 9.917: 249.935 with SIC = 0.88 and SST = 271.46\n",
      "Computed TSK for hour 10.0: 249.935 with SIC = 0.88 and SST = 271.46\n",
      "Computed TSK for hour 10.083: 247.0 with SIC = 0.95 and SST = 271.652\n",
      "Computed TSK for hour 10.167: 247.0 with SIC = 0.95 and SST = 271.844\n",
      "Computed TSK for hour 10.25: 263.774 with SIC = 0.33 and SST = 272.035\n",
      "Computed TSK for hour 10.333: 263.902 with SIC = 0.33 and SST = 272.227\n",
      "Computed TSK for hour 10.417: 264.031 with SIC = 0.33 and SST = 272.419\n",
      "Computed TSK for hour 10.5: 265.184 with SIC = 0.29 and SST = 272.611\n",
      "Computed TSK for hour 10.583: 265.32 with SIC = 0.29 and SST = 272.803\n",
      "Computed TSK for hour 10.667: 269.615 with SIC = 0.13 and SST = 272.994\n",
      "Computed TSK for hour 10.75: 269.782 with SIC = 0.13 and SST = 273.186\n",
      "Computed TSK for hour 10.833: 271.004 with SIC = 0.09 and SST = 273.378\n",
      "Computed TSK for hour 10.917: 268.256 with SIC = 0.2 and SST = 273.57\n",
      "Computed TSK for hour 11.0: 271.086 with SIC = 0.1 and SST = 273.762\n",
      "Computed TSK for hour 11.083: 271.207 with SIC = 0.1 and SST = 273.897\n",
      "Computed TSK for hour 11.167: 271.329 with SIC = 0.1 and SST = 274.032\n",
      "Computed TSK for hour 11.25: 274.167 with SIC = 0.0 and SST = 274.167\n",
      "Computed TSK for hour 11.333: 274.302 with SIC = 0.0 and SST = 274.302\n",
      "Computed TSK for hour 11.417: 274.437 with SIC = 0.0 and SST = 274.437\n",
      "Computed TSK for hour 11.5: 274.572 with SIC = 0.0 and SST = 274.572\n",
      "Computed TSK for hour 11.583: 274.707 with SIC = 0.0 and SST = 274.707\n",
      "Computed TSK for hour 11.667: 274.842 with SIC = 0.0 and SST = 274.842\n",
      "Computed TSK for hour 11.75: 274.978 with SIC = 0.0 and SST = 274.978\n",
      "Computed TSK for hour 11.833: 275.113 with SIC = 0.0 and SST = 275.113\n",
      "Computed TSK for hour 11.917: 275.248 with SIC = 0.0 and SST = 275.248\n",
      "Computed TSK for hour 12.0: 275.383 with SIC = 0.0 and SST = 275.383\n",
      "Computed TSK for hour 12.083: 275.366 with SIC = 0.0 and SST = 275.366\n",
      "Computed TSK for hour 12.167: 275.349 with SIC = 0.0 and SST = 275.349\n",
      "Computed TSK for hour 12.25: 275.333 with SIC = 0.0 and SST = 275.333\n",
      "Computed TSK for hour 12.333: 275.316 with SIC = 0.0 and SST = 275.316\n",
      "Computed TSK for hour 12.417: 275.299 with SIC = 0.0 and SST = 275.299\n",
      "Computed TSK for hour 12.5: 275.282 with SIC = 0.0 and SST = 275.282\n",
      "Computed TSK for hour 12.583: 275.265 with SIC = 0.0 and SST = 275.265\n",
      "Computed TSK for hour 12.667: 275.249 with SIC = 0.0 and SST = 275.249\n",
      "Computed TSK for hour 12.75: 275.232 with SIC = 0.0 and SST = 275.232\n",
      "Computed TSK for hour 12.833: 275.215 with SIC = 0.0 and SST = 275.215\n",
      "Computed TSK for hour 12.917: 275.198 with SIC = 0.0 and SST = 275.198\n",
      "Computed TSK for hour 13.0: 275.182 with SIC = 0.0 and SST = 275.182\n",
      "Computed TSK for hour 13.083: 275.205 with SIC = 0.0 and SST = 275.205\n",
      "Computed TSK for hour 13.167: 275.228 with SIC = 0.0 and SST = 275.228\n",
      "Computed TSK for hour 13.25: 275.251 with SIC = 0.0 and SST = 275.251\n",
      "Computed TSK for hour 13.333: 275.275 with SIC = 0.0 and SST = 275.275\n",
      "Computed TSK for hour 13.417: 275.298 with SIC = 0.0 and SST = 275.298\n",
      "Computed TSK for hour 13.5: 275.321 with SIC = 0.0 and SST = 275.321\n",
      "Computed TSK for hour 13.583: 275.345 with SIC = 0.0 and SST = 275.345\n",
      "Computed TSK for hour 13.667: 275.368 with SIC = 0.0 and SST = 275.368\n",
      "Computed TSK for hour 13.75: 275.391 with SIC = 0.0 and SST = 275.391\n",
      "Computed TSK for hour 13.833: 275.414 with SIC = 0.0 and SST = 275.414\n",
      "Computed TSK for hour 13.917: 275.438 with SIC = 0.0 and SST = 275.438\n",
      "Computed TSK for hour 14.0: 275.461 with SIC = 0.0 and SST = 275.461\n",
      "Computed TSK for hour 14.083: 275.489 with SIC = 0.0 and SST = 275.489\n",
      "Computed TSK for hour 14.167: 275.518 with SIC = 0.0 and SST = 275.518\n",
      "Computed TSK for hour 14.25: 275.546 with SIC = 0.0 and SST = 275.546\n",
      "Computed TSK for hour 14.333: 275.575 with SIC = 0.0 and SST = 275.575\n",
      "Computed TSK for hour 14.417: 275.603 with SIC = 0.0 and SST = 275.603\n",
      "Computed TSK for hour 14.5: 275.632 with SIC = 0.0 and SST = 275.632\n",
      "Computed TSK for hour 14.583: 275.66 with SIC = 0.0 and SST = 275.66\n",
      "Computed TSK for hour 14.667: 275.689 with SIC = 0.0 and SST = 275.689\n",
      "Computed TSK for hour 14.75: 275.717 with SIC = 0.0 and SST = 275.717\n",
      "Computed TSK for hour 14.833: 275.746 with SIC = 0.0 and SST = 275.746\n",
      "Computed TSK for hour 14.917: 275.774 with SIC = 0.0 and SST = 275.774\n",
      "Computed TSK for hour 15.0: 275.803 with SIC = 0.0 and SST = 275.803\n",
      "Computed TSK for hour 15.083: 275.841 with SIC = 0.0 and SST = 275.841\n",
      "Computed TSK for hour 15.167: 275.88 with SIC = 0.0 and SST = 275.88\n",
      "Computed TSK for hour 15.25: 275.918 with SIC = 0.0 and SST = 275.918\n",
      "Computed TSK for hour 15.333: 275.956 with SIC = 0.0 and SST = 275.956\n",
      "Computed TSK for hour 15.417: 275.995 with SIC = 0.0 and SST = 275.995\n",
      "Computed TSK for hour 15.5: 276.033 with SIC = 0.0 and SST = 276.033\n",
      "Computed TSK for hour 15.583: 276.072 with SIC = 0.0 and SST = 276.072\n",
      "Computed TSK for hour 15.667: 276.11 with SIC = 0.0 and SST = 276.11\n",
      "Computed TSK for hour 15.75: 276.148 with SIC = 0.0 and SST = 276.148\n",
      "Computed TSK for hour 15.833: 276.187 with SIC = 0.0 and SST = 276.187\n",
      "Computed TSK for hour 15.917: 276.225 with SIC = 0.0 and SST = 276.225\n",
      "Computed TSK for hour 16.0: 276.264 with SIC = 0.0 and SST = 276.264\n",
      "Computed TSK for hour 16.083: 276.288 with SIC = 0.0 and SST = 276.288\n",
      "Computed TSK for hour 16.167: 276.313 with SIC = 0.0 and SST = 276.313\n",
      "Computed TSK for hour 16.25: 276.338 with SIC = 0.0 and SST = 276.338\n",
      "Computed TSK for hour 16.333: 276.362 with SIC = 0.0 and SST = 276.362\n",
      "Computed TSK for hour 16.417: 276.387 with SIC = 0.0 and SST = 276.387\n",
      "Computed TSK for hour 16.5: 276.412 with SIC = 0.0 and SST = 276.412\n",
      "Computed TSK for hour 16.583: 276.436 with SIC = 0.0 and SST = 276.436\n",
      "Computed TSK for hour 16.667: 276.461 with SIC = 0.0 and SST = 276.461\n",
      "Computed TSK for hour 16.75: 276.486 with SIC = 0.0 and SST = 276.486\n",
      "Computed TSK for hour 16.833: 276.51 with SIC = 0.0 and SST = 276.51\n",
      "Computed TSK for hour 16.917: 276.535 with SIC = 0.0 and SST = 276.535\n",
      "Computed TSK for hour 17.0: 276.56 with SIC = 0.0 and SST = 276.56\n",
      "Computed TSK for hour 17.083: 276.578 with SIC = 0.0 and SST = 276.578\n",
      "Computed TSK for hour 17.167: 276.596 with SIC = 0.0 and SST = 276.596\n",
      "Computed TSK for hour 17.25: 276.614 with SIC = 0.0 and SST = 276.614\n",
      "Computed TSK for hour 17.333: 276.632 with SIC = 0.0 and SST = 276.632\n",
      "Computed TSK for hour 17.417: 276.65 with SIC = 0.0 and SST = 276.65\n",
      "Computed TSK for hour 17.5: 276.668 with SIC = 0.0 and SST = 276.668\n",
      "Computed TSK for hour 17.583: 276.687 with SIC = 0.0 and SST = 276.687\n",
      "Computed TSK for hour 17.667: 276.705 with SIC = 0.0 and SST = 276.705\n",
      "Computed TSK for hour 17.75: 276.723 with SIC = 0.0 and SST = 276.723\n",
      "Computed TSK for hour 17.833: 276.741 with SIC = 0.0 and SST = 276.741\n",
      "Computed TSK for hour 17.917: 276.759 with SIC = 0.0 and SST = 276.759\n",
      "Computed TSK for hour 18.0: 276.777 with SIC = 0.0 and SST = 276.777\n",
      "Computed TSK for hour 18.083: 276.821 with SIC = 0.0 and SST = 276.821\n",
      "Computed TSK for hour 18.167: 276.864 with SIC = 0.0 and SST = 276.864\n",
      "Computed TSK for hour 18.25: 276.908 with SIC = 0.0 and SST = 276.908\n",
      "Computed TSK for hour 18.333: 276.951 with SIC = 0.0 and SST = 276.951\n",
      "Computed TSK for hour 18.417: 276.995 with SIC = 0.0 and SST = 276.995\n",
      "Computed TSK for hour 18.5: 277.039 with SIC = 0.0 and SST = 277.039\n",
      "Computed TSK for hour 18.583: 277.082 with SIC = 0.0 and SST = 277.082\n",
      "Computed TSK for hour 18.667: 277.126 with SIC = 0.0 and SST = 277.126\n",
      "Computed TSK for hour 18.75: 277.169 with SIC = 0.0 and SST = 277.169\n",
      "Computed TSK for hour 18.833: 277.213 with SIC = 0.0 and SST = 277.213\n",
      "Computed TSK for hour 18.917: 277.256 with SIC = 0.0 and SST = 277.256\n",
      "Computed TSK for hour 19.0: 277.3 with SIC = 0.0 and SST = 277.3\n",
      "Computed TSK for hour 19.083: 277.345 with SIC = 0.0 and SST = 277.345\n",
      "Computed TSK for hour 19.167: 277.391 with SIC = 0.0 and SST = 277.391\n",
      "Computed TSK for hour 19.25: 277.436 with SIC = 0.0 and SST = 277.436\n",
      "Computed TSK for hour 19.333: 277.481 with SIC = 0.0 and SST = 277.481\n",
      "Computed TSK for hour 19.417: 277.527 with SIC = 0.0 and SST = 277.527\n",
      "Computed TSK for hour 19.5: 277.572 with SIC = 0.0 and SST = 277.572\n",
      "Computed TSK for hour 19.583: 277.618 with SIC = 0.0 and SST = 277.618\n",
      "Computed TSK for hour 19.667: 277.663 with SIC = 0.0 and SST = 277.663\n",
      "Computed TSK for hour 19.75: 277.708 with SIC = 0.0 and SST = 277.708\n",
      "Computed TSK for hour 19.833: 277.754 with SIC = 0.0 and SST = 277.754\n",
      "Computed TSK for hour 19.917: 277.799 with SIC = 0.0 and SST = 277.799\n",
      "Computed TSK for hour 20.0: 277.845 with SIC = 0.0 and SST = 277.845\n",
      "Computed TSK for hour 20.083: 277.856 with SIC = 0.0 and SST = 277.856\n",
      "Computed TSK for hour 20.167: 277.868 with SIC = 0.0 and SST = 277.868\n",
      "Computed TSK for hour 20.25: 277.879 with SIC = 0.0 and SST = 277.879\n",
      "Computed TSK for hour 20.333: 277.89 with SIC = 0.0 and SST = 277.89\n",
      "Computed TSK for hour 20.417: 277.902 with SIC = 0.0 and SST = 277.902\n",
      "Computed TSK for hour 20.5: 277.913 with SIC = 0.0 and SST = 277.913\n",
      "Computed TSK for hour 20.583: 277.924 with SIC = 0.0 and SST = 277.924\n",
      "Computed TSK for hour 20.667: 277.936 with SIC = 0.0 and SST = 277.936\n",
      "Computed TSK for hour 20.75: 277.947 with SIC = 0.0 and SST = 277.947\n",
      "Computed TSK for hour 20.833: 277.959 with SIC = 0.0 and SST = 277.959\n",
      "Computed TSK for hour 20.917: 277.97 with SIC = 0.0 and SST = 277.97\n",
      "Computed TSK for hour 21.0: 277.981 with SIC = 0.0 and SST = 277.981\n",
      "Computed TSK for hour 21.083: 277.998 with SIC = 0.0 and SST = 277.998\n",
      "Computed TSK for hour 21.167: 278.014 with SIC = 0.0 and SST = 278.014\n",
      "Computed TSK for hour 21.25: 278.031 with SIC = 0.0 and SST = 278.031\n",
      "Computed TSK for hour 21.333: 278.047 with SIC = 0.0 and SST = 278.047\n",
      "Computed TSK for hour 21.417: 278.063 with SIC = 0.0 and SST = 278.063\n",
      "Computed TSK for hour 21.5: 278.08 with SIC = 0.0 and SST = 278.08\n",
      "Computed TSK for hour 21.583: 278.096 with SIC = 0.0 and SST = 278.096\n",
      "Computed TSK for hour 21.667: 278.112 with SIC = 0.0 and SST = 278.112\n",
      "Computed TSK for hour 21.75: 278.129 with SIC = 0.0 and SST = 278.129\n",
      "Computed TSK for hour 21.833: 278.145 with SIC = 0.0 and SST = 278.145\n",
      "Computed TSK for hour 21.917: 278.161 with SIC = 0.0 and SST = 278.161\n",
      "Computed TSK for hour 22.0: 278.178 with SIC = 0.0 and SST = 278.178\n",
      "Computed TSK for hour 22.083: 278.208 with SIC = 0.0 and SST = 278.208\n",
      "Computed TSK for hour 22.167: 278.238 with SIC = 0.0 and SST = 278.238\n",
      "Computed TSK for hour 22.25: 278.269 with SIC = 0.0 and SST = 278.269\n",
      "Computed TSK for hour 22.333: 278.299 with SIC = 0.0 and SST = 278.299\n",
      "Computed TSK for hour 22.417: 278.329 with SIC = 0.0 and SST = 278.329\n",
      "Computed TSK for hour 22.5: 278.359 with SIC = 0.0 and SST = 278.359\n",
      "Computed TSK for hour 22.583: 278.39 with SIC = 0.0 and SST = 278.39\n",
      "Computed TSK for hour 22.667: 278.42 with SIC = 0.0 and SST = 278.42\n",
      "Computed TSK for hour 22.75: 278.45 with SIC = 0.0 and SST = 278.45\n",
      "Computed TSK for hour 22.833: 278.48 with SIC = 0.0 and SST = 278.48\n",
      "Computed TSK for hour 22.917: 278.511 with SIC = 0.0 and SST = 278.511\n",
      "Computed TSK for hour 23.0: 278.541 with SIC = 0.0 and SST = 278.541\n",
      "Computed TSK for hour 23.083: 278.592 with SIC = 0.0 and SST = 278.592\n",
      "Computed TSK for hour 23.167: 278.642 with SIC = 0.0 and SST = 278.642\n",
      "Computed TSK for hour 23.25: 278.693 with SIC = 0.0 and SST = 278.693\n",
      "Computed TSK for hour 23.333: 278.744 with SIC = 0.0 and SST = 278.744\n",
      "Computed TSK for hour 23.417: 278.795 with SIC = 0.0 and SST = 278.795\n",
      "Computed TSK for hour 23.5: 278.845 with SIC = 0.0 and SST = 278.845\n",
      "Computed TSK for hour 23.583: 278.896 with SIC = 0.0 and SST = 278.896\n",
      "Computed TSK for hour 23.667: 278.947 with SIC = 0.0 and SST = 278.947\n",
      "Computed TSK for hour 23.75: 278.997 with SIC = 0.0 and SST = 278.997\n",
      "Computed TSK for hour 23.833: 279.048 with SIC = 0.0 and SST = 279.048\n",
      "Computed TSK for hour 23.917: 279.099 with SIC = 0.0 and SST = 279.099\n",
      "Computed TSK for hour 24.0: 279.149 with SIC = 0.0 and SST = 279.149\n",
      "Computed TSK for hour 24.083: 279.169 with SIC = 0.0 and SST = 279.169\n",
      "Computed TSK for hour 24.167: 279.188 with SIC = 0.0 and SST = 279.188\n",
      "Computed TSK for hour 24.25: 279.207 with SIC = 0.0 and SST = 279.207\n",
      "Computed TSK for hour 24.333: 279.227 with SIC = 0.0 and SST = 279.227\n",
      "Computed TSK for hour 24.417: 279.246 with SIC = 0.0 and SST = 279.246\n",
      "Computed TSK for hour 24.5: 279.265 with SIC = 0.0 and SST = 279.265\n",
      "Computed TSK for hour 24.583: 279.284 with SIC = 0.0 and SST = 279.284\n",
      "Computed TSK for hour 24.667: 279.304 with SIC = 0.0 and SST = 279.304\n",
      "Computed TSK for hour 24.75: 279.323 with SIC = 0.0 and SST = 279.323\n",
      "Computed TSK for hour 24.833: 279.342 with SIC = 0.0 and SST = 279.342\n",
      "Computed TSK for hour 24.917: 279.362 with SIC = 0.0 and SST = 279.362\n",
      "Computed TSK for hour 25.0: 279.381 with SIC = 0.0 and SST = 279.381\n",
      "Computed TSK for hour 25.083: 279.385 with SIC = 0.0 and SST = 279.385\n",
      "Computed TSK for hour 25.167: 279.39 with SIC = 0.0 and SST = 279.39\n",
      "Computed TSK for hour 25.25: 279.394 with SIC = 0.0 and SST = 279.394\n",
      "Computed TSK for hour 25.333: 279.399 with SIC = 0.0 and SST = 279.399\n",
      "Computed TSK for hour 25.417: 279.403 with SIC = 0.0 and SST = 279.403\n",
      "Computed TSK for hour 25.5: 279.408 with SIC = 0.0 and SST = 279.408\n",
      "Computed TSK for hour 25.583: 279.412 with SIC = 0.0 and SST = 279.412\n",
      "Computed TSK for hour 25.667: 279.417 with SIC = 0.0 and SST = 279.417\n",
      "Computed TSK for hour 25.75: 279.421 with SIC = 0.0 and SST = 279.421\n",
      "Computed TSK for hour 25.833: 279.426 with SIC = 0.0 and SST = 279.426\n",
      "Computed TSK for hour 25.917: 279.43 with SIC = 0.0 and SST = 279.43\n",
      "Computed TSK for hour 26.0: 279.435 with SIC = 0.0 and SST = 279.435\n",
      "Computed TSK for hour 26.083: 279.425 with SIC = 0.0 and SST = 279.425\n",
      "Computed TSK for hour 26.167: 279.416 with SIC = 0.0 and SST = 279.416\n",
      "Computed TSK for hour 26.25: 279.407 with SIC = 0.0 and SST = 279.407\n",
      "Computed TSK for hour 26.333: 279.397 with SIC = 0.0 and SST = 279.397\n",
      "Computed TSK for hour 26.417: 279.388 with SIC = 0.0 and SST = 279.388\n",
      "Computed TSK for hour 26.5: 279.379 with SIC = 0.0 and SST = 279.379\n",
      "Computed TSK for hour 26.583: 279.37 with SIC = 0.0 and SST = 279.37\n",
      "Computed TSK for hour 26.667: 279.36 with SIC = 0.0 and SST = 279.36\n",
      "Computed TSK for hour 26.75: 279.351 with SIC = 0.0 and SST = 279.351\n",
      "Computed TSK for hour 26.833: 279.342 with SIC = 0.0 and SST = 279.342\n",
      "Computed TSK for hour 26.917: 279.333 with SIC = 0.0 and SST = 279.333\n",
      "Computed TSK for hour 27.0: 279.323 with SIC = 0.0 and SST = 279.323\n",
      "Computed TSK for hour 27.083: 279.195 with SIC = 0.0 and SST = 279.195\n",
      "Computed TSK for hour 27.167: 279.068 with SIC = 0.0 and SST = 279.068\n",
      "Computed TSK for hour 27.25: 278.94 with SIC = 0.0 and SST = 278.94\n",
      "Computed TSK for hour 27.333: 278.812 with SIC = 0.0 and SST = 278.812\n",
      "Computed TSK for hour 27.417: 278.684 with SIC = 0.0 and SST = 278.684\n",
      "Computed TSK for hour 27.5: 278.557 with SIC = 0.0 and SST = 278.557\n",
      "Computed TSK for hour 27.583: 278.429 with SIC = 0.0 and SST = 278.429\n",
      "Computed TSK for hour 27.667: 278.301 with SIC = 0.0 and SST = 278.301\n",
      "Computed TSK for hour 27.75: 278.173 with SIC = 0.0 and SST = 278.173\n",
      "Computed TSK for hour 27.833: 278.046 with SIC = 0.0 and SST = 278.046\n",
      "Computed TSK for hour 27.917: 277.918 with SIC = 0.0 and SST = 277.918\n",
      "Computed TSK for hour 28.0: 277.79 with SIC = 0.0 and SST = 277.79\n"
     ]
    }
   ],
   "source": [
    "# Interpolate SST\n",
    "tmp_hh = np.arange(-10,19,1) # these are the hours we have SST data from the ERA5 backward trajectory file\n",
    "f = interpolate.interp1d(tmp_hh, sst[t0:])\n",
    "sst_interp = f(les_hh_hr[les_hh_hr_idx])\n",
    "#print (sst_interp)\n",
    "\n",
    "# Modification for over ice/MIZ\n",
    "tsk_ice = 247.0\n",
    "sst_ts = np.empty(len(sic_traj))\n",
    "for i in np.arange(len(sic_traj)):\n",
    "    #if t0_h == 10:\n",
    "    #    if i == 0:\n",
    "    #        # Insert first position since backward trajectory file does not have t=0 (-28h)\n",
    "    #        sst_ts[i] = tsk_ice\n",
    "    #        print ('Computed TSK for hour ' + str(round(5*i/60.,3)) + ': ' + str(round(sst_ts[i],3)))\n",
    "    if sic_traj[i] > 90.0: # over ice\n",
    "        sst_ts[i] = tsk_ice\n",
    "    elif sic_traj[i] > 0.0: # MIZ\n",
    "        sst_ts[i] = (sic_traj[i]/100.)*tsk_ice + (1.-(sic_traj[i]/100.))*sst_interp[i] # MIZ\n",
    "    else: # open ocean\n",
    "        sst_ts[i] = sst_interp[i]\n",
    "    #if t0_h == 10:\n",
    "    #    # Do some printing magic\n",
    "    #    print ('Computed TSK for hour ' + str(round(5/60.+5*i/60.,3)) + ': '\n",
    "    #           + str(round(sst_ts[i],3)) + ' with SIC = ' + str(sic_traj[i]/100.) +\n",
    "    #           ' and SST = ' + str(round(sst_interp[i],3)))\n",
    "    #else:\n",
    "    print ('Computed TSK for hour ' + str(round(5*i/60.,3)) + ': '\n",
    "           + str(round(sst_ts[i],3)) + ' with SIC = ' + str(sic_traj[i]/100.) +\n",
    "           ' and SST = ' + str(round(sst_interp[i],3)))\n",
    "    \n",
    "# Insert first position since"
   ]
  },
  {
   "cell_type": "markdown",
   "metadata": {},
   "source": [
    "### Create new netcdf file"
   ]
  },
  {
   "cell_type": "code",
   "execution_count": 216,
   "metadata": {},
   "outputs": [],
   "source": [
    "try: ncfile.close()  # just to be safe, make sure dataset is not already open.\n",
    "except: pass\n",
    "ncfile = Dataset('./' + savename,mode='w',format='NETCDF3_CLASSIC') \n",
    "#print(ncfile)"
   ]
  },
  {
   "cell_type": "markdown",
   "metadata": {},
   "source": [
    "### Create dimensions"
   ]
  },
  {
   "cell_type": "code",
   "execution_count": 217,
   "metadata": {},
   "outputs": [],
   "source": [
    "#levs = len(zgeoi)\n",
    "#levs_o3 = len(pres_t0_o3)\n",
    "#z_grid_levs = len(z_grid)\n",
    "#t0_dim = ncfile.createDimension('t0', 1)     # initial time axis\n",
    "#lat_dim = ncfile.createDimension('lat', 1)     # latitude axis\n",
    "#lon_dim = ncfile.createDimension('lon', 1)     # longitude axis\n",
    "#lev_dim = ncfile.createDimension('lev', levs)      # level axis\n",
    "#pres_o3_dim = ncfile.createDimension('pres_o3', levs_o3)      # level axis for o3\n",
    "#zw_grid_dim = ncfile.createDimension('zw_grid', z_grid_levs)      # zw_grid axis\n",
    "time_dim = ncfile.createDimension('time', None)    # unlimited axis (can be appended to)\n",
    "#for dim in ncfile.dimensions.items():\n",
    "#    print(dim)"
   ]
  },
  {
   "cell_type": "markdown",
   "metadata": {},
   "source": [
    "### Create global attributes"
   ]
  },
  {
   "cell_type": "code",
   "execution_count": 218,
   "metadata": {},
   "outputs": [],
   "source": [
    "ncfile.title='Forcing and initial conditions for 13 March 2020 COMBLE intercomparison case'\n",
    "ncfile.reference='https://comble-intercomparison.readthedocs.io/en/latest/'\n",
    "ncfile.authors='Timothy W. Juliano (NCAR/RAL, tjuliano@ucar.edu); Florian Tornow (NASA/GISS, ft2544@columbia.edu); Ann M. Fridlind (NASA/GISS, ann.fridlind@nasa.gov)'\n",
    "ncfile.version='Created on 2022-11-21'\n",
    "ncfile.format_version='DEPHY SCM format version 1.6'\n",
    "ncfile.script='create_comble_forcing.ipynb'\n",
    "ncfile.startDate=start_time\n",
    "ncfile.endDate='2020-03-13 18:00:00'\n",
    "ncfile.force_geo=1\n",
    "ncfile.surfaceType='ocean'\n",
    "ncfile.surfaceForcing='ts'\n",
    "ncfile.lat=str(les_lat_mid) + ' deg N'\n",
    "ncfile.dx='150 m'\n",
    "ncfile.dy='150 m'\n",
    "ncfile.dz='see zw_grid variable'\n",
    "ncfile.nx='648'\n",
    "ncfile.ny='648'\n",
    "ncfile.nz='160'"
   ]
  },
  {
   "cell_type": "markdown",
   "metadata": {},
   "source": [
    "### Create variables"
   ]
  },
  {
   "cell_type": "markdown",
   "metadata": {},
   "source": [
    "#### Dimensions"
   ]
  },
  {
   "cell_type": "code",
   "execution_count": 219,
   "metadata": {},
   "outputs": [],
   "source": [
    "#t0_time = ncfile.createVariable('t0', np.float32, ('t0',))\n",
    "#t0_time.units = 'seconds since 2020-03-12 22:00:00'\n",
    "#t0_time.long_name = 'Initial time'\n",
    "\n",
    "#latitude = ncfile.createVariable('lat', np.float32, ('lat',))\n",
    "#latitude.units = 'degrees_north'\n",
    "#latitude.long_name = 'latitude'\n",
    "\n",
    "#longitude = ncfile.createVariable('lon', np.float32, ('lon',))\n",
    "#longitude.units = 'degrees_east'\n",
    "#longitude.long_name = 'longitude'\n",
    "\n",
    "time = ncfile.createVariable('time', np.float64, ('time',))\n",
    "time.units = 'seconds since ' + start_time\n",
    "time.long_name = 'time'\n",
    "\n",
    "#lev = ncfile.createVariable('lev', np.float64, ('lev',))\n",
    "#lev.units = 'm'\n",
    "#lev.long_name = 'altitude'\n",
    "\n",
    "#pressure_o3 = ncfile.createVariable('pres_o3', np.float64, ('pres_o3',))\n",
    "#pressure_o3.units = 'Pa'\n",
    "#pressure_o3.long_name = 'pressure for o3'"
   ]
  },
  {
   "cell_type": "markdown",
   "metadata": {},
   "source": [
    "#### Time-varying forcing - surface"
   ]
  },
  {
   "cell_type": "code",
   "execution_count": 220,
   "metadata": {},
   "outputs": [],
   "source": [
    "ts = ncfile.createVariable('ts', np.float64, ('time',))\n",
    "ts.units = 'K'\n",
    "ts.long_name = 'surface temperature'"
   ]
  },
  {
   "cell_type": "markdown",
   "metadata": {},
   "source": [
    "### Write data"
   ]
  },
  {
   "cell_type": "code",
   "execution_count": 221,
   "metadata": {},
   "outputs": [],
   "source": [
    "ts[:] = sst_ts"
   ]
  },
  {
   "cell_type": "markdown",
   "metadata": {},
   "source": [
    "### Add times"
   ]
  },
  {
   "cell_type": "code",
   "execution_count": 222,
   "metadata": {},
   "outputs": [],
   "source": [
    "dates = []\n",
    "nmin = int((18 + t0_h)*12 + 1)\n",
    "curr_hh = copy.deepcopy(start_hour)\n",
    "curr_dd = copy.deepcopy(start_day)\n",
    "ii = 0\n",
    "first_pass = 1\n",
    "for i in np.arange(nmin):\n",
    "    curr_min = 5*ii\n",
    "    if curr_min % 60 == 0 and first_pass == 0:\n",
    "        curr_hh+=1\n",
    "        ii = 0\n",
    "        curr_min = 5*ii\n",
    "        if curr_hh == 24:\n",
    "            curr_hh = 0\n",
    "            curr_dd+=1\n",
    "    \n",
    "    dates.append(dt.datetime(2020,3,curr_dd,curr_hh,curr_min))\n",
    "    \n",
    "    first_pass = 0\n",
    "    ii+=1\n",
    "#print (dates)\n",
    "times = date2num(dates, time.units)\n",
    "time[:] = times"
   ]
  },
  {
   "cell_type": "markdown",
   "metadata": {},
   "source": [
    "### Close the file"
   ]
  },
  {
   "cell_type": "code",
   "execution_count": 223,
   "metadata": {},
   "outputs": [
    {
     "name": "stdout",
     "output_type": "stream",
     "text": [
      "<class 'netCDF4._netCDF4.Dataset'>\n",
      "root group (NETCDF3_CLASSIC data model, file format NETCDF3):\n",
      "    title: Forcing and initial conditions for 13 March 2020 COMBLE intercomparison case\n",
      "    reference: https://comble-intercomparison.readthedocs.io/en/latest/\n",
      "    authors: Timothy W. Juliano (NCAR/RAL, tjuliano@ucar.edu); Florian Tornow (NASA/GISS, ft2544@columbia.edu); Ann M. Fridlind (NASA/GISS, ann.fridlind@nasa.gov)\n",
      "    version: Created on 2022-11-21\n",
      "    format_version: DEPHY SCM format version 1.6\n",
      "    script: create_comble_forcing.ipynb\n",
      "    startDate: 2020-03-12 14:00:00\n",
      "    endDate: 2020-03-13 18:00:00\n",
      "    force_geo: 1\n",
      "    surfaceType: ocean\n",
      "    surfaceForcing: ts\n",
      "    lat: 77.6 deg N\n",
      "    dx: 150 m\n",
      "    dy: 150 m\n",
      "    dz: see zw_grid variable\n",
      "    nx: 648\n",
      "    ny: 648\n",
      "    nz: 160\n",
      "    dimensions(sizes): time(337)\n",
      "    variables(dimensions): float64 time(time), float64 ts(time)\n",
      "    groups: \n",
      "Dataset is closed!\n"
     ]
    }
   ],
   "source": [
    "# first print the Dataset object to see what we've got\n",
    "print(ncfile)\n",
    "# close the Dataset.\n",
    "ncfile.close(); print('Dataset is closed!')"
   ]
  },
  {
   "cell_type": "code",
   "execution_count": null,
   "metadata": {},
   "outputs": [],
   "source": []
  }
 ],
 "metadata": {
  "kernelspec": {
   "display_name": "Python 3",
   "language": "python",
   "name": "python3"
  },
  "language_info": {
   "codemirror_mode": {
    "name": "ipython",
    "version": 3
   },
   "file_extension": ".py",
   "mimetype": "text/x-python",
   "name": "python",
   "nbconvert_exporter": "python",
   "pygments_lexer": "ipython3",
   "version": "3.6.8"
  }
 },
 "nbformat": 4,
 "nbformat_minor": 4
}
