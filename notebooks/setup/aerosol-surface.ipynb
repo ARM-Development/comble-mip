{
 "cells": [
  {
   "cell_type": "markdown",
   "id": "fee4be05-8700-4dda-a036-c699673bfb21",
   "metadata": {
    "tags": []
   },
   "source": [
    "# Specifying Surface Aerosol Emissions for Simulations with Multi-Modal Aerosol\n",
    "* Here we provide an approach to attribute size-resolved aerosol surface fluxes with individual aerosol modes used in LES and SCM\n",
    "* Surface fluxes are taken from Jaegle et al. (2011) and aerosol modes determined from ground-based in-situ observations\n",
    "* Aerosol modes help to obtain an aerosol diameter to split surface fluxes into two groups.\n",
    "* Below approach delivers the fraction of total number flux (i.e., intergrated over all sizes) attributed to each of two modes\n",
    "* While the total flux may change (e.g., from windspeed), the fraction remains constant."
   ]
  },
  {
   "cell_type": "code",
   "execution_count": null,
   "id": "5e982118-1dad-445f-ba8d-870d78df4387",
   "metadata": {
    "tags": []
   },
   "outputs": [],
   "source": [
    "import pandas as pd\n",
    "import numpy as np\n",
    "import matplotlib.pyplot as plt"
   ]
  },
  {
   "cell_type": "code",
   "execution_count": null,
   "id": "b478edf7-4e7f-4800-8cea-819d381f8454",
   "metadata": {
    "tags": []
   },
   "outputs": [],
   "source": [
    "## use coefficients by Jaegle et al. (2011) to generate a small data base of surface flux size distribution\n",
    "SST = 5\n",
    "vh = 20\n",
    "STEP = 0.001\n",
    "\n",
    "JAEGLE_DAT = pd.DataFrame()\n",
    "## loop over a range of diameters\n",
    "for DD in np.arange(0.01,8.,STEP): \n",
    "    A = 4.7*(1 + 30 * (DD/2))**(-0.017*(DD/2)**(-1.44))\n",
    "    B =(0.433 - np.log(DD/2))/0.433\n",
    "    SST_TERM = (0.3 + 0.1*SST - 0.0076*SST**2.0 + 0.00021*SST**3.0)\n",
    "    \n",
    "    FN = SST_TERM*1.373*vh**3.41*(DD/2)**(-A)*(1+0.057*(DD/2)**3.45)*10**(1.607*np.exp(-B**2.0)) / 100 /100\n",
    "    \n",
    "    ## store in data frame\n",
    "    TMP = pd.DataFrame([[DD/2,FN,vh,SST]],columns=['Dp','FN','vh','SST'])\n",
    "    JAEGLE_DAT = pd.concat([JAEGLE_DAT,TMP])\n",
    "\n",
    "\n",
    "plt.plot(JAEGLE_DAT['Dp'],JAEGLE_DAT['FN'])\n",
    "plt.xscale(\"log\",base=10)\n",
    "plt.xlabel('Particle Dry Diameter (micrometer)')\n",
    "plt.ylabel('dF/dlog10Dp (cm^-2 s^-1)')\n",
    "plt.title('Surface Flux according to Jaegle et al. (2011)')"
   ]
  },
  {
   "cell_type": "code",
   "execution_count": null,
   "id": "63332848-9189-46b8-a918-4cf6fce8a3cd",
   "metadata": {
    "tags": []
   },
   "outputs": [],
   "source": [
    "## partition into two groups and integrate over size\n",
    "def split_flux(DAT,D_s,STEP):\n",
    "    num_1 = np.sum(DAT.loc[DAT['Dp'] <  D_s - STEP/2]['FN'] * np.log10((DAT.loc[DAT['Dp'] <  D_s - STEP/2]['Dp']+STEP) / DAT.loc[DAT['Dp'] <  D_s- STEP/2]['Dp']))\n",
    "    num_2 = np.sum(DAT.loc[DAT['Dp'] >= D_s - STEP/2]['FN'] * np.log10((DAT.loc[DAT['Dp'] >= D_s - STEP/2]['Dp']+STEP) / DAT.loc[DAT['Dp'] >= D_s - STEP/2]['Dp']))\n",
    "    \n",
    "    return [num_1/(num_1 + num_2),num_2/(num_1 + num_2)]\n",
    "\n",
    "PARTITION_DAT = pd.DataFrame()\n",
    "## loop over a range of diameters\n",
    "for DD_split in np.arange(np.log(0.01),np.log(1.5),0.01): \n",
    "    TMP = split_flux(JAEGLE_DAT,D_s = np.exp(DD_split),STEP=STEP)\n",
    "    TMP_DAT = pd.DataFrame([[TMP[0],TMP[1],np.exp(DD_split)]],columns=['num_1','num_2','D_split'])\n",
    "    PARTITION_DAT = pd.concat([PARTITION_DAT,TMP_DAT])\n",
    "    "
   ]
  },
  {
   "cell_type": "code",
   "execution_count": null,
   "id": "741fa23d-8f8c-4f26-95d5-fa7017c32235",
   "metadata": {
    "tags": []
   },
   "outputs": [],
   "source": [
    "plt.plot(PARTITION_DAT['D_split'],PARTITION_DAT['num_1'])\n",
    "plt.xscale(\"log\")\n",
    "plt.xlabel('D_split')\n",
    "plt.ylabel('Fraction of Number Flux in smaller Mode')\n",
    "plt.title('Partitioning of Surface Flux')"
   ]
  },
  {
   "cell_type": "code",
   "execution_count": null,
   "id": "c22d84ee-8d38-42a9-a1fc-daf210800c7c",
   "metadata": {
    "tags": []
   },
   "outputs": [],
   "source": [
    "## utilize modes as specified by aerosol team (i.e., A. Williams and L. Russell)\n",
    "PSD_zsm = pd.read_excel('https://docs.google.com/spreadsheets/d/' +\n",
    "                        '1q4YkJc5dF-ZOIx-xWU_IkmTYCUPoM0kODj5ro_7Vg_c' +\n",
    "                        '/export?gid=0&format=xlsx',\n",
    "                        sheet_name='PSD')\n",
    "\n",
    "## apply simple determination of splitting point based on middle mode\n",
    "D_split = np.exp(np.log(PSD_zsm['D_g'][1]*1000) + 3*np.log(PSD_zsm['sigma_g'][1]))/1000\n",
    "print('Splitting modes at ' + str(D_split) + 'um')\n",
    "\n",
    "## look up proportion of flux \n",
    "PARTITION_DAT['Dp_dist'] = np.abs(PARTITION_DAT['D_split'] - D_split)\n",
    "PARTITION_DAT.loc[PARTITION_DAT['Dp_dist']==PARTITION_DAT['Dp_dist'].min()]"
   ]
  },
  {
   "cell_type": "code",
   "execution_count": null,
   "id": "a635ee5e-cd74-4ff5-af0f-59f9c4285265",
   "metadata": {},
   "outputs": [],
   "source": [
    "#plt.plot(PARTITION_DAT['D_split'],PARTITION_DAT['num_1'])\n",
    "plt.axvline(x = D_split, color = 'r', ls='dashed',label = 'Splitting point determined from prevalent aerosol modes')\n",
    "#plt.xscale(\"log\")\n",
    "#plt.xlabel('D_split')\n",
    "#plt.ylabel('Fraction of Number Flux in smaller Mode')\n",
    "#plt.title('Partitioning of Surface Flux')\n",
    "\n",
    "plt.plot(JAEGLE_DAT['Dp'],JAEGLE_DAT['FN'])\n",
    "plt.xscale(\"log\",base=10)\n",
    "plt.xlabel('Particle Dry Diameter (micrometer)')\n",
    "plt.ylabel('dF/dlog10Dp (cm^-2 s^-1)')\n",
    "plt.title('Surface Flux according to Jaegle et al. (2011)')"
   ]
  },
  {
   "cell_type": "markdown",
   "id": "8aa82df0-924e-4b34-9c76-b625d51ad3af",
   "metadata": {
    "tags": []
   },
   "source": [
    "# Jaegle et al. (2011) surface particle flux integrated over all sizes\n",
    "* $\\text{SST}$ is sea surface skin temperature in K\n",
    "* $v_h$ is horizontal wind speed at 10 m\n",
    "* $F_N$ in particle number per square centimeter and second\n",
    "* For example, fluxed into the lowest atmospheric layer: $S_{srf} = \\frac{F_N 10^4}{\\rho \\Delta z}$\n",
    "\n",
    "$$\n",
    "  F_N = 0.051682 ~ v_h^{3.41} (0.3 + 0.1 ~ \\text{SST} - 0.0076 ~ \\text{SST}^2 + 0.00021 ~ \\text{SST}^3)\n",
    "$$"
   ]
  },
  {
   "cell_type": "code",
   "execution_count": null,
   "id": "591301e3-b1d2-44ef-9e6b-c6a91d07cb61",
   "metadata": {},
   "outputs": [],
   "source": []
  }
 ],
 "metadata": {
  "kernelspec": {
   "display_name": "Python 3 (ipykernel)",
   "language": "python",
   "name": "python3"
  },
  "language_info": {
   "codemirror_mode": {
    "name": "ipython",
    "version": 3
   },
   "file_extension": ".py",
   "mimetype": "text/x-python",
   "name": "python",
   "nbconvert_exporter": "python",
   "pygments_lexer": "ipython3",
   "version": "3.10.9"
  }
 },
 "nbformat": 4,
 "nbformat_minor": 5
}
