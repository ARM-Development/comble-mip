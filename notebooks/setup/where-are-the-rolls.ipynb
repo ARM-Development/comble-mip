{
 "cells": [
  {
   "cell_type": "markdown",
   "id": "4031f807-8684-4eac-a6a7-17cbf682526b",
   "metadata": {
    "tags": []
   },
   "source": [
    "#### Where are the rolls?\n",
    "\n",
    "A prominent feature of most cold-air outbreaks observed during COMBLE via visible satellite imagery, including on 13 March, is the occurrence of prominent cloud streets assocated with boundary layer rolls issuing from the marginal ice zone. However, these have proven to be elusive in LES. Below we discuss this problem, which was also encountered in setup of the CONSTRAIN model intercomparison by [de Roode et al. (2019)](https://agupubs.onlinelibrary.wiley.com/doi/full/10.1029/2018MS001443), who concluded that \"the reason that no cloud streets are present in the simulations is not fully understood by the authors.\"\n",
    "\n",
    "___\n",
    "\n",
    "# Properties of observed cloud streets\n",
    "\n",
    "Satellite imagery from 13 March indicates that boundary layer (BL) rolls are likely present in the clear air prior to cloud formation, and they are variable in space and time. Alignment appears primarily NNW-SSE with a less common secondary mode aligned NNE-SSW. According to the classification suggested by [Young et al. (2002)](https://journals.ametsoc.org/view/journals/bams/83/7/1520-0477_2002_083_0997_rswama_2_3_co_2.xml), these exhibit a \"band of froth\" appearance associated with an aspect ratio (AR) of roll wavelength on BL depth greater than 1 and multiple updrafts spanning each cloud street. At two hours from the ice edge (third row from bottom in Fig. 1), the BL height is approximately 1 km (per CALIPSO) and the roll wavelength is approximately 5 km, leading to an AR of 5 in line with marine CAOs reported by Young et al. (their Fig. 4); in the following two hours AR is similarly increasing faster than simulated BL depth (cf. their Fig. 4 with BL depth increasing).\n",
    "\n",
    "\n",
    "![Visible satellite imagery](../../figures/snapshot_comble_50_zoom.png)\n",
    "\n",
    "*Figure 1. Visible satellite imagery over the Norwegian Sea region on 13 March 2020 in 50-km domains: columns indicate latitude and rows indicate hours from the simulation trajectory start time, from 0 h at top (over sea ice) to 6 h at bottom (4 hours from ice edge). Numbers on each panel indicate the temporal distance in hours from our trajectory location (green numbers indicate closest images).*\n",
    "\n",
    "___\n",
    "\n",
    "# Absence of cloud streets in 100-m LES simulations\n",
    "\n",
    "Simulations on a 25x25-km domain might be expected to contain roughly 5 cloud streets at 4 h (two hours from ice edge; comparable to third row from the bottom in Fig. 1). We see slight evidence of rolls at 4 h in Fig. 2 (top row), but they are oriented NNE-SSW rather than NNW-SSE and are far less developed than in the satellite observations. Negligible improvement was found for sensitivity tests with horizontal winds nudged to ERA5 profiles (Fig. 2, bottom row) or other setup changes (not shown): a sharper and lower inversion over sea ice (positing that ERA5 may contain biases), changes to sea surface temperature evolution downwind of the ice edge (a weaker gradient), increase in horizontal resolution (to 25 m), increase in domain size (to 50x50-km), initialization of the Ekman spiral in the initial condition (obtained from an idealized 1D model, again positing biases in ERA5), or changes to the surface roughness specification. \n",
    "\n",
    "![DHARMA geostrophic](../../figures/alb_comble_L25_specz0_all_20h_pseudo_albedo.png)\n",
    "![DHARMA nudged](../../figures/alb_comble_L25_specz0_nudge_all_20h_pseudo_albedo.png)\n",
    "\n",
    "*Figure 2. Pseudo-albedo calculated from dx=100m DHARMA LES simulations begun 2 hours upwind of the ice edge and forced with geostrophic winds (top row) exhibit slightly more indication of cloud streets at 4 h (two hours downwind of ice edge) than simulations forced with nudged winds (bottom row).*\n",
    "\n",
    "___\n",
    "\n",
    "# Weak cloud streets in realistic WRF simulations\n",
    "\n",
    "Simulations using WRF with a nested internal domain exhibit stronger cloud streets than LES with periodic boundary conditions, but they remain weaker than observed (Fig. 3).\n",
    "\n",
    "![WRF realistic](../../figures/wrf_realistic_pseudo_albedo.png)\n",
    "\n",
    "*Figure 3. Pseudo-albedo calculated from dx=50m WRF LES simulations also exhibit notably weaker cloud streets than observed.*\n",
    "\n",
    "# Emergence of strong streets in DHARMA LES of a Northwest Atlantic CAO\n",
    "\n",
    "Simulations using WRF with a nested internal domain exhibit stronger cloud streets than LES with periodic boundary conditions, but they remain weaker than observed (Fig. 3).\n",
    "\n",
    "![WRF realistic](../../figures/activate_satellite.png)\n",
    "\n",
    "*Figure 3. Pseudo-albedo calculated from dx=50m WRF LES simulations also exhibit notably weaker cloud streets than observed.*\n"
   ]
  },
  {
   "cell_type": "markdown",
   "id": "80d161ea-b3d9-46f5-9dac-1c54373b70e2",
   "metadata": {
    "tags": []
   },
   "source": [
    "Source: Ann Fridlind (ann.fridlind@nasa.gov), Florian Tornow (ft2544@columbia.edu), and Tim Juliano (tjuliano@nucar.edu)"
   ]
  }
 ],
 "metadata": {
  "kernelspec": {
   "display_name": "Python 3 (ipykernel)",
   "language": "python",
   "name": "python3"
  },
  "language_info": {
   "codemirror_mode": {
    "name": "ipython",
    "version": 3
   },
   "file_extension": ".py",
   "mimetype": "text/x-python",
   "name": "python",
   "nbconvert_exporter": "python",
   "pygments_lexer": "ipython3",
   "version": "3.10.9"
  }
 },
 "nbformat": 4,
 "nbformat_minor": 5
}
