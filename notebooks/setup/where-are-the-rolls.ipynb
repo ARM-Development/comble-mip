{
 "cells": [
  {
   "cell_type": "markdown",
   "id": "4031f807-8684-4eac-a6a7-17cbf682526b",
   "metadata": {
    "tags": []
   },
   "source": [
    "# Where are the rolls?\n",
    "A prominent feature of most cold-air outbreaks observed during COMBLE, including on 13 March, is the occurrence of prominent roll features in the cloud features nearest to the marginal ice zone. However, these proved to be difficult to reproduce at a strength similar to observations, based on comparisons of pseudo-albedo with satellite images. Below we discuss this problem, which was also encountered during the CONSTRAIN intercomparison."
   ]
  },
  {
   "cell_type": "markdown",
   "id": "80d161ea-b3d9-46f5-9dac-1c54373b70e2",
   "metadata": {
    "tags": []
   },
   "source": [
    "Source: Ann Fridlind (ann.fridlind@nasa.gov), Florian Tornow (ft2544@columbia.edu), and Tim Juliano (tjuliano@nucar.edu)"
   ]
  }
 ],
 "metadata": {
  "kernelspec": {
   "display_name": "Python 3 (ipykernel)",
   "language": "python",
   "name": "python3"
  },
  "language_info": {
   "codemirror_mode": {
    "name": "ipython",
    "version": 3
   },
   "file_extension": ".py",
   "mimetype": "text/x-python",
   "name": "python",
   "nbconvert_exporter": "python",
   "pygments_lexer": "ipython3",
   "version": "3.10.9"
  }
 },
 "nbformat": 4,
 "nbformat_minor": 5
}
