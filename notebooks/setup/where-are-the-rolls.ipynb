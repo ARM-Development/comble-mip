{
 "cells": [
  {
   "cell_type": "markdown",
   "id": "4031f807-8684-4eac-a6a7-17cbf682526b",
   "metadata": {
    "tags": []
   },
   "source": [
    "# Where are the rolls?\n",
    "\n",
    "A prominent feature of most cold-air outbreaks observed during COMBLE via visible satellite imagery, including on 13 March, is the occurrence of prominent cloud streets assocated with boundary layer rolls issuing from the marginal ice zone. However, these have proven to be elusive in LES. Below we discuss this problem, which was also encountered in setup of the CONSTRAIN model intercomparison by [de Roode et al. (2019)](https://agupubs.onlinelibrary.wiley.com/doi/full/10.1029/2018MS001443), who concluded that \"the reason that no cloud streets are present in the simulations is not fully understood by the authors.\"\n",
    "\n",
    "___\n",
    "\n",
    "## Properties of observed cloud streets\n",
    "\n",
    "Satellite imagery from 13 March indicates that marine boundary layer (MBL) rolls are likely present in the clear air prior to cloud formation, and they are variable in space and time. Alignment appears primarily NNW-SSE with a less common secondary mode aligned NNE-SSW. According to the classification suggested by [Young et al. (2002)](https://journals.ametsoc.org/view/journals/bams/83/7/1520-0477_2002_083_0997_rswama_2_3_co_2.xml), these exhibit a \"band of froth\" appearance associated with an aspect ratio (AR) of roll wavelength on BL depth (z_i) > 1 and multiple updrafts spanning each cloud street. At two hours from the ice edge (third row from bottom in Fig. 1), the BL height is approximately 1 km (per CALIPSO) and the roll wavelength is approximately 5 km, leading to an AR of 5 in line with marine CAOs reported by Young et al. (their Fig. 4); in the following two hours the AR is similarly increasing faster than simulated BL depth (cf. their Fig. 4 with BL depth increasing).\n",
    "\n",
    "\n",
    "![Visible satellite imagery](../../figures/snapshot_comble_50_zoom.png)\n",
    "\n",
    "*Figure 1. VIIRS day-night-band satellite imagery over the Norwegian Sea region on 12 and 13 March 2020 in 50 km x 50 km domains: columns indicate day of year at each NOAA-20 or SNPP satellite overpass and rows indicate hours from the simulation trajectory start time, from 0 h at top (over sea ice) to 6 h at bottom (4 hours from ice edge). Numbers on each panel indicate the temporal distance in hours from our trajectory location (green numbers indicate closest images).*\n",
    "\n",
    "___\n",
    "\n",
    "## Absence of cloud streets in 100-m LES simulations\n",
    "\n",
    "Simulations on a 25x25-km domain might be expected to contain roughly 5 cloud streets at 4 h (two hours from ice edge; comparable to third row from the bottom in Fig. 1). We see slight evidence of rolls at 4 h in Fig. 2 (top row), but they are oriented NNE-SSW rather than NNW-SSE and are far less developed than in the satellite observations. Negligible improvement was found for sensitivity tests with horizontal winds nudged to ERA5 profiles (Fig. 2, bottom row) or other setup changes as follows (not shown): a sharper and lower inversion over sea ice (positing that ERA5 may contain high biases of inversion height over sea ice), changes to sea surface temperature evolution downwind of the ice edge (a weaker gradient), increase in horizontal resolution (to 25 m), increase in domain size (to 50x50 km), initialization of an idealized Ekman spiral in the initial condition (obtained from a 1D model, again positing biases in ERA5), or changes to the surface roughness specification. \n",
    "\n",
    "![DHARMA geostrophic](../../figures/alb_comble_L25_specz0_all_20h_pseudo_albedo.png)\n",
    "![DHARMA nudged](../../figures/alb_comble_L25_specz0_nudge_all_20h_pseudo_albedo.png)\n",
    "\n",
    "*Figure 2. Pseudo-albedo calculated from dx=100m DHARMA LES simulations begun 2 hours upwind of the ice edge and forced with geostrophic winds (top row) exhibit slightly more indication of cloud streets at 4 h (two hours downwind of ice edge) than simulations forced with nudged winds (bottom row).*\n",
    "\n",
    "___\n",
    "\n",
    "## Weak cloud streets in realistic WRF simulations\n",
    "\n",
    "Simulations using WRF with a nested internal domain exhibit stronger cloud streets than LES with periodic boundary conditions, but they remain weaker than observed (Fig. 3).\n",
    "\n",
    "![WRF realistic](../../figures/wrf_realistic_pseudo_albedo.png)\n",
    "\n",
    "*Figure 3. Pseudo-albedo calculated from dx=150m WRF LES simulations also exhibit notably weaker cloud streets than observed.*\n",
    "\n",
    "___\n",
    "\n",
    "## Emergence of strong streets in DHARMA LES of a Northwest Atlantic CAO\n",
    "\n",
    "Quasi-Lagrangian DHARMA LES results for a case study within the NASA ACTIVATE observation domain readily reproduced MBL rolls without any special attention to setup details (Fig. 4). However, the rolls in this case are not present when clouds first appear off-shore (Fig. 5), suggesting a different formation process.\n",
    "\n",
    "![DHARMA_ACTIVATE](../../figures/activate_dharma.png)\n",
    "\n",
    "*Figure 4. Pseudo-albedo calculated from DHARMA LES simulations of CAO conditions over the Northwest Atlantic.*\n",
    "\n",
    "![Visible_satellite_ACTIVATE](../../figures/activate_satellite.png)\n",
    "\n",
    "*Figure 5. Observed cloud streets during ACTIVATE are not present when clouds initially form, in contrast to conditions observed during COMBLE.*\n",
    "\n",
    "___\n",
    "\n",
    "## Discussion and community input welcomed\n",
    "\n",
    "Under conditions of large stability parameter (-z_i/L > 10), where L is the Monin-Obukhov length, [Gryschka et al. (2008)](https://onlinelibrary.wiley.com/doi/abs/10.1029/2008GL035845) used LES to show that roll formation requires triggering by sea ice temperature heterogeneities. They referred to such rolls as forced, in contrast to self-organizing rolls that occur when surface fluxes are weaker. At 2 h, the 13 March case exhibits z_i of roughly 1000 m and L of roughly –80 m, consistent with stability parameter > 10, placing this case into the forced category. In follow-on work [Gryschka et al. (2014)](https://onlinelibrary.wiley.com/doi/abs/10.1002/2014JD022160) compare simulations with and without roll-generating sea ice heterogeneity, and conclude that total surface fluxes do not significantly differ because the rolls assume part of the transport that is otherwise turbulent rather than organized. They therefore suggest that forced roll convection is not necessary to include in weather and climate model parameterization schemes.\n",
    "\n",
    "Nonetheless, in this case, at least one group had difficulty sustaining rolls even when ice edge heterogeneity was included (Mikhail Ovchinnikov, personal communication). Gryschka et al. (2008) also find it worth mentioning that along-roll wind shear or shear curvature below 0.2z_i may also lead to forced rolls in the absence of upwind surface heterogeneity. Young et al. (2002) further conclude that candidate processes contributing to the range of observed atmospheric roll behaviors include surface buoyancy flux, latent heat release, roughness-induced shear, and baroclinically induced shear---as well as tropospheric gravity waves that may undergo three different trapping mechanisms and whose effects may depend on the angle between the shear vector within the boundary layer versus above, consistent with a conceptual model wherein the overshooting convection poses an obstacle to the relative wind. While DHARMA simulations do exhibit strong gravity waves under both ACTIVATE conditions and in the 13 May case (Fig. 6), observations of ice edge and thermodynamic and wind profile conditions are lacking to confirm apparent shortfalls in the case specification.\n",
    "\n",
    "![DHARMA_w](../../figures/vertical_wind_cross_section.png)\n",
    "\n",
    "*Figure 6. Vertical wind cross-section in a DHARMA LES simulation of the 13 March case reveals vertical motions overlying the MBL that reach several kilometers into the overlying stable free troposphere.*\n",
    "\n",
    "We welcome further discussion and sensitivity test results from enterprising modelers!\n",
    "\n",
    "___\n",
    "\n",
    "Source: Ann Fridlind (ann.fridlind@nasa.gov), Florian Tornow (ft2544@columbia.edu), and Tim Juliano (tjuliano@ucar.edu)"
   ]
  },
  {
   "cell_type": "code",
   "execution_count": null,
   "id": "e5346e01-81ac-4aa7-a44c-41251b47adde",
   "metadata": {},
   "outputs": [],
   "source": []
  }
 ],
 "metadata": {
  "kernelspec": {
   "display_name": "Python 3 (ipykernel)",
   "language": "python",
   "name": "python3"
  },
  "language_info": {
   "codemirror_mode": {
    "name": "ipython",
    "version": 3
   },
   "file_extension": ".py",
   "mimetype": "text/x-python",
   "name": "python",
   "nbconvert_exporter": "python",
   "pygments_lexer": "ipython3",
   "version": "3.10.9"
  }
 },
 "nbformat": 4,
 "nbformat_minor": 5
}
