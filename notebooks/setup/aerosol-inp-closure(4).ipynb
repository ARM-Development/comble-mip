{
 "cells": [
  {
   "cell_type": "markdown",
   "id": "356fae75",
   "metadata": {},
   "source": [
    "# Aerosol-Ice Nucleating Particle Closure\n",
    "\n",
    "Contributed by Yijia Sun and Daniel A. Knopf"
   ]
  },
  {
   "cell_type": "markdown",
   "id": "077a8791",
   "metadata": {},
   "source": [
    "---"
   ]
  },
  {
   "cell_type": "markdown",
   "id": "4610e215",
   "metadata": {},
   "source": [
    "## Overview\n",
    "Clouds observed during the Cold-Air Outbreaks in the Marine Boundary Layer Experiment (COMBLE) are typically mixed-phase clouds where supercooled liquid droplets and ice crystals coexist. Ice-nucleating particles (INPs) from the ambient aerosol particle size distribution (PSD) can initiate ice crystal formation. The ability to predict INPs from ambient aerosol can be evaluated by conducting a so-called closure study as outlined in <a href=\"https://journals.ametsoc.org/view/journals/bams/102/10/BAMS-D-20-0151.1.xml\"> Knopf et al. (2021)</a>. Different immersion freezing (IMF) parameterizations can be applied to derive the number concentration of predicted INPs for the COMBLE and Zeppelin observatory locations. Zeppelin is upwind and COMBLE downwind of the cold-air outbreak event.\n",
    "\n",
    "The quickcalc module, based on the simplistic 1D aerosol-cloud model (Knopf et al., 2023), allows inputting the PSD information measured at COMBLE and Zeppelin locations to derive the number concentration of INPs for different immersion freezing parameterizations. These predicted INP number concentrations are then compared to locally measured INP number concentrations, thereby manifesting a closure exercise. \n",
    "\n",
    "For this initial closure exercise, we chose Zeppelin observations at 0 UTC March 13 and COMBLE observations at 18 UTC March 13. The ambient PSD measurements are applied to derive INP number concentrations under the assumption that all aerosol particles are sea spray aerosols (SSA) while halving the number concentration of particles in the accumulation mode and neglecting particles in the Aitken mode. For this closure exercise three different IMF parameterizations were evaluated: that include two parameterizations that are singular or deterministic (no time dependence and ice nucleates on special particles or sites) and one parameterization that is based on classical nucleation theory (CNT) where ice nucleation is treated stochastically, i.e., no special particles and nucleation proceeds randomly, and is time dependent: MC2018 (singular ice nucleation active sites-based parameterization of SSA, <a href=\"https://agupubs.onlinelibrary.wiley.com/doi/10.1029/2017JD028033\"> McCluskey et al., 2018</a>), AL2022 (singular ice nucleation active sites-based parameterization of SSA, <a href=\"https://www.ncbi.nlm.nih.gov/pmc/articles/PMC9629709/\"> Alpert et al., 2022</a>) and the water-activity based immersion freezing model (ABIFM) of SSA (CNT-based parameterization, <a href=\"https://www.ncbi.nlm.nih.gov/pmc/articles/PMC9629709/\"> Alpert et al., 2022</a>). Typically, these IMF parameterizations are uncertain by ±1-3 orders of magnitude. The results of this closure exercise can be seen <a href=\"https://drive.google.com/drive/folders/1j7x0LsrWGi4Q0P6wcjGHFhQwT6iqT4Dy?usp=sharing\"> here</a>."
   ]
  },
  {
   "cell_type": "markdown",
   "id": "1c9ca28f",
   "metadata": {},
   "source": [
    "<img src=\"https://drive.google.com/uc?id=1Mm29foXFsS5HMrYgTwWpUoMB09z49DfF\">\n",
    "<img src=\"https://drive.google.com/uc?id=1SVtdKrBJA1R1QRoCH3n2Yl4it7xjfITO\">"
   ]
  },
  {
   "cell_type": "markdown",
   "id": "4f503aae",
   "metadata": {},
   "source": [
    "## Prerequisites\n",
    "**System requirements**:\n",
    "Implement numpy, xarray, pandas, pint and flake8 in the python environment and run this jupyter notebook in <a href=\"https://drive.google.com/drive/folders/1BtyeYiqLI6PwYwGPEGPPzlN_kvh2B8jO?usp=sharing\"> this folder</a>. "
   ]
  },
  {
   "cell_type": "markdown",
   "id": "0674645c",
   "metadata": {},
   "source": [
    "---"
   ]
  },
  {
   "cell_type": "markdown",
   "id": "a9e7364c",
   "metadata": {},
   "source": [
    "## Imports"
   ]
  },
  {
   "cell_type": "code",
   "execution_count": 1,
   "id": "42eff893",
   "metadata": {},
   "outputs": [
    {
     "ename": "ModuleNotFoundError",
     "evalue": "No module named 'quickcalc'",
     "output_type": "error",
     "traceback": [
      "\u001b[0;31m---------------------------------------------------------------------------\u001b[0m",
      "\u001b[0;31mModuleNotFoundError\u001b[0m                       Traceback (most recent call last)",
      "Cell \u001b[0;32mIn[1], line 1\u001b[0m\n\u001b[0;32m----> 1\u001b[0m \u001b[38;5;28;01mfrom\u001b[39;00m \u001b[38;5;21;01mquickcalc\u001b[39;00m \u001b[38;5;28;01mimport\u001b[39;00m quickcalc\n\u001b[1;32m      2\u001b[0m \u001b[38;5;28;01mimport\u001b[39;00m \u001b[38;5;21;01mnumpy\u001b[39;00m \u001b[38;5;28;01mas\u001b[39;00m \u001b[38;5;21;01mnp\u001b[39;00m\n\u001b[1;32m      3\u001b[0m \u001b[38;5;28;01mfrom\u001b[39;00m \u001b[38;5;21;01mtime\u001b[39;00m \u001b[38;5;28;01mimport\u001b[39;00m time\n",
      "\u001b[0;31mModuleNotFoundError\u001b[0m: No module named 'quickcalc'"
     ]
    }
   ],
   "source": [
    "from quickcalc import quickcalc\n",
    "import numpy as np\n",
    "from time import time\n",
    "import xarray as xr\n",
    "import pandas as pd"
   ]
  },
  {
   "cell_type": "markdown",
   "id": "768bd5de",
   "metadata": {},
   "source": [
    "The applied aerosol PSD parameters for Zeppelin and COMBLE locations can be accessed in <a href=\"https://drive.google.com/drive/folders/1dDgSVGd8ruOcKBsEVoaZ7qHo5ywmp-E6?usp=sharing\"> this folder</a>. "
   ]
  },
  {
   "cell_type": "code",
   "execution_count": null,
   "id": "c97b10a0",
   "metadata": {},
   "outputs": [],
   "source": [
    "aer_info1= {\"name\": \"COMBLE18UTCMarch13\",             #COMBLE18UTCMarch13case\n",
    "                     \"n_init_max\": [21.66e6, 7.14e6],\n",
    "                      \"psd\": {\"type\": \"multi_logn\",\n",
    "                              \"diam_mean\": [0.13e-6,0.33e-6],\n",
    "                              \"geom_sd\":[1.67,1.69],\n",
    "                              \"n_bins\":50,\n",
    "                              \"diam_min\":(0.0078e-6,5.577e-6),\n",
    "                              \"m_ratio\":1.5},\n",
    "                              \"nucleus_type\": \"SSA\"}\n",
    "\n",
    "aer_info2= {\"name\": \"ZEPPELIN0UTCMarch13\",             #ZEPPELIN0UTCMarch13case\n",
    "                     \"n_init_max\": [100.605e6, 24.58e6],\n",
    "                      \"psd\": {\"type\": \"multi_logn\",\n",
    "                              \"diam_mean\": [0.13e-6,0.61e-6],\n",
    "                              \"geom_sd\":[2.2,1.9],\n",
    "                              \"n_bins\":50,\n",
    "                              \"diam_min\":(0.0059e-6,11.59e-6),\n",
    "                              \"m_ratio\":1.5},\n",
    "                              \"nucleus_type\": \"SSA\"}"
   ]
  },
  {
   "cell_type": "markdown",
   "id": "a87319bc",
   "metadata": {},
   "source": [
    "## Calculate the predicted INPs\n",
    "For the time-dependent IMF parameterization (ABIFM) an ice nucleation activation time, based on the INP measurements has to be applied. The chosen activation time is 1 min following the recommendation given in <a href=\"https://www.ncbi.nlm.nih.gov/pmc/articles/PMC9629709/\"> Alpert et al., (2022)</a>. The implemented equations for selected SSA IMF parameterizations can be found in the file <a href=\"https://drive.google.com/file/d/1c0-iEJtbTOWg8Vl7_G_Iu51-8suH6vbN/view?usp=sharing\"> AER.py</a>. "
   ]
  },
  {
   "cell_type": "code",
   "execution_count": null,
   "id": "ce3216ba",
   "metadata": {},
   "outputs": [],
   "source": [
    "COMBLEAL2022INP=[]\n",
    "COMBLEMC2018INP=[]\n",
    "COMBLEABIFMINP=[]\n",
    "ZeppelinAL2022INP=[]\n",
    "ZeppelinMC2018INP=[]\n",
    "ZeppelinABIFMINP=[]\n",
    "\n",
    "for T in range(1, 48, 1):\n",
    "        #COMBLE18UTCMarch13case\n",
    "        COMBLEAL2022 = quickcalc(aer_info_dict={**aer_info1, **{\"singular_fun\": \"AL2022\"}}, T_in=243+(T-1)*0.5, use_ABIFM=False,RH_in=99.5)\n",
    "        COMBLEAL2022INP.append(COMBLEAL2022.variables['inp_tot'].values)\n",
    "        COMBLEMC2018 = quickcalc(aer_info_dict={**aer_info1, **{\"singular_fun\": \"MC2018\"}}, T_in=243+(T-1)*0.5, use_ABIFM=False,RH_in=99.5)\n",
    "        COMBLEMC2018INP.append(COMBLEMC2018.variables['inp_tot'].values)\n",
    "        COMBLEABIFM =quickcalc(aer_info_dict=aer_info1, T_in=243+(T-1)*0.5, use_ABIFM=True,RH_in=99.5, ABIFM_delta_t=60.)\n",
    "        COMBLEABIFMINP.append(COMBLEABIFM.variables['inp_tot'].values)\n",
    "        #ZEPPELIN0UTCMarch13case\n",
    "        ZeppelinAL2022 = quickcalc(aer_info_dict={**aer_info2, **{\"singular_fun\": \"AL2022\"}}, T_in=243+(T-1)*0.5, use_ABIFM=False,RH_in=99.5)\n",
    "        ZeppelinAL2022INP.append(ZeppelinAL2022.variables['inp_tot'].values)\n",
    "        ZeppelinMC2018 = quickcalc(aer_info_dict={**aer_info2, **{\"singular_fun\": \"MC2018\"}}, T_in=243+(T-1)*0.5, use_ABIFM=False,RH_in=99.5)\n",
    "        ZeppelinMC2018INP.append(ZeppelinMC2018.variables['inp_tot'].values)\n",
    "        ZeppelinABIFM =quickcalc(aer_info_dict=aer_info2, T_in=243+(T-1)*0.5, use_ABIFM=True,RH_in=99.5, ABIFM_delta_t=60.)\n",
    "        ZeppelinABIFMINP.append(ZeppelinABIFM.variables['inp_tot'].values)"
   ]
  },
  {
   "cell_type": "markdown",
   "id": "91f9334b",
   "metadata": {},
   "source": [
    "## Variables Included in the netcdf Output File"
   ]
  },
  {
   "cell_type": "code",
   "execution_count": null,
   "id": "0d0c053d",
   "metadata": {
    "scrolled": true
   },
   "outputs": [],
   "source": [
    "COMBLEAL2022"
   ]
  },
  {
   "cell_type": "markdown",
   "id": "e87ebc20",
   "metadata": {},
   "source": [
    "## Export the Datasets of Predicted INPs"
   ]
  },
  {
   "cell_type": "markdown",
   "id": "bf63d6de",
   "metadata": {},
   "source": [
    "### Derived Closure Datasets as netcdf Files"
   ]
  },
  {
   "cell_type": "code",
   "execution_count": null,
   "id": "dffc83d2",
   "metadata": {},
   "outputs": [],
   "source": [
    "COMBLEAL2022.to_netcdf('SSAAL2022COMBLE18UTCMarch13.nc')\n",
    "COMBLEMC2018.to_netcdf('SSAMC2018COMBLE18UTCMarch13.nc')\n",
    "COMBLEABIFM.to_netcdf('SSAABIFMCOMBLE18UTCMarch13.nc')\n",
    "ZeppelinAL2022.to_netcdf('SSAAL2022ZEPPELIN0UTCMarch13.nc')\n",
    "ZeppelinMC2018.to_netcdf('SSAMC2018ZEPPELIN0UTCMarch13.nc')\n",
    "ZeppelinABIFM.to_netcdf('SSAABIFMZEPPELIN0UTCMarch13.nc')"
   ]
  },
  {
   "cell_type": "markdown",
   "id": "89fdf402",
   "metadata": {},
   "source": [
    "### Derived Closure Datasets as csv Files"
   ]
  },
  {
   "cell_type": "code",
   "execution_count": null,
   "id": "da65429b",
   "metadata": {},
   "outputs": [],
   "source": [
    "test=pd.DataFrame(data=COMBLEAL2022)\n",
    "test.to_csv('SSAPT2022COMBLE18UTCMarch13.csv')\n",
    "test=pd.DataFrame(data=COMBLEMC2018)\n",
    "test.to_csv('SSAMC2018COMBLE18UTCMarch13.csv')\n",
    "test=pd.DataFrame(data=COMBLEABIFM)\n",
    "test.to_csv('SSAABIFMCOMBLE18UTCMarch13.csv')\n",
    "test=pd.DataFrame(data=ZeppelinAL2022)\n",
    "test.to_csv('SSAPT2022ZEPPELIN0UTCMarch13.csv')\n",
    "test=pd.DataFrame(data=ZeppelinMC2018)\n",
    "test.to_csv('SSAMC2018ZEPPELIN0UTCMarch13.csv')\n",
    "test=pd.DataFrame(data=ZeppelinABIFM)\n",
    "test.to_csv('SSAABIFMZEPPELIN0UTCMarch13.csv')"
   ]
  },
  {
   "cell_type": "markdown",
   "id": "886ac5a7",
   "metadata": {},
   "source": [
    "## Comparison of the Predicted INPs with Observed INPs\n",
    "The observed INP number concentrations are given in a Google sheet <a href=\"https://docs.google.com/spreadsheets/d/1YgRghg8y4ZJVtSbtrRSNKJX_17Ppz1Xt/edit?usp=sharing&ouid=109128165079751861000&rtpof=true&sd=true\"> (here)</a>. Provided <a href=\"https://drive.google.com/drive/folders/1dKneXq6Aa_-FSQtF-k9qJavn3wMzaSK5?usp=sharing\"> matlab codes</a> named “COMBLE” and “ZEPPELIN” allow for quickly plotting the results."
   ]
  },
  {
   "cell_type": "markdown",
   "id": "bb61abfd",
   "metadata": {},
   "source": [
    "---"
   ]
  },
  {
   "cell_type": "markdown",
   "id": "99f8762f",
   "metadata": {},
   "source": [
    "## Summary\n",
    "The aerosol-INP closure exercise at Zeppelin and COMBLE observatories is based on the assumption that all aerosol particles constitute sea spray aerosol (SSA) particles and their particle number concentration in the accumulation mode is halved and particles in the Aitken mode are neglected. In general, within the typically given uncertainties of applied IMF parameterizations, all approaches can represent observed INP number concentrations. However, there are differently achieved dgerees of closure among the INP representation:\n",
    "\n",
    "At Zeppelin observatory, which is located in a mountainous region and is upwind compared to COMBLE, i.e., the boundary layer had less interaction with open ocean surfaces that potentially serve as a source of SSA and INPs, the singular MC2018 parameterizations represents observed INPs best.\n",
    "\n",
    "At COMBLE, after the air masses travelled long distance over open ocean, the observed INP number concentrations are best represented by the SSA IMF parameterization ABIFM.\n"
   ]
  },
  {
   "cell_type": "markdown",
   "id": "163b9ede",
   "metadata": {},
   "source": [
    "## Acknowledgment and References\n",
    "- We thank Israel Silber who wrote the original version of the quickcalc module.\n",
    "- A manuscript is currently in preparation (Sun et al., in prep). This manuscript further investigates the impacts of different types of aerosol properties, IMF parameterizations, and various model sensitivity parameters on the mixed-phase cloud processes.\n",
    "- Knopf, D. A., Barry, K. R., Brubaker, T. A., Jahl, L. G., Jankowski, K. A. L., Li, J., Lu, Y., Monroe, L. W., Moore, K. A., Rivera-Adorno, F. A., Sauceda, K. A., Shi, Y., Tomlin, J. M.,  Vepuri, H. S. K., Wang, P., Lata, N. N., Levin, E. J. T., Creamean, J. M., Hill, T. C. J., China, S., Alpert, P. A., Moffet, R. C., Hiranuma, N., Sullivan, R. C., Fridlind, A. M., West, M., Riemer, N., Laskin, A., DeMott, P. J., Liu, X., Aerosol–Ice Formation Closure: A Southern Great Plains Field Campaign, B. Am. Meteorol. Soc., 102, 10, E1952–E1971, 2021, <a href=\"https://journals.ametsoc.org/view/journals/bams/102/10/BAMS-D-20-0151.1.xml\"> doi: 10.1175/BAMS-D-20-0151.1</a>. \n",
    "- Knopf, D. A., Silber, I., Riemer, N., Fridlind, A. M., & Ackerman, A. S. (2023). A 1D model for nucleation of ice from aerosol particles: An application to a mixed-phase Arctic stratus cloud layer. Journal of Advances in Modeling Earth Systems, 15, e2023MS003663, <a href=\"https://agupubs.onlinelibrary.wiley.com/doi/10.1029/2023MS003663\"> doi:10.1029/2023MS003663</a>.\n",
    "- McCluskey, C. S., et al. (2018), Marine and Terrestrial Organic Ice-Nucleating Particles in Pristine Marine to Continentally Influenced Northeast Atlantic Air Masses, J. Geophys. Res.-Atmos., 123(11), 6196-6212, <a href=\"https://agupubs.onlinelibrary.wiley.com/doi/10.1029/2017JD028033\"> doi:10.1029/2017jd028033</a>.\n",
    "- Alpert, P. A., W. P. Kilthau, R. E. O'Brien, R. C. Moffet, M. K. Gilles, B. Wang, A. Laskin, J. Y. Aller, and D. A. Knopf (2022), Ice-nucleating agents in sea spray aerosol identified and quantified with a holistic multimodal freezing model, Sci Adv, 8(44), eabq6842, <a href=\"https://www.ncbi.nlm.nih.gov/pmc/articles/PMC9629709/\"> doi:10.1126/sciadv.abq6842</a>.\n",
    "- Contact: yijia.sun@stonybrook.edu "
   ]
  },
  {
   "cell_type": "code",
   "execution_count": null,
   "id": "26bae036",
   "metadata": {},
   "outputs": [],
   "source": []
  }
 ],
 "metadata": {
  "celltoolbar": "Raw Cell Format",
  "kernelspec": {
   "display_name": "Python 3 (ipykernel)",
   "language": "python",
   "name": "python3"
  },
  "language_info": {
   "codemirror_mode": {
    "name": "ipython",
    "version": 3
   },
   "file_extension": ".py",
   "mimetype": "text/x-python",
   "name": "python",
   "nbconvert_exporter": "python",
   "pygments_lexer": "ipython3",
   "version": "3.9.7"
  }
 },
 "nbformat": 4,
 "nbformat_minor": 5
}
