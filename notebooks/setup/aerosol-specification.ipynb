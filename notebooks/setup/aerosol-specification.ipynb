{
 "cells": [
  {
   "cell_type": "markdown",
   "metadata": {},
   "source": [
    "# Aerosol specification\n",
    "\n",
    "Contributed by Abigail Williams and Lynn Russell\n"
   ]
  },
  {
   "cell_type": "markdown",
   "metadata": {},
   "source": [
    "---"
   ]
  },
  {
   "cell_type": "markdown",
   "metadata": {},
   "source": [
    "## Overview\n",
    "The aerosol specification is a parameterized particle size distribution (PSD) made up of three lognormal modes:\n",
    "\n",
    "|     |Mode 1 | Mode 2 | Mode 3 |\n",
    "|-----|-------|--------|--------|\n",
    "|**N<sub>a</sub> (mg<sup>-1</sup>)** | 45.7 | 105.5 | 1.6 |\n",
    "|**D<sub>g</sub> ($\\mu$m)** | 0.04 | 0.14 | 0.50 |\n",
    "|**$\\sigma$<sub>g</sub>** | 1.7 | 1.6 | 1.7 |\n",
    "|**Kappa** | 0.3 | 0.5 | 0.9 |\n",
    "\n",
    "The above values are modal fits to the median aerosol PSD measured at Zeppelin Observatory in Svalbard (~1000 km upwind of COMBLE) during March-May 2020. We refer to this size distribution as PSD<sub>ZSM</sub> where ZSM stands for Zeppelin-Observatory Springtime Median. Kappa values are informed by the analysis of filter measurements of aerosol composition at Zeppelin Observatory and HTDMA measurements during COMBLE.\n",
    "\n",
    "Let's plot PSD<sub>ZSM</sub> below."
   ]
  },
  {
   "cell_type": "markdown",
   "metadata": {},
   "source": [
    "---"
   ]
  },
  {
   "cell_type": "markdown",
   "metadata": {},
   "source": [
    "## Imports"
   ]
  },
  {
   "cell_type": "code",
   "execution_count": 2,
   "metadata": {
    "tags": []
   },
   "outputs": [],
   "source": [
    "import pandas as pd\n",
    "import numpy as np\n",
    "import matplotlib.pyplot as plt"
   ]
  },
  {
   "cell_type": "markdown",
   "metadata": {},
   "source": [
    "## Read data from Google Sheets\n",
    "The PSD<sub>ZSM</sub> parameters are stored in a google sheet <a href=\"https://docs.google.com/spreadsheets/d/1q4YkJc5dF-ZOIx-xWU_IkmTYCUPoM0kODj5ro_7Vg_c/edit?usp=sharing\">here</a>. Let's read in that data."
   ]
  },
  {
   "cell_type": "code",
   "execution_count": 3,
   "metadata": {
    "tags": []
   },
   "outputs": [
    {
     "data": {
      "text/html": [
       "<div>\n",
       "<style scoped>\n",
       "    .dataframe tbody tr th:only-of-type {\n",
       "        vertical-align: middle;\n",
       "    }\n",
       "\n",
       "    .dataframe tbody tr th {\n",
       "        vertical-align: top;\n",
       "    }\n",
       "\n",
       "    .dataframe thead th {\n",
       "        text-align: right;\n",
       "    }\n",
       "</style>\n",
       "<table border=\"1\" class=\"dataframe\">\n",
       "  <thead>\n",
       "    <tr style=\"text-align: right;\">\n",
       "      <th></th>\n",
       "      <th>Mode</th>\n",
       "      <th>N_a</th>\n",
       "      <th>D_g</th>\n",
       "      <th>sigma_g</th>\n",
       "      <th>kappa</th>\n",
       "    </tr>\n",
       "  </thead>\n",
       "  <tbody>\n",
       "    <tr>\n",
       "      <th>0</th>\n",
       "      <td>Aitken</td>\n",
       "      <td>58</td>\n",
       "      <td>0.04</td>\n",
       "      <td>1.7</td>\n",
       "      <td>0.3</td>\n",
       "    </tr>\n",
       "    <tr>\n",
       "      <th>1</th>\n",
       "      <td>Accumulation</td>\n",
       "      <td>134</td>\n",
       "      <td>0.14</td>\n",
       "      <td>1.6</td>\n",
       "      <td>0.5</td>\n",
       "    </tr>\n",
       "    <tr>\n",
       "      <th>2</th>\n",
       "      <td>Sea Spray</td>\n",
       "      <td>2</td>\n",
       "      <td>0.50</td>\n",
       "      <td>1.7</td>\n",
       "      <td>0.9</td>\n",
       "    </tr>\n",
       "  </tbody>\n",
       "</table>\n",
       "</div>"
      ],
      "text/plain": [
       "           Mode  N_a   D_g  sigma_g  kappa\n",
       "0        Aitken   58  0.04      1.7    0.3\n",
       "1  Accumulation  134  0.14      1.6    0.5\n",
       "2     Sea Spray    2  0.50      1.7    0.9"
      ]
     },
     "execution_count": 3,
     "metadata": {},
     "output_type": "execute_result"
    }
   ],
   "source": [
    "PSD_zsm = pd.read_excel('https://docs.google.com/spreadsheets/d/' +\n",
    "                        '1q4YkJc5dF-ZOIx-xWU_IkmTYCUPoM0kODj5ro_7Vg_c' +\n",
    "                        '/export?gid=0&format=xlsx',\n",
    "                        sheet_name='PSD')\n",
    "PSD_zsm"
   ]
  },
  {
   "cell_type": "markdown",
   "metadata": {},
   "source": [
    "## Calculate the size distribution\n",
    "The lognormal distribution described by the above modal parameters is defined by the equation below (following *Seinfeld and Pandis 2016*):\n",
    "\n",
    "$$\n",
    "n(D) = \\frac{dN}{dD} = \\frac{N}{(2\\pi)^{0.5}\\log_{10}\\sigma_g}exp(-\\frac{(\\log_{10}D - \\log_{10}D_g)^{0.5}}{2\\log_{10}^2\\sigma_g})\n",
    "$$\n",
    "\n",
    "Let's calculate the size distribution corresponding to the PSD<sub>ZSM</sub> parameters."
   ]
  },
  {
   "cell_type": "code",
   "execution_count": 4,
   "metadata": {
    "tags": []
   },
   "outputs": [],
   "source": [
    "#create a diameter array\n",
    "D = np.logspace(-2, 1, num=100)\n",
    "\n",
    "#calculate lognormal mode number size distribution\n",
    "PSD_mode1 = np.multiply(np.divide(PSD_zsm.at[0, 'N_a'], (np.sqrt(2 * np.pi) * np.log10(PSD_zsm.at[0, 'sigma_g']))), \\\n",
    "                        np.exp(-(np.square(np.subtract(np.log10(D), np.log10(PSD_zsm.at[0, 'D_g'])))) \\\n",
    "                               / (2 * np.square(np.log10(PSD_zsm.at[0, 'sigma_g'])))))\n",
    "PSD_mode2 = np.multiply(np.divide(PSD_zsm.at[1, 'N_a'], (np.sqrt(2 * np.pi) * np.log10(PSD_zsm.at[1, 'sigma_g']))), \\\n",
    "                        np.exp(-(np.square(np.subtract(np.log10(D), np.log10(PSD_zsm.at[1, 'D_g'])))) / \\\n",
    "                               (2 * np.square(np.log10(PSD_zsm.at[1, 'sigma_g'])))))\n",
    "PSD_mode3 = np.multiply(np.divide(PSD_zsm.at[2, 'N_a'], (np.sqrt(2 * np.pi) * np.log10(PSD_zsm.at[2, 'sigma_g']))), \\\n",
    "                        np.exp(-(np.square(np.subtract(np.log10(D), np.log10(PSD_zsm.at[2, 'D_g'])))) / \\\n",
    "                               (2 * np.square(np.log10(PSD_zsm.at[2, 'sigma_g'])))))\n",
    "\n",
    "#sum three individual lognormal modes together to make a single tri-modal size distribution\n",
    "PSD_sum = PSD_mode1 + PSD_mode2 + PSD_mode3"
   ]
  },
  {
   "cell_type": "markdown",
   "metadata": {},
   "source": [
    "## Plot the PSD"
   ]
  },
  {
   "cell_type": "code",
   "execution_count": 8,
   "metadata": {
    "tags": []
   },
   "outputs": [
    {
     "data": {
      "image/png": "[encoded data removed]",
      "text/plain": [
       "<Figure size 640x480 with 1 Axes>"
      ]
     },
     "metadata": {},
     "output_type": "display_data"
    }
   ],
   "source": [
    "plt.plot(D, PSD_mode1, '--b')\n",
    "plt.plot(D, PSD_mode2, '--b')\n",
    "plt.plot(D, PSD_mode3, '--b')\n",
    "plt.plot(D, PSD_sum, 'k')\n",
    "plt.axis('square')\n",
    "plt.yscale('log')\n",
    "plt.xscale('log')\n",
    "plt.xlim([1e-2, 1e1])\n",
    "plt.ylim([1e0, 1e3])\n",
    "plt.grid()\n",
    "plt.xlabel('Diameter $(\\mu m)$')\n",
    "plt.ylabel('dN/dlogD $(cm^{-3})$')\n",
    "plt.title('Modal fit of Zeppelin springtime median aerosol PSD')\n",
    "plt.show()"
   ]
  },
  {
   "cell_type": "markdown",
   "metadata": {},
   "source": [
    "---"
   ]
  },
  {
   "cell_type": "markdown",
   "metadata": {},
   "source": [
    "## References\n",
    "- We thank Radovan Krejci, Paul Zieger, and Peter Tunved for supplying the dataset of aerosol measurements taken at Zeppelin Observatory.\n",
    "\n",
    "- A manuscript detailing aerosol characteristics during cold-air outbreaks around the Norwegian Sea is currently in preparation (Williams et al., *in prep*). This manuscript further describes the observations and methods used to derive the above parameters for the modal fit to the springtime median aerosol PSD at Zeppelin Observatory. "
   ]
  },
  {
   "cell_type": "code",
   "execution_count": null,
   "metadata": {},
   "outputs": [],
   "source": []
  }
 ],
 "metadata": {
  "kernelspec": {
   "display_name": "Python 3 (ipykernel)",
   "language": "python",
   "name": "python3"
  },
  "language_info": {
   "codemirror_mode": {
    "name": "ipython",
    "version": 3
   },
   "file_extension": ".py",
   "mimetype": "text/x-python",
   "name": "python",
   "nbconvert_exporter": "python",
   "pygments_lexer": "ipython3",
   "version": "3.10.9"
  },
  "nbdime-conflicts": {
   "local_diff": [
    {
     "diff": [
      {
       "diff": [
        {
         "key": 0,
         "op": "addrange",
         "valuelist": [
          "Python 3"
         ]
        },
        {
         "key": 0,
         "length": 1,
         "op": "removerange"
        }
       ],
       "key": "display_name",
       "op": "patch"
      }
     ],
     "key": "kernelspec",
     "op": "patch"
    }
   ],
   "remote_diff": [
    {
     "diff": [
      {
       "diff": [
        {
         "key": 0,
         "op": "addrange",
         "valuelist": [
          "Python3"
         ]
        },
        {
         "key": 0,
         "length": 1,
         "op": "removerange"
        }
       ],
       "key": "display_name",
       "op": "patch"
      }
     ],
     "key": "kernelspec",
     "op": "patch"
    }
   ]
  },
  "toc-autonumbering": false
 },
 "nbformat": 4,
 "nbformat_minor": 4
}
