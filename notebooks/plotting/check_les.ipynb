{
 "cells": [
  {
   "cell_type": "markdown",
   "id": "fc413f6b-235a-4007-81fe-210c895c9fbe",
   "metadata": {
    "tags": []
   },
   "source": [
    "# Check my LES run\n",
    "\n",
    "* The below notebook allows to compare a selected large-eddy simulation against a set of benchmark simulations (shown in gray).\n",
    "* All requested 1D and 2D variables are here read and plotted. \"load_sims\" reports variable that are missing. Lines will not show, if a variable is missing or if it contains missing values.\n",
    "* In case you find inconsistencies in the benchmark set or wish to expand the code, please contact Ann Fridlind (ann.fridlind@nasa.gov), Timothy Juliano (tjuliano@ucar.edu), and Florian Tornow (ft2544@columbia.edu)."
   ]
  },
  {
   "cell_type": "code",
   "execution_count": 86,
   "id": "8dc64df9-ac74-4def-bcb4-740c421e1f9a",
   "metadata": {
    "tags": []
   },
   "outputs": [],
   "source": [
    "%run functions_plotting.py\n",
    "\n",
    "## select (grayed out) simulations to plot\n",
    "sim_keyword_gray = 'dharma/sandbox/DHARMA_Lx25_dx200_FixN.'\n",
    "\n",
    "## select LES run(s) of interest\n",
    "sim_keyword_col_les = 'WRF_Lx25_dx100_FixN.'\n",
    "\n",
    "## switches to diagnose variable\n",
    "diagnose_zinv = True\n",
    "diagnose_qliquid = True\n",
    "diagnose_qfrozen = True"
   ]
  },
  {
   "cell_type": "code",
   "execution_count": 87,
   "id": "e6ed1ee4-e2e4-4044-b256-010c272438bb",
   "metadata": {
    "tags": []
   },
   "outputs": [],
   "source": [
    "vars_mean_list = pd.read_excel('https://docs.google.com/spreadsheets/d/1Vl8jYGviet7EtXZuQiitrx4NSkV1x27aJAhxxjBb9zI/export?gid=0&format=xlsx',\n",
    "                              sheet_name='Mean')\n",
    "\n",
    "## short names\n",
    "var_vec_1d = np.asarray(vars_mean_list.variable_id[vars_mean_list.dimensions == 'time'])\n",
    "var_vec_2d = np.asarray(vars_mean_list.variable_id[vars_mean_list.dimensions == 'time, height'])\n",
    "\n",
    "## long names\n",
    "var_vec_1d_long = np.asarray(vars_mean_list.standard_name[vars_mean_list.dimensions == 'time'])\n",
    "\n",
    "## Units\n",
    "var_vec_1d_units = np.asarray(vars_mean_list.units[vars_mean_list.dimensions == 'time'])\n",
    "var_vec_2d_units = np.asarray(vars_mean_list.units[vars_mean_list.dimensions == 'time, height'])"
   ]
  },
  {
   "cell_type": "code",
   "execution_count": null,
   "id": "aebc954d-1bd0-459a-9ac5-0b8305f2652b",
   "metadata": {
    "tags": []
   },
   "outputs": [
    {
     "name": "stdout",
     "output_type": "stream",
     "text": [
      "Loading variables: f(time)\n",
      "../../output_les/dharma/sandbox/DHARMA_Lx25_dx200_FixN.nc\n",
      "ssaf not found in ../../output_les/dharma/sandbox/DHARMA_Lx25_dx200_FixN.nc\n",
      "Loading variables: f(time,height)\n",
      "../../output_les/dharma/sandbox/DHARMA_Lx25_dx200_FixN.nc\n",
      "na1 shows NAN values in ../../output_les/dharma/sandbox/DHARMA_Lx25_dx200_FixN.nc\n",
      "na2 shows NAN values in ../../output_les/dharma/sandbox/DHARMA_Lx25_dx200_FixN.nc\n",
      "na3 shows NAN values in ../../output_les/dharma/sandbox/DHARMA_Lx25_dx200_FixN.nc\n",
      "nlcic shows NAN values in ../../output_les/dharma/sandbox/DHARMA_Lx25_dx200_FixN.nc\n",
      "niic shows NAN values in ../../output_les/dharma/sandbox/DHARMA_Lx25_dx200_FixN.nc\n",
      "eps shows NAN values in ../../output_les/dharma/sandbox/DHARMA_Lx25_dx200_FixN.nc\n",
      "dna_micro_warm not found in ../../output_les/dharma/sandbox/DHARMA_Lx25_dx200_FixN.nc\n",
      "dna_micro_cold not found in ../../output_les/dharma/sandbox/DHARMA_Lx25_dx200_FixN.nc\n",
      "dna_turb not found in ../../output_les/dharma/sandbox/DHARMA_Lx25_dx200_FixN.nc\n",
      "dni_het not found in ../../output_les/dharma/sandbox/DHARMA_Lx25_dx200_FixN.nc\n",
      "dni_sip not found in ../../output_les/dharma/sandbox/DHARMA_Lx25_dx200_FixN.nc\n",
      "dni_hom not found in ../../output_les/dharma/sandbox/DHARMA_Lx25_dx200_FixN.nc\n"
     ]
    }
   ],
   "source": [
    "## load all simulations located in subfolders of the given directory\n",
    "df_gray_1d,df_gray_2d = load_sims('../../output_les/',var_vec_1d,var_vec_2d,t_shift=-2,keyword=sim_keyword_gray,make_gray = 1,diag_zi_ctt=diagnose_zinv,diag_qltot=diagnose_qliquid,diag_qitot=diagnose_qfrozen)\n",
    "\n",
    "## example using LES\n",
    "df_col_1d_les,df_col_2d_les = load_sims('../../output_les/',var_vec_1d,var_vec_2d,t_shift=-2,keyword=sim_keyword_col_les,diag_zi_ctt=diagnose_zinv,diag_qltot=diagnose_qliquid,diag_qitot=diagnose_qfrozen)\n",
    "\n",
    "## update plotted variables and their units accordingly\n",
    "if diagnose_qliquid:\n",
    "    lwp_pos = np.where(var_vec_1d == 'ol')[0] + 1\n",
    "    var_vec_1d = np.insert(var_vec_1d,lwp_pos,'lwp')\n",
    "    var_vec_1d_long = np.insert(var_vec_1d_long,lwp_pos,'atmosphere_mass_content_total_cloud_water_diagnosed')\n",
    "    var_vec_1d_units = np.insert(var_vec_1d_units,lwp_pos,'kg m-2')\n",
    "    \n",
    "    qliq_pos = np.where(var_vec_2d == 'qlc')[0]\n",
    "    var_vec_2d = np.insert(var_vec_2d,qliq_pos,'qltot')\n",
    "    var_vec_2d_units = np.insert(var_vec_2d,qliq_pos,'kg kg-1')\n",
    "\n",
    "if diagnose_qliquid:\n",
    "    qliq_pos = np.where(var_vec_2d == 'qic')[0]\n",
    "    var_vec_2d = np.insert(var_vec_2d,qliq_pos,'qitot')\n",
    "    var_vec_2d_units = np.insert(var_vec_2d,qliq_pos,'kg kg-1')\n",
    "\n",
    "if diagnose_zinv:    \n",
    "    cth_pos = np.where(var_vec_1d == 'ol')[0] + 1\n",
    "    var_vec_1d = np.insert(var_vec_1d,cth_pos,'cth')\n",
    "    var_vec_1d_long = np.insert(var_vec_1d_long,cth_pos,'diagnosed_cloud_top_height')\n",
    "    var_vec_1d_units = np.insert(var_vec_1d_units,cth_pos,'m')\n",
    "    "
   ]
  },
  {
   "cell_type": "code",
   "execution_count": null,
   "id": "99b99c60-0955-4f66-b70e-46456c529210",
   "metadata": {
    "tags": []
   },
   "outputs": [],
   "source": [
    "## plot variables that have only time dependence\n",
    "plot_1d(pd.concat([df_gray_1d,df_col_1d_les]),var_vec_1d,longnames=var_vec_1d_long,units=var_vec_1d_units)"
   ]
  },
  {
   "cell_type": "code",
   "execution_count": null,
   "id": "54bb35ce-c080-49a0-9e0e-9046e072f715",
   "metadata": {
    "tags": []
   },
   "outputs": [],
   "source": [
    "## example where ERA5 and radiosonde are included\n",
    "plot_2d(pd.concat([df_gray_2d,df_col_2d_les]),var_vec_2d,times=[-1.5,0,3,9,18],z_max=6000,units=var_vec_2d_units)"
   ]
  },
  {
   "cell_type": "code",
   "execution_count": null,
   "id": "4a31525e-ed1e-4236-a7fb-36260cdf9345",
   "metadata": {},
   "outputs": [],
   "source": []
  }
 ],
 "metadata": {
  "kernelspec": {
   "display_name": "Python 3 (ipykernel)",
   "language": "python",
   "name": "python3"
  },
  "language_info": {
   "codemirror_mode": {
    "name": "ipython",
    "version": 3
   },
   "file_extension": ".py",
   "mimetype": "text/x-python",
   "name": "python",
   "nbconvert_exporter": "python",
   "pygments_lexer": "ipython3",
   "version": "3.10.9"
  }
 },
 "nbformat": 4,
 "nbformat_minor": 5
}
