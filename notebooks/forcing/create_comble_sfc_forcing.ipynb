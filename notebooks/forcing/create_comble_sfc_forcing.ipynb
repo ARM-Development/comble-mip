{
 "cells": [
  {
   "cell_type": "markdown",
   "metadata": {},
   "source": [
    "# Generate time-varying surface forcing"
   ]
  },
  {
   "cell_type": "markdown",
   "metadata": {},
   "source": [
    "### Code to generate ONLY time-varying surface forcing based on ERA5 and backward trajectory and high-res sea ice satellite data from Univ. of Bremen for COMBLE LES/SCM intercomparison\n",
    "### Developed by Tim Juliano at NCAR/RAL originally on 8/26/22\n",
    "### This file generated for the ARM Data Archive on 2/1/23\n",
    "### We have the option of starting as far as 28 hours before arriving at Andenes (03/12/20 at 14 UTC)\n",
    "### Includes lat/lon correction by Peng Wu (PNNL)"
   ]
  },
  {
   "cell_type": "markdown",
   "metadata": {},
   "source": [
    "### Import libraries"
   ]
  },
  {
   "cell_type": "code",
   "execution_count": 39,
   "metadata": {},
   "outputs": [],
   "source": [
    "import netCDF4\n",
    "import numpy as np\n",
    "import numpy.ma as ma\n",
    "import sys\n",
    "from netCDF4 import Dataset, date2num,num2date\n",
    "import datetime as dt\n",
    "import os\n",
    "import matplotlib.pyplot as plt\n",
    "from scipy import interpolate\n",
    "import geopy.distance\n",
    "from scipy.ndimage import gaussian_filter1d\n",
    "#import gdal\n",
    "import copy"
   ]
  },
  {
   "cell_type": "markdown",
   "metadata": {},
   "source": [
    "### !!! BEGIN USER MODS !!!\n",
    "#### How many hours before ice edge do you want to start?\n",
    "#### Note: t0_h = 0 means you are starting approx. at ice edge, t0_h = 10 means you are starting 10 h upstream (north) of the ice edge\n",
    "#### Note: t0_h must be an integer"
   ]
  },
  {
   "cell_type": "code",
   "execution_count": 40,
   "metadata": {},
   "outputs": [],
   "source": [
    "t0_h = 10\n",
    "if t0_h < 0 or t0_h > 10:\n",
    "    sys.exit('Error: Please set 0 <= t0_h >= 10')\n",
    "    \n",
    "verbose = False # switch to output additional info"
   ]
  },
  {
   "cell_type": "markdown",
   "metadata": {},
   "source": [
    "### !!! END USER MODS !!!"
   ]
  },
  {
   "cell_type": "markdown",
   "metadata": {},
   "source": [
    "### Set some things"
   ]
  },
  {
   "cell_type": "code",
   "execution_count": 41,
   "metadata": {},
   "outputs": [
    {
     "name": "stdout",
     "output_type": "stream",
     "text": [
      "Start time is: 2020-03-12 14:00:00\n"
     ]
    }
   ],
   "source": [
    "nhrs = 18 + t0_h + 1 # total number of simulation hours, including t0; default is from 2020-03-12 at 14 UTC to 2020-03-14 at 00 UTC\n",
    "if t0_h == 0:\n",
    "    start_time = '2020-03-13 00:00:00'\n",
    "    start_day = 13\n",
    "    start_hour = 0\n",
    "else:\n",
    "    start_time = '2020-03-12 ' + str(24-t0_h) + ':00:00'\n",
    "    start_day = 12\n",
    "    start_hour = 24-t0_h\n",
    "print ('Start time is: ' + start_time)"
   ]
  },
  {
   "cell_type": "markdown",
   "metadata": {},
   "source": [
    "### Forcing NetCDF name and delete file if already exists"
   ]
  },
  {
   "cell_type": "code",
   "execution_count": 42,
   "metadata": {},
   "outputs": [
    {
     "name": "stdout",
     "output_type": "stream",
     "text": [
      "The file COMBLE_INTERCOMPARISON_SFC_FORCING.nc has been deleted successfully\n"
     ]
    }
   ],
   "source": [
    "savename = 'COMBLE_INTERCOMPARISON_SFC_FORCING.nc'\n",
    "\n",
    "if os.path.exists(savename):\n",
    "    os.remove(savename)\n",
    "    print('The file ' + savename + ' has been deleted successfully')"
   ]
  },
  {
   "cell_type": "markdown",
   "metadata": {},
   "source": [
    "### Get LES domain locations"
   ]
  },
  {
   "cell_type": "code",
   "execution_count": 43,
   "metadata": {},
   "outputs": [
    {
     "name": "stdout",
     "output_type": "stream",
     "text": [
      "LES domain mid point: lat=77.6N, lon=8.6E\n"
     ]
    }
   ],
   "source": [
    "fname = 'LES_domain_location_28h_18Z_Mar13_2020.txt'\n",
    "\n",
    "les_loc = np.loadtxt(fname,skiprows=1)\n",
    "les_hh = les_loc[:,0]\n",
    "les_hh_idx = np.where(les_hh>=-1.*t0_h)[0]\n",
    "les_lat = les_loc[les_hh_idx,1]\n",
    "les_lon = les_loc[les_hh_idx,2]\n",
    "\n",
    "les_lat_mid = round(np.mean(les_lat),1)\n",
    "les_lon_mid = round(np.mean(les_lon),1)\n",
    "print ('LES domain mid point: ' + 'lat=' + str(les_lat_mid) + 'N, lon=' + str(les_lon_mid) + 'E')"
   ]
  },
  {
   "cell_type": "markdown",
   "metadata": {},
   "source": [
    "### Calculate sea ice concentration along trajectory"
   ]
  },
  {
   "cell_type": "code",
   "execution_count": 44,
   "metadata": {},
   "outputs": [],
   "source": [
    "sic_file = netCDF4.Dataset('Svalbard_asi-AMSR2-n10m-20200313_m.nc')\n",
    "sic = sic_file.variables['z'][:,:]\n",
    "sic_lat = sic_file.variables['lat'][:]\n",
    "sic_lon = sic_file.variables['lon'][:]\n",
    "\n",
    "# Read high-res domain location file\n",
    "les_loc_hr = np.loadtxt(fname,skiprows=1)\n",
    "les_hh_hr = les_loc_hr[:,0]\n",
    "les_hh_hr_idx = np.where(les_hh_hr>=-1.*t0_h)[0]\n",
    "les_lat_hr = les_loc_hr[les_hh_hr_idx,1]\n",
    "les_lon_hr = les_loc_hr[les_hh_hr_idx,2]\n",
    "\n",
    "sic_traj = np.empty(len(les_hh_hr_idx))\n",
    "for i in np.arange(len(les_hh_hr_idx)):\n",
    "    abslat = np.abs(sic_lat-les_lat_hr[i])\n",
    "    abslon = np.abs(sic_lon-les_lon_hr[i])\n",
    "    jlat = np.argmin(abslat)\n",
    "    ilon = np.argmin(abslon)\n",
    "    sic_traj[i] = sic[jlat,ilon]"
   ]
  },
  {
   "cell_type": "markdown",
   "metadata": {},
   "source": [
    "### Read in data from ERA5 backtrajectory (netCDF)"
   ]
  },
  {
   "cell_type": "code",
   "execution_count": 45,
   "metadata": {},
   "outputs": [],
   "source": [
    "# File name\n",
    "fname = 'theta_temp_rh_sh_uvw_sst_along_trajectory_era5ml_28h_end_2020-03-13-18.nc'\n",
    "\n",
    "# Open dataset\n",
    "dataset = netCDF4.Dataset(fname, \"r\")\n",
    "\n",
    "# Read variables (1D arrays are time, 2D arrays are time x pressure level)\n",
    "hours = dataset.variables['Time'][:]\n",
    "lat = dataset.variables['Latitude'][:]\n",
    "lon = dataset.variables['Longitude'][:]\n",
    "sst = dataset.variables['SST'][:]"
   ]
  },
  {
   "cell_type": "markdown",
   "metadata": {},
   "source": [
    "### Reverse time dimension of sst, so that beginning of backward trajectory is in first position"
   ]
  },
  {
   "cell_type": "code",
   "execution_count": 46,
   "metadata": {},
   "outputs": [],
   "source": [
    "sst = sst[::-1]"
   ]
  },
  {
   "cell_type": "markdown",
   "metadata": {},
   "source": [
    "### Unmask sst field and get index according to t0_h (furthest north we can go is 28h after backtrajectory initialization from Andenes, or 3/12/20 at 14 UTC)"
   ]
  },
  {
   "cell_type": "code",
   "execution_count": 47,
   "metadata": {},
   "outputs": [],
   "source": [
    "sst_real = ma.getdata(sst)\n",
    "loopidx = np.where(sst_real>0.0)[0]\n",
    "t0 = loopidx[0]"
   ]
  },
  {
   "cell_type": "markdown",
   "metadata": {},
   "source": [
    "### Get time series information for sfc forcing"
   ]
  },
  {
   "cell_type": "code",
   "execution_count": 48,
   "metadata": {},
   "outputs": [],
   "source": [
    "# Interpolate SST\n",
    "tmp_hh = np.arange(-10,19,1) # these are the hours we have SST data from the ERA5 backward trajectory file\n",
    "f = interpolate.interp1d(tmp_hh, sst[t0:])\n",
    "sst_interp = f(les_hh_hr[les_hh_hr_idx])\n",
    "\n",
    "# Modification for over ice/MIZ\n",
    "tsk_ice = 247.0\n",
    "sst_ts = np.empty(len(sic_traj))\n",
    "for i in np.arange(len(sic_traj)):\n",
    "    if sic_traj[i] > 90.0: # over ice\n",
    "        sst_ts[i] = tsk_ice\n",
    "    elif sic_traj[i] > 0.0: # MIZ\n",
    "        sst_ts[i] = (sic_traj[i]/100.)*tsk_ice + (1.-(sic_traj[i]/100.))*sst_interp[i] # MIZ\n",
    "    else: # open ocean\n",
    "        sst_ts[i] = sst_interp[i]\n",
    "\n",
    "    if verbose == True:\n",
    "        print ('Computed TSK for hour ' + str(round(5*i/60.,3)) + ': '\n",
    "               + str(round(sst_ts[i],3)) + ' with SIC = ' + str(sic_traj[i]/100.) +\n",
    "               ' and SST = ' + str(round(sst_interp[i],3)))"
   ]
  },
  {
   "cell_type": "markdown",
   "metadata": {},
   "source": [
    "### Create new netcdf file"
   ]
  },
  {
   "cell_type": "code",
   "execution_count": 49,
   "metadata": {},
   "outputs": [],
   "source": [
    "try: ncfile.close()  # just to be safe, make sure dataset is not already open.\n",
    "except: pass\n",
    "ncfile = Dataset('./' + savename,mode='w',format='NETCDF3_CLASSIC') "
   ]
  },
  {
   "cell_type": "markdown",
   "metadata": {},
   "source": [
    "### Create dimensions"
   ]
  },
  {
   "cell_type": "code",
   "execution_count": 50,
   "metadata": {},
   "outputs": [],
   "source": [
    "time_dim = ncfile.createDimension('time', None)    # unlimited axis (can be appended to)"
   ]
  },
  {
   "cell_type": "markdown",
   "metadata": {},
   "source": [
    "### Create global attributes"
   ]
  },
  {
   "cell_type": "code",
   "execution_count": 51,
   "metadata": {},
   "outputs": [],
   "source": [
    "ncfile.title='Time-varying surface conditions for 13 March 2020 COMBLE intercomparison case'\n",
    "ncfile.reference='https://arm-development.github.io/comble-mip/'\n",
    "ncfile.authors='Timothy W. Juliano (NCAR/RAL, tjuliano@ucar.edu); Florian Tornow (NASA/GISS, ft2544@columbia.edu); Ann M. Fridlind (NASA/GISS, ann.fridlind@nasa.gov)'\n",
    "ncfile.version='Created on 2023-02-01'\n",
    "ncfile.format_version='DEPHY SCM format version 1'\n",
    "ncfile.script='create_comble_sfc_forcing_era5ml.ipynb'\n",
    "ncfile.startDate=start_time\n",
    "ncfile.endDate='2020-03-13 18:00:00'\n",
    "ncfile.force_geo=1\n",
    "ncfile.surfaceType='ocean'\n",
    "ncfile.surfaceForcing='ts'\n",
    "ncfile.lat=str(les_lat_mid) + ' deg N'\n",
    "ncfile.dx='150 m'\n",
    "ncfile.dy='150 m'\n",
    "ncfile.dz='see zw_grid variable'\n",
    "ncfile.nx='648'\n",
    "ncfile.ny='648'\n",
    "ncfile.nz='160'"
   ]
  },
  {
   "cell_type": "markdown",
   "metadata": {},
   "source": [
    "### Create variables"
   ]
  },
  {
   "cell_type": "markdown",
   "metadata": {},
   "source": [
    "#### Dimensions"
   ]
  },
  {
   "cell_type": "code",
   "execution_count": 52,
   "metadata": {},
   "outputs": [],
   "source": [
    "time = ncfile.createVariable('time', np.float64, ('time',))\n",
    "time.units = 'seconds since ' + start_time\n",
    "time.long_name = 'time'"
   ]
  },
  {
   "cell_type": "markdown",
   "metadata": {},
   "source": [
    "#### Time-varying forcing - surface"
   ]
  },
  {
   "cell_type": "code",
   "execution_count": 53,
   "metadata": {},
   "outputs": [],
   "source": [
    "ts = ncfile.createVariable('ts', np.float64, ('time',))\n",
    "ts.units = 'K'\n",
    "ts.long_name = 'surface temperature'"
   ]
  },
  {
   "cell_type": "markdown",
   "metadata": {},
   "source": [
    "### Write data"
   ]
  },
  {
   "cell_type": "code",
   "execution_count": 54,
   "metadata": {},
   "outputs": [],
   "source": [
    "ts[:] = sst_ts"
   ]
  },
  {
   "cell_type": "markdown",
   "metadata": {},
   "source": [
    "### Add times"
   ]
  },
  {
   "cell_type": "code",
   "execution_count": 55,
   "metadata": {},
   "outputs": [],
   "source": [
    "dates = []\n",
    "nmin = int((18 + t0_h)*12 + 1)\n",
    "curr_hh = copy.deepcopy(start_hour)\n",
    "curr_dd = copy.deepcopy(start_day)\n",
    "ii = 0\n",
    "first_pass = 1\n",
    "for i in np.arange(nmin):\n",
    "    curr_min = 5*ii\n",
    "    if curr_min % 60 == 0 and first_pass == 0:\n",
    "        curr_hh+=1\n",
    "        ii = 0\n",
    "        curr_min = 5*ii\n",
    "        if curr_hh == 24:\n",
    "            curr_hh = 0\n",
    "            curr_dd+=1\n",
    "    \n",
    "    dates.append(dt.datetime(2020,3,curr_dd,curr_hh,curr_min))\n",
    "    \n",
    "    first_pass = 0\n",
    "    ii+=1\n",
    "\n",
    "times = date2num(dates, time.units)\n",
    "time[:] = times"
   ]
  },
  {
   "cell_type": "markdown",
   "metadata": {},
   "source": [
    "### Close the file"
   ]
  },
  {
   "cell_type": "code",
   "execution_count": 56,
   "metadata": {},
   "outputs": [
    {
     "name": "stdout",
     "output_type": "stream",
     "text": [
      "<class 'netCDF4._netCDF4.Dataset'>\n",
      "root group (NETCDF3_CLASSIC data model, file format NETCDF3):\n",
      "    title: Time-varying surface conditions for 13 March 2020 COMBLE intercomparison case\n",
      "    reference: https://arm-development.github.io/comble-mip/\n",
      "    authors: Timothy W. Juliano (NCAR/RAL, tjuliano@ucar.edu); Florian Tornow (NASA/GISS, ft2544@columbia.edu); Ann M. Fridlind (NASA/GISS, ann.fridlind@nasa.gov)\n",
      "    version: Created on 2023-02-01\n",
      "    format_version: DEPHY SCM format version 1\n",
      "    script: create_comble_sfc_forcing_era5ml.ipynb\n",
      "    startDate: 2020-03-12 14:00:00\n",
      "    endDate: 2020-03-13 18:00:00\n",
      "    force_geo: 1\n",
      "    surfaceType: ocean\n",
      "    surfaceForcing: ts\n",
      "    lat: 77.6 deg N\n",
      "    dx: 150 m\n",
      "    dy: 150 m\n",
      "    dz: see zw_grid variable\n",
      "    nx: 648\n",
      "    ny: 648\n",
      "    nz: 160\n",
      "    dimensions(sizes): time(337)\n",
      "    variables(dimensions): float64 time(time), float64 ts(time)\n",
      "    groups: \n",
      "Dataset is closed!\n"
     ]
    }
   ],
   "source": [
    "# first print the Dataset object to see what we've got\n",
    "print(ncfile)\n",
    "# close the Dataset.\n",
    "ncfile.close(); print('Dataset is closed!')"
   ]
  },
  {
   "cell_type": "code",
   "execution_count": null,
   "metadata": {},
   "outputs": [],
   "source": []
  }
 ],
 "metadata": {
  "kernelspec": {
   "display_name": "Python 3",
   "language": "python",
   "name": "python3"
  },
  "language_info": {
   "codemirror_mode": {
    "name": "ipython",
    "version": 3
   },
   "file_extension": ".py",
   "mimetype": "text/x-python",
   "name": "python",
   "nbconvert_exporter": "python",
   "pygments_lexer": "ipython3",
   "version": "3.6.8"
  }
 },
 "nbformat": 4,
 "nbformat_minor": 4
}
