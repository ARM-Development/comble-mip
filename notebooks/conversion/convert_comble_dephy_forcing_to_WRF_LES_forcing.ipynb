{
 "cells": [
  {
   "cell_type": "markdown",
   "id": "5f02ac0c",
   "metadata": {},
   "source": [
    "# Example: convert DEPHY forcing to WRF-LES forcing\n",
    "\n",
    "This code reads the COMBLE-MIP LES/SCM forcing file that is supplied in the DEPHY format and writes input files that are formatted for WRF-LES (ASCII and NetCDF)\n",
    "\n",
    "Contributed by Tim Juliano from NCAR, last updated on 12/1/23"
   ]
  },
  {
   "cell_type": "markdown",
   "id": "8164704b",
   "metadata": {},
   "source": [
    "### Import libraries"
   ]
  },
  {
   "cell_type": "code",
   "execution_count": 1,
   "id": "b6e2c74e",
   "metadata": {
    "tags": []
   },
   "outputs": [],
   "source": [
    "import numpy as np\n",
    "import pandas as pd\n",
    "import xarray as xr\n",
    "from netCDF4 import Dataset, stringtochar\n",
    "import os\n",
    "import datetime as dt"
   ]
  },
  {
   "cell_type": "markdown",
   "id": "e68367d4-8f12-4f95-aeef-87f036044975",
   "metadata": {
    "tags": []
   },
   "source": [
    "## Specify local write directory\n",
    "\n",
    "If on the ARM JupyterHub, it is recommended to create and specify a local directory that is outside of the COMBLE-MIP repository to write input files in your model's format\n",
    "\n",
    "If on the ARM JupyterHub, these files can be conveniently downloaded to your local machine and will remain when you log out"
   ]
  },
  {
   "cell_type": "code",
   "execution_count": 2,
   "id": "1d3ba6b7-b104-41ec-83a5-dd0f7a331e3a",
   "metadata": {
    "tags": []
   },
   "outputs": [],
   "source": [
    "my_write_dir = '../../../my_input_files/'"
   ]
  },
  {
   "cell_type": "markdown",
   "id": "e495d40a-bcec-4a67-812d-88ff33d51f3e",
   "metadata": {
    "tags": []
   },
   "source": [
    "## Read the COMBLE-MIP forcing file\n",
    "\n",
    "NOTE: ERROR 1 message can be ignored"
   ]
  },
  {
   "cell_type": "code",
   "execution_count": 3,
   "id": "1190a330-4b1d-4b69-a2db-3cadc1712b26",
   "metadata": {
    "tags": []
   },
   "outputs": [
    {
     "name": "stderr",
     "output_type": "stream",
     "text": [
      "ERROR 1: PROJ: proj_create_from_database: Open of /opt/conda/share/proj failed\n"
     ]
    },
    {
     "data": {
      "text/html": [
       "<div><svg style=\"position: absolute; width: 0; height: 0; overflow: hidden\">\n",
       "<defs>\n",
       "<symbol id=\"icon-database\" viewBox=\"0 0 32 32\">\n",
       "<path d=\"M16 0c-8.837 0-16 2.239-16 5v4c0 2.761 7.163 5 16 5s16-2.239 16-5v-4c0-2.761-7.163-5-16-5z\"></path>\n",
       "<path d=\"M16 17c-8.837 0-16-2.239-16-5v6c0 2.761 7.163 5 16 5s16-2.239 16-5v-6c0 2.761-7.163 5-16 5z\"></path>\n",
       "<path d=\"M16 26c-8.837 0-16-2.239-16-5v6c0 2.761 7.163 5 16 5s16-2.239 16-5v-6c0 2.761-7.163 5-16 5z\"></path>\n",
       "</symbol>\n",
       "<symbol id=\"icon-file-text2\" viewBox=\"0 0 32 32\">\n",
       "<path d=\"M28.681 7.159c-0.694-0.947-1.662-2.053-2.724-3.116s-2.169-2.030-3.116-2.724c-1.612-1.182-2.393-1.319-2.841-1.319h-15.5c-1.378 0-2.5 1.121-2.5 2.5v27c0 1.378 1.122 2.5 2.5 2.5h23c1.378 0 2.5-1.122 2.5-2.5v-19.5c0-0.448-0.137-1.23-1.319-2.841zM24.543 5.457c0.959 0.959 1.712 1.825 2.268 2.543h-4.811v-4.811c0.718 0.556 1.584 1.309 2.543 2.268zM28 29.5c0 0.271-0.229 0.5-0.5 0.5h-23c-0.271 0-0.5-0.229-0.5-0.5v-27c0-0.271 0.229-0.5 0.5-0.5 0 0 15.499-0 15.5 0v7c0 0.552 0.448 1 1 1h7v19.5z\"></path>\n",
       "<path d=\"M23 26h-14c-0.552 0-1-0.448-1-1s0.448-1 1-1h14c0.552 0 1 0.448 1 1s-0.448 1-1 1z\"></path>\n",
       "<path d=\"M23 22h-14c-0.552 0-1-0.448-1-1s0.448-1 1-1h14c0.552 0 1 0.448 1 1s-0.448 1-1 1z\"></path>\n",
       "<path d=\"M23 18h-14c-0.552 0-1-0.448-1-1s0.448-1 1-1h14c0.552 0 1 0.448 1 1s-0.448 1-1 1z\"></path>\n",
       "</symbol>\n",
       "</defs>\n",
       "</svg>\n",
       "<style>/* CSS stylesheet for displaying xarray objects in jupyterlab.\n",
       " *\n",
       " */\n",
       "\n",
       ":root {\n",
       "  --xr-font-color0: var(--jp-content-font-color0, rgba(0, 0, 0, 1));\n",
       "  --xr-font-color2: var(--jp-content-font-color2, rgba(0, 0, 0, 0.54));\n",
       "  --xr-font-color3: var(--jp-content-font-color3, rgba(0, 0, 0, 0.38));\n",
       "  --xr-border-color: var(--jp-border-color2, #e0e0e0);\n",
       "  --xr-disabled-color: var(--jp-layout-color3, #bdbdbd);\n",
       "  --xr-background-color: var(--jp-layout-color0, white);\n",
       "  --xr-background-color-row-even: var(--jp-layout-color1, white);\n",
       "  --xr-background-color-row-odd: var(--jp-layout-color2, #eeeeee);\n",
       "}\n",
       "\n",
       "html[theme=dark],\n",
       "body[data-theme=dark],\n",
       "body.vscode-dark {\n",
       "  --xr-font-color0: rgba(255, 255, 255, 1);\n",
       "  --xr-font-color2: rgba(255, 255, 255, 0.54);\n",
       "  --xr-font-color3: rgba(255, 255, 255, 0.38);\n",
       "  --xr-border-color: #1F1F1F;\n",
       "  --xr-disabled-color: #515151;\n",
       "  --xr-background-color: #111111;\n",
       "  --xr-background-color-row-even: #111111;\n",
       "  --xr-background-color-row-odd: #313131;\n",
       "}\n",
       "\n",
       ".xr-wrap {\n",
       "  display: block !important;\n",
       "  min-width: 300px;\n",
       "  max-width: 700px;\n",
       "}\n",
       "\n",
       ".xr-text-repr-fallback {\n",
       "  /* fallback to plain text repr when CSS is not injected (untrusted notebook) */\n",
       "  display: none;\n",
       "}\n",
       "\n",
       ".xr-header {\n",
       "  padding-top: 6px;\n",
       "  padding-bottom: 6px;\n",
       "  margin-bottom: 4px;\n",
       "  border-bottom: solid 1px var(--xr-border-color);\n",
       "}\n",
       "\n",
       ".xr-header > div,\n",
       ".xr-header > ul {\n",
       "  display: inline;\n",
       "  margin-top: 0;\n",
       "  margin-bottom: 0;\n",
       "}\n",
       "\n",
       ".xr-obj-type,\n",
       ".xr-array-name {\n",
       "  margin-left: 2px;\n",
       "  margin-right: 10px;\n",
       "}\n",
       "\n",
       ".xr-obj-type {\n",
       "  color: var(--xr-font-color2);\n",
       "}\n",
       "\n",
       ".xr-sections {\n",
       "  padding-left: 0 !important;\n",
       "  display: grid;\n",
       "  grid-template-columns: 150px auto auto 1fr 20px 20px;\n",
       "}\n",
       "\n",
       ".xr-section-item {\n",
       "  display: contents;\n",
       "}\n",
       "\n",
       ".xr-section-item input {\n",
       "  display: none;\n",
       "}\n",
       "\n",
       ".xr-section-item input + label {\n",
       "  color: var(--xr-disabled-color);\n",
       "}\n",
       "\n",
       ".xr-section-item input:enabled + label {\n",
       "  cursor: pointer;\n",
       "  color: var(--xr-font-color2);\n",
       "}\n",
       "\n",
       ".xr-section-item input:enabled + label:hover {\n",
       "  color: var(--xr-font-color0);\n",
       "}\n",
       "\n",
       ".xr-section-summary {\n",
       "  grid-column: 1;\n",
       "  color: var(--xr-font-color2);\n",
       "  font-weight: 500;\n",
       "}\n",
       "\n",
       ".xr-section-summary > span {\n",
       "  display: inline-block;\n",
       "  padding-left: 0.5em;\n",
       "}\n",
       "\n",
       ".xr-section-summary-in:disabled + label {\n",
       "  color: var(--xr-font-color2);\n",
       "}\n",
       "\n",
       ".xr-section-summary-in + label:before {\n",
       "  display: inline-block;\n",
       "  content: '►';\n",
       "  font-size: 11px;\n",
       "  width: 15px;\n",
       "  text-align: center;\n",
       "}\n",
       "\n",
       ".xr-section-summary-in:disabled + label:before {\n",
       "  color: var(--xr-disabled-color);\n",
       "}\n",
       "\n",
       ".xr-section-summary-in:checked + label:before {\n",
       "  content: '▼';\n",
       "}\n",
       "\n",
       ".xr-section-summary-in:checked + label > span {\n",
       "  display: none;\n",
       "}\n",
       "\n",
       ".xr-section-summary,\n",
       ".xr-section-inline-details {\n",
       "  padding-top: 4px;\n",
       "  padding-bottom: 4px;\n",
       "}\n",
       "\n",
       ".xr-section-inline-details {\n",
       "  grid-column: 2 / -1;\n",
       "}\n",
       "\n",
       ".xr-section-details {\n",
       "  display: none;\n",
       "  grid-column: 1 / -1;\n",
       "  margin-bottom: 5px;\n",
       "}\n",
       "\n",
       ".xr-section-summary-in:checked ~ .xr-section-details {\n",
       "  display: contents;\n",
       "}\n",
       "\n",
       ".xr-array-wrap {\n",
       "  grid-column: 1 / -1;\n",
       "  display: grid;\n",
       "  grid-template-columns: 20px auto;\n",
       "}\n",
       "\n",
       ".xr-array-wrap > label {\n",
       "  grid-column: 1;\n",
       "  vertical-align: top;\n",
       "}\n",
       "\n",
       ".xr-preview {\n",
       "  color: var(--xr-font-color3);\n",
       "}\n",
       "\n",
       ".xr-array-preview,\n",
       ".xr-array-data {\n",
       "  padding: 0 5px !important;\n",
       "  grid-column: 2;\n",
       "}\n",
       "\n",
       ".xr-array-data,\n",
       ".xr-array-in:checked ~ .xr-array-preview {\n",
       "  display: none;\n",
       "}\n",
       "\n",
       ".xr-array-in:checked ~ .xr-array-data,\n",
       ".xr-array-preview {\n",
       "  display: inline-block;\n",
       "}\n",
       "\n",
       ".xr-dim-list {\n",
       "  display: inline-block !important;\n",
       "  list-style: none;\n",
       "  padding: 0 !important;\n",
       "  margin: 0;\n",
       "}\n",
       "\n",
       ".xr-dim-list li {\n",
       "  display: inline-block;\n",
       "  padding: 0;\n",
       "  margin: 0;\n",
       "}\n",
       "\n",
       ".xr-dim-list:before {\n",
       "  content: '(';\n",
       "}\n",
       "\n",
       ".xr-dim-list:after {\n",
       "  content: ')';\n",
       "}\n",
       "\n",
       ".xr-dim-list li:not(:last-child):after {\n",
       "  content: ',';\n",
       "  padding-right: 5px;\n",
       "}\n",
       "\n",
       ".xr-has-index {\n",
       "  font-weight: bold;\n",
       "}\n",
       "\n",
       ".xr-var-list,\n",
       ".xr-var-item {\n",
       "  display: contents;\n",
       "}\n",
       "\n",
       ".xr-var-item > div,\n",
       ".xr-var-item label,\n",
       ".xr-var-item > .xr-var-name span {\n",
       "  background-color: var(--xr-background-color-row-even);\n",
       "  margin-bottom: 0;\n",
       "}\n",
       "\n",
       ".xr-var-item > .xr-var-name:hover span {\n",
       "  padding-right: 5px;\n",
       "}\n",
       "\n",
       ".xr-var-list > li:nth-child(odd) > div,\n",
       ".xr-var-list > li:nth-child(odd) > label,\n",
       ".xr-var-list > li:nth-child(odd) > .xr-var-name span {\n",
       "  background-color: var(--xr-background-color-row-odd);\n",
       "}\n",
       "\n",
       ".xr-var-name {\n",
       "  grid-column: 1;\n",
       "}\n",
       "\n",
       ".xr-var-dims {\n",
       "  grid-column: 2;\n",
       "}\n",
       "\n",
       ".xr-var-dtype {\n",
       "  grid-column: 3;\n",
       "  text-align: right;\n",
       "  color: var(--xr-font-color2);\n",
       "}\n",
       "\n",
       ".xr-var-preview {\n",
       "  grid-column: 4;\n",
       "}\n",
       "\n",
       ".xr-index-preview {\n",
       "  grid-column: 2 / 5;\n",
       "  color: var(--xr-font-color2);\n",
       "}\n",
       "\n",
       ".xr-var-name,\n",
       ".xr-var-dims,\n",
       ".xr-var-dtype,\n",
       ".xr-preview,\n",
       ".xr-attrs dt {\n",
       "  white-space: nowrap;\n",
       "  overflow: hidden;\n",
       "  text-overflow: ellipsis;\n",
       "  padding-right: 10px;\n",
       "}\n",
       "\n",
       ".xr-var-name:hover,\n",
       ".xr-var-dims:hover,\n",
       ".xr-var-dtype:hover,\n",
       ".xr-attrs dt:hover {\n",
       "  overflow: visible;\n",
       "  width: auto;\n",
       "  z-index: 1;\n",
       "}\n",
       "\n",
       ".xr-var-attrs,\n",
       ".xr-var-data,\n",
       ".xr-index-data {\n",
       "  display: none;\n",
       "  background-color: var(--xr-background-color) !important;\n",
       "  padding-bottom: 5px !important;\n",
       "}\n",
       "\n",
       ".xr-var-attrs-in:checked ~ .xr-var-attrs,\n",
       ".xr-var-data-in:checked ~ .xr-var-data,\n",
       ".xr-index-data-in:checked ~ .xr-index-data {\n",
       "  display: block;\n",
       "}\n",
       "\n",
       ".xr-var-data > table {\n",
       "  float: right;\n",
       "}\n",
       "\n",
       ".xr-var-name span,\n",
       ".xr-var-data,\n",
       ".xr-index-name div,\n",
       ".xr-index-data,\n",
       ".xr-attrs {\n",
       "  padding-left: 25px !important;\n",
       "}\n",
       "\n",
       ".xr-attrs,\n",
       ".xr-var-attrs,\n",
       ".xr-var-data,\n",
       ".xr-index-data {\n",
       "  grid-column: 1 / -1;\n",
       "}\n",
       "\n",
       "dl.xr-attrs {\n",
       "  padding: 0;\n",
       "  margin: 0;\n",
       "  display: grid;\n",
       "  grid-template-columns: 125px auto;\n",
       "}\n",
       "\n",
       ".xr-attrs dt,\n",
       ".xr-attrs dd {\n",
       "  padding: 0;\n",
       "  margin: 0;\n",
       "  float: left;\n",
       "  padding-right: 10px;\n",
       "  width: auto;\n",
       "}\n",
       "\n",
       ".xr-attrs dt {\n",
       "  font-weight: normal;\n",
       "  grid-column: 1;\n",
       "}\n",
       "\n",
       ".xr-attrs dt:hover span {\n",
       "  display: inline-block;\n",
       "  background: var(--xr-background-color);\n",
       "  padding-right: 10px;\n",
       "}\n",
       "\n",
       ".xr-attrs dd {\n",
       "  grid-column: 2;\n",
       "  white-space: pre-wrap;\n",
       "  word-break: break-all;\n",
       "}\n",
       "\n",
       ".xr-icon-database,\n",
       ".xr-icon-file-text2,\n",
       ".xr-no-icon {\n",
       "  display: inline-block;\n",
       "  vertical-align: middle;\n",
       "  width: 1em;\n",
       "  height: 1.5em !important;\n",
       "  stroke-width: 0;\n",
       "  stroke: currentColor;\n",
       "  fill: currentColor;\n",
       "}\n",
       "</style><pre class='xr-text-repr-fallback'>&lt;xarray.Dataset&gt;\n",
       "Dimensions:        (time: 21, lev: 136, zw_grid: 160)\n",
       "Coordinates:\n",
       "    t0             datetime64[ns] 2020-03-12T22:00:00\n",
       "    lat            float32 74.5\n",
       "    lon            float32 9.9\n",
       "  * time           (time) datetime64[ns] 2020-03-12T22:00:00 ... 2020-03-13T1...\n",
       "  * lev            (lev) float64 18.17 37.83 59.35 ... 6.851e+04 7.117e+04\n",
       "  * zw_grid        (zw_grid) float64 0.0 20.0 45.0 ... 6.89e+03 6.95e+03 7e+03\n",
       "Data variables: (12/19)\n",
       "    pressure       (lev) float64 ...\n",
       "    u              (lev) float64 ...\n",
       "    v              (lev) float64 ...\n",
       "    temp           (lev) float64 ...\n",
       "    theta          (lev) float64 ...\n",
       "    qv             (lev) float64 ...\n",
       "    ...             ...\n",
       "    theta_nudging  (time, lev) float64 ...\n",
       "    qv_nudging     (time, lev) float64 ...\n",
       "    w_nudging      (time, lev) float64 ...\n",
       "    ts             (time) float64 ...\n",
       "    lat_ref        (time) float32 ...\n",
       "    lon_ref        (time) float32 ...\n",
       "Attributes: (12/20)\n",
       "    title:                     Forcing and initial conditions for 13 March 20...\n",
       "    reference:                 https://arm-development.github.io/comble-mip/\n",
       "    authors:                   Timothy W. Juliano (NCAR/RAL, tjuliano@ucar.ed...\n",
       "    version:                   Created on 2023-12-01\n",
       "    format_version:            DEPHY SCM format version 2.0\n",
       "    script:                    create_comble_forcing_v2.3.ipynb\n",
       "    ...                        ...\n",
       "    z0h:                       5.5e-6 m\n",
       "    surface_forcing_moisture:  none\n",
       "    z0q:                       5.5e-6 m\n",
       "    surface_forcing_wind:      z0\n",
       "    z0:                        9.0e-4 m\n",
       "    lat:                       74.5 deg N</pre><div class='xr-wrap' style='display:none'><div class='xr-header'><div class='xr-obj-type'>xarray.Dataset</div></div><ul class='xr-sections'><li class='xr-section-item'><input id='section-d3957aef-f977-4e93-a2ea-0ba381b1bb32' class='xr-section-summary-in' type='checkbox' disabled ><label for='section-d3957aef-f977-4e93-a2ea-0ba381b1bb32' class='xr-section-summary'  title='Expand/collapse section'>Dimensions:</label><div class='xr-section-inline-details'><ul class='xr-dim-list'><li><span class='xr-has-index'>time</span>: 21</li><li><span class='xr-has-index'>lev</span>: 136</li><li><span class='xr-has-index'>zw_grid</span>: 160</li></ul></div><div class='xr-section-details'></div></li><li class='xr-section-item'><input id='section-89ed1bde-8be4-4cf9-b4c0-bbcd5abae77f' class='xr-section-summary-in' type='checkbox'  checked><label for='section-89ed1bde-8be4-4cf9-b4c0-bbcd5abae77f' class='xr-section-summary' >Coordinates: <span>(6)</span></label><div class='xr-section-inline-details'></div><div class='xr-section-details'><ul class='xr-var-list'><li class='xr-var-item'><div class='xr-var-name'><span>t0</span></div><div class='xr-var-dims'>()</div><div class='xr-var-dtype'>datetime64[ns]</div><div class='xr-var-preview xr-preview'>2020-03-12T22:00:00</div><input id='attrs-2cea8e55-a775-4cef-8ef0-4f0f57ca36e9' class='xr-var-attrs-in' type='checkbox' ><label for='attrs-2cea8e55-a775-4cef-8ef0-4f0f57ca36e9' title='Show/Hide attributes'><svg class='icon xr-icon-file-text2'><use xlink:href='#icon-file-text2'></use></svg></label><input id='data-5fafd1d2-cc0e-4b41-80b4-f389aa7bb86b' class='xr-var-data-in' type='checkbox'><label for='data-5fafd1d2-cc0e-4b41-80b4-f389aa7bb86b' title='Show/Hide data repr'><svg class='icon xr-icon-database'><use xlink:href='#icon-database'></use></svg></label><div class='xr-var-attrs'><dl class='xr-attrs'><dt><span>long_name :</span></dt><dd>Initial time</dd></dl></div><div class='xr-var-data'><pre>array(&#x27;2020-03-12T22:00:00.000000000&#x27;, dtype=&#x27;datetime64[ns]&#x27;)</pre></div></li><li class='xr-var-item'><div class='xr-var-name'><span>lat</span></div><div class='xr-var-dims'>()</div><div class='xr-var-dtype'>float32</div><div class='xr-var-preview xr-preview'>74.5</div><input id='attrs-ac18a266-b992-437a-8755-4948aef147e7' class='xr-var-attrs-in' type='checkbox' ><label for='attrs-ac18a266-b992-437a-8755-4948aef147e7' title='Show/Hide attributes'><svg class='icon xr-icon-file-text2'><use xlink:href='#icon-file-text2'></use></svg></label><input id='data-15bff569-700d-4d94-925b-96d237ba9a4d' class='xr-var-data-in' type='checkbox'><label for='data-15bff569-700d-4d94-925b-96d237ba9a4d' title='Show/Hide data repr'><svg class='icon xr-icon-database'><use xlink:href='#icon-database'></use></svg></label><div class='xr-var-attrs'><dl class='xr-attrs'><dt><span>units :</span></dt><dd>degrees_north</dd><dt><span>long_name :</span></dt><dd>latitude</dd></dl></div><div class='xr-var-data'><pre>array(74.5, dtype=float32)</pre></div></li><li class='xr-var-item'><div class='xr-var-name'><span>lon</span></div><div class='xr-var-dims'>()</div><div class='xr-var-dtype'>float32</div><div class='xr-var-preview xr-preview'>9.9</div><input id='attrs-d167dea9-ecd2-4856-a4e1-254fc5369b71' class='xr-var-attrs-in' type='checkbox' ><label for='attrs-d167dea9-ecd2-4856-a4e1-254fc5369b71' title='Show/Hide attributes'><svg class='icon xr-icon-file-text2'><use xlink:href='#icon-file-text2'></use></svg></label><input id='data-13245e80-9716-4b36-ab1f-6966e4670e28' class='xr-var-data-in' type='checkbox'><label for='data-13245e80-9716-4b36-ab1f-6966e4670e28' title='Show/Hide data repr'><svg class='icon xr-icon-database'><use xlink:href='#icon-database'></use></svg></label><div class='xr-var-attrs'><dl class='xr-attrs'><dt><span>units :</span></dt><dd>degrees_east</dd><dt><span>long_name :</span></dt><dd>longitude</dd></dl></div><div class='xr-var-data'><pre>array(9.9, dtype=float32)</pre></div></li><li class='xr-var-item'><div class='xr-var-name'><span class='xr-has-index'>time</span></div><div class='xr-var-dims'>(time)</div><div class='xr-var-dtype'>datetime64[ns]</div><div class='xr-var-preview xr-preview'>2020-03-12T22:00:00 ... 2020-03-...</div><input id='attrs-0d5859f0-651a-4f50-914a-a2304d237094' class='xr-var-attrs-in' type='checkbox' ><label for='attrs-0d5859f0-651a-4f50-914a-a2304d237094' title='Show/Hide attributes'><svg class='icon xr-icon-file-text2'><use xlink:href='#icon-file-text2'></use></svg></label><input id='data-2c41e22c-cbc1-4b04-ae66-716c9bec5081' class='xr-var-data-in' type='checkbox'><label for='data-2c41e22c-cbc1-4b04-ae66-716c9bec5081' title='Show/Hide data repr'><svg class='icon xr-icon-database'><use xlink:href='#icon-database'></use></svg></label><div class='xr-var-attrs'><dl class='xr-attrs'><dt><span>long_name :</span></dt><dd>time</dd></dl></div><div class='xr-var-data'><pre>array([&#x27;2020-03-12T22:00:00.000000000&#x27;, &#x27;2020-03-12T23:00:00.000000000&#x27;,\n",
       "       &#x27;2020-03-13T00:00:00.000000000&#x27;, &#x27;2020-03-13T01:00:00.000000000&#x27;,\n",
       "       &#x27;2020-03-13T02:00:00.000000000&#x27;, &#x27;2020-03-13T03:00:00.000000000&#x27;,\n",
       "       &#x27;2020-03-13T04:00:00.000000000&#x27;, &#x27;2020-03-13T05:00:00.000000000&#x27;,\n",
       "       &#x27;2020-03-13T06:00:00.000000000&#x27;, &#x27;2020-03-13T07:00:00.000000000&#x27;,\n",
       "       &#x27;2020-03-13T08:00:00.000000000&#x27;, &#x27;2020-03-13T09:00:00.000000000&#x27;,\n",
       "       &#x27;2020-03-13T10:00:00.000000000&#x27;, &#x27;2020-03-13T11:00:00.000000000&#x27;,\n",
       "       &#x27;2020-03-13T12:00:00.000000000&#x27;, &#x27;2020-03-13T13:00:00.000000000&#x27;,\n",
       "       &#x27;2020-03-13T14:00:00.000000000&#x27;, &#x27;2020-03-13T15:00:00.000000000&#x27;,\n",
       "       &#x27;2020-03-13T16:00:00.000000000&#x27;, &#x27;2020-03-13T17:00:00.000000000&#x27;,\n",
       "       &#x27;2020-03-13T18:00:00.000000000&#x27;], dtype=&#x27;datetime64[ns]&#x27;)</pre></div></li><li class='xr-var-item'><div class='xr-var-name'><span class='xr-has-index'>lev</span></div><div class='xr-var-dims'>(lev)</div><div class='xr-var-dtype'>float64</div><div class='xr-var-preview xr-preview'>18.17 37.83 ... 6.851e+04 7.117e+04</div><input id='attrs-8b89a729-f675-44cb-badb-fdcbcd012fb3' class='xr-var-attrs-in' type='checkbox' ><label for='attrs-8b89a729-f675-44cb-badb-fdcbcd012fb3' title='Show/Hide attributes'><svg class='icon xr-icon-file-text2'><use xlink:href='#icon-file-text2'></use></svg></label><input id='data-6473aca5-9a1a-4000-8048-8f20ef6cd2b5' class='xr-var-data-in' type='checkbox'><label for='data-6473aca5-9a1a-4000-8048-8f20ef6cd2b5' title='Show/Hide data repr'><svg class='icon xr-icon-database'><use xlink:href='#icon-database'></use></svg></label><div class='xr-var-attrs'><dl class='xr-attrs'><dt><span>units :</span></dt><dd>m</dd><dt><span>long_name :</span></dt><dd>altitude</dd></dl></div><div class='xr-var-data'><pre>array([1.816782e+01, 3.782916e+01, 5.935319e+01, 8.294096e+01, 1.086346e+02,\n",
       "       1.367628e+02, 1.674741e+02, 2.010063e+02, 2.375730e+02, 2.774709e+02,\n",
       "       3.209257e+02, 3.682437e+02, 4.197053e+02, 4.757075e+02, 5.365048e+02,\n",
       "       6.024136e+02, 6.738635e+02, 7.511887e+02, 8.347817e+02, 9.250150e+02,\n",
       "       1.022298e+03, 1.127041e+03, 1.239561e+03, 1.360284e+03, 1.489457e+03,\n",
       "       1.627387e+03, 1.774281e+03, 1.930384e+03, 2.095740e+03, 2.270393e+03,\n",
       "       2.454390e+03, 2.647544e+03, 2.849741e+03, 3.060666e+03, 3.279924e+03,\n",
       "       3.507041e+03, 3.741347e+03, 3.982109e+03, 4.228679e+03, 4.480789e+03,\n",
       "       4.737979e+03, 4.998744e+03, 5.260926e+03, 5.523062e+03, 5.784833e+03,\n",
       "       6.046449e+03, 6.308038e+03, 6.569511e+03, 6.830916e+03, 7.092836e+03,\n",
       "       7.355969e+03, 7.620921e+03, 7.887989e+03, 8.157416e+03, 8.429250e+03,\n",
       "       8.703817e+03, 8.981552e+03, 9.262709e+03, 9.547237e+03, 9.835029e+03,\n",
       "       1.012597e+04, 1.042006e+04, 1.071735e+04, 1.101775e+04, 1.132126e+04,\n",
       "       1.162780e+04, 1.193737e+04, 1.224987e+04, 1.256533e+04, 1.288393e+04,\n",
       "       1.320586e+04, 1.353123e+04, 1.386015e+04, 1.419257e+04, 1.452842e+04,\n",
       "       1.486750e+04, 1.520960e+04, 1.555429e+04, 1.590131e+04, 1.625055e+04,\n",
       "       1.660229e+04, 1.695752e+04, 1.731739e+04, 1.768290e+04, 1.805472e+04,\n",
       "       1.843347e+04, 1.881998e+04, 1.921534e+04, 1.962053e+04, 2.003612e+04,\n",
       "       2.046239e+04, 2.090005e+04, 2.134987e+04, 2.181240e+04, 2.228717e+04,\n",
       "       2.277341e+04, 2.327041e+04, 2.377819e+04, 2.429756e+04, 2.483020e+04,\n",
       "       2.537808e+04, 2.594251e+04, 2.652398e+04, 2.712280e+04, 2.773923e+04,\n",
       "       2.837417e+04, 2.902998e+04, 2.971072e+04, 3.041931e+04, 3.115628e+04,\n",
       "       3.192188e+04, 3.271719e+04, 3.354365e+04, 3.440225e+04, 3.529318e+04,\n",
       "       3.621700e+04, 3.717922e+04, 3.820551e+04, 3.932796e+04, 4.054117e+04,\n",
       "       4.181974e+04, 4.316560e+04, 4.459273e+04, 4.610270e+04, 4.769341e+04,\n",
       "       4.936202e+04, 5.110935e+04, 5.294293e+04, 5.486478e+04, 5.687202e+04,\n",
       "       5.897288e+04, 6.118527e+04, 6.351449e+04, 6.595727e+04, 6.851212e+04,\n",
       "       7.117090e+04])</pre></div></li><li class='xr-var-item'><div class='xr-var-name'><span class='xr-has-index'>zw_grid</span></div><div class='xr-var-dims'>(zw_grid)</div><div class='xr-var-dtype'>float64</div><div class='xr-var-preview xr-preview'>0.0 20.0 45.0 ... 6.95e+03 7e+03</div><input id='attrs-ac3ea4f0-3cff-418a-ad98-dd8afd431318' class='xr-var-attrs-in' type='checkbox' ><label for='attrs-ac3ea4f0-3cff-418a-ad98-dd8afd431318' title='Show/Hide attributes'><svg class='icon xr-icon-file-text2'><use xlink:href='#icon-file-text2'></use></svg></label><input id='data-1da4e338-a02e-4ec5-bc02-56f46404fd75' class='xr-var-data-in' type='checkbox'><label for='data-1da4e338-a02e-4ec5-bc02-56f46404fd75' title='Show/Hide data repr'><svg class='icon xr-icon-database'><use xlink:href='#icon-database'></use></svg></label><div class='xr-var-attrs'><dl class='xr-attrs'><dt><span>units :</span></dt><dd>m</dd><dt><span>long_name :</span></dt><dd>grid altitude at cell faces</dd></dl></div><div class='xr-var-data'><pre>array([   0.,   20.,   45.,   75.,  110.,  150.,  190.,  230.,  270.,  310.,\n",
       "        350.,  390.,  430.,  470.,  510.,  550.,  590.,  630.,  670.,  710.,\n",
       "        750.,  790.,  830.,  870.,  910.,  950.,  990., 1030., 1070., 1110.,\n",
       "       1150., 1190., 1230., 1270., 1310., 1350., 1390., 1430., 1470., 1510.,\n",
       "       1550., 1590., 1630., 1670., 1710., 1750., 1790., 1830., 1870., 1910.,\n",
       "       1950., 1990., 2030., 2070., 2110., 2150., 2190., 2230., 2270., 2310.,\n",
       "       2350., 2390., 2430., 2470., 2510., 2550., 2590., 2630., 2670., 2710.,\n",
       "       2750., 2790., 2830., 2870., 2910., 2950., 2990., 3030., 3070., 3110.,\n",
       "       3150., 3190., 3230., 3270., 3310., 3350., 3390., 3430., 3470., 3510.,\n",
       "       3550., 3590., 3630., 3670., 3710., 3750., 3790., 3830., 3870., 3910.,\n",
       "       3950., 3990., 4030., 4070., 4110., 4150., 4190., 4230., 4270., 4310.,\n",
       "       4350., 4390., 4430., 4470., 4510., 4550., 4590., 4630., 4670., 4710.,\n",
       "       4750., 4790., 4830., 4870., 4910., 4950., 4990., 5030., 5070., 5110.,\n",
       "       5150., 5190., 5230., 5270., 5310., 5350., 5390., 5430., 5470., 5510.,\n",
       "       5550., 5610., 5690., 5770., 5850., 5930., 6010., 6090., 6170., 6250.,\n",
       "       6330., 6410., 6490., 6570., 6650., 6730., 6810., 6890., 6950., 7000.])</pre></div></li></ul></div></li><li class='xr-section-item'><input id='section-a614e604-b7ad-4557-8d20-b53817d4f846' class='xr-section-summary-in' type='checkbox'  ><label for='section-a614e604-b7ad-4557-8d20-b53817d4f846' class='xr-section-summary' >Data variables: <span>(19)</span></label><div class='xr-section-inline-details'></div><div class='xr-section-details'><ul class='xr-var-list'><li class='xr-var-item'><div class='xr-var-name'><span>pressure</span></div><div class='xr-var-dims'>(lev)</div><div class='xr-var-dtype'>float64</div><div class='xr-var-preview xr-preview'>...</div><input id='attrs-6d715e7e-8c0d-43b4-873e-7f50f84596d7' class='xr-var-attrs-in' type='checkbox' ><label for='attrs-6d715e7e-8c0d-43b4-873e-7f50f84596d7' title='Show/Hide attributes'><svg class='icon xr-icon-file-text2'><use xlink:href='#icon-file-text2'></use></svg></label><input id='data-e6096622-8b6e-422d-961b-83203987b2fd' class='xr-var-data-in' type='checkbox'><label for='data-e6096622-8b6e-422d-961b-83203987b2fd' title='Show/Hide data repr'><svg class='icon xr-icon-database'><use xlink:href='#icon-database'></use></svg></label><div class='xr-var-attrs'><dl class='xr-attrs'><dt><span>units :</span></dt><dd>Pa</dd><dt><span>long_name :</span></dt><dd>pressure</dd></dl></div><div class='xr-var-data'><pre>[136 values with dtype=float64]</pre></div></li><li class='xr-var-item'><div class='xr-var-name'><span>u</span></div><div class='xr-var-dims'>(lev)</div><div class='xr-var-dtype'>float64</div><div class='xr-var-preview xr-preview'>...</div><input id='attrs-f07b1008-1dd0-4488-b28a-e8ddb1ae393e' class='xr-var-attrs-in' type='checkbox' ><label for='attrs-f07b1008-1dd0-4488-b28a-e8ddb1ae393e' title='Show/Hide attributes'><svg class='icon xr-icon-file-text2'><use xlink:href='#icon-file-text2'></use></svg></label><input id='data-ef6b857f-09e8-4d76-9d9f-ce30c33a82b9' class='xr-var-data-in' type='checkbox'><label for='data-ef6b857f-09e8-4d76-9d9f-ce30c33a82b9' title='Show/Hide data repr'><svg class='icon xr-icon-database'><use xlink:href='#icon-database'></use></svg></label><div class='xr-var-attrs'><dl class='xr-attrs'><dt><span>units :</span></dt><dd>m s-1</dd><dt><span>long_name :</span></dt><dd>zonal wind</dd></dl></div><div class='xr-var-data'><pre>[136 values with dtype=float64]</pre></div></li><li class='xr-var-item'><div class='xr-var-name'><span>v</span></div><div class='xr-var-dims'>(lev)</div><div class='xr-var-dtype'>float64</div><div class='xr-var-preview xr-preview'>...</div><input id='attrs-43101c71-22e2-46e0-bded-4e50caaff36e' class='xr-var-attrs-in' type='checkbox' ><label for='attrs-43101c71-22e2-46e0-bded-4e50caaff36e' title='Show/Hide attributes'><svg class='icon xr-icon-file-text2'><use xlink:href='#icon-file-text2'></use></svg></label><input id='data-42833108-f8d2-4bfb-b33e-0c5bff304ed6' class='xr-var-data-in' type='checkbox'><label for='data-42833108-f8d2-4bfb-b33e-0c5bff304ed6' title='Show/Hide data repr'><svg class='icon xr-icon-database'><use xlink:href='#icon-database'></use></svg></label><div class='xr-var-attrs'><dl class='xr-attrs'><dt><span>units :</span></dt><dd>m s-1</dd><dt><span>long_name :</span></dt><dd>meridional wind</dd></dl></div><div class='xr-var-data'><pre>[136 values with dtype=float64]</pre></div></li><li class='xr-var-item'><div class='xr-var-name'><span>temp</span></div><div class='xr-var-dims'>(lev)</div><div class='xr-var-dtype'>float64</div><div class='xr-var-preview xr-preview'>...</div><input id='attrs-481df6b5-5cba-4a5b-8484-3b32febee1ad' class='xr-var-attrs-in' type='checkbox' ><label for='attrs-481df6b5-5cba-4a5b-8484-3b32febee1ad' title='Show/Hide attributes'><svg class='icon xr-icon-file-text2'><use xlink:href='#icon-file-text2'></use></svg></label><input id='data-248abe7b-510a-46fe-9445-db4a304c6d5a' class='xr-var-data-in' type='checkbox'><label for='data-248abe7b-510a-46fe-9445-db4a304c6d5a' title='Show/Hide data repr'><svg class='icon xr-icon-database'><use xlink:href='#icon-database'></use></svg></label><div class='xr-var-attrs'><dl class='xr-attrs'><dt><span>units :</span></dt><dd>K</dd><dt><span>long_name :</span></dt><dd>temperature</dd></dl></div><div class='xr-var-data'><pre>[136 values with dtype=float64]</pre></div></li><li class='xr-var-item'><div class='xr-var-name'><span>theta</span></div><div class='xr-var-dims'>(lev)</div><div class='xr-var-dtype'>float64</div><div class='xr-var-preview xr-preview'>...</div><input id='attrs-32a979ca-ba2f-4ff4-848e-076c2cda6a79' class='xr-var-attrs-in' type='checkbox' ><label for='attrs-32a979ca-ba2f-4ff4-848e-076c2cda6a79' title='Show/Hide attributes'><svg class='icon xr-icon-file-text2'><use xlink:href='#icon-file-text2'></use></svg></label><input id='data-fd300280-058f-4678-806a-3a2b57efb234' class='xr-var-data-in' type='checkbox'><label for='data-fd300280-058f-4678-806a-3a2b57efb234' title='Show/Hide data repr'><svg class='icon xr-icon-database'><use xlink:href='#icon-database'></use></svg></label><div class='xr-var-attrs'><dl class='xr-attrs'><dt><span>units :</span></dt><dd>K</dd><dt><span>long_name :</span></dt><dd>potential temperature</dd></dl></div><div class='xr-var-data'><pre>[136 values with dtype=float64]</pre></div></li><li class='xr-var-item'><div class='xr-var-name'><span>qv</span></div><div class='xr-var-dims'>(lev)</div><div class='xr-var-dtype'>float64</div><div class='xr-var-preview xr-preview'>...</div><input id='attrs-1d12277d-a105-4111-a5f4-4be07e468643' class='xr-var-attrs-in' type='checkbox' ><label for='attrs-1d12277d-a105-4111-a5f4-4be07e468643' title='Show/Hide attributes'><svg class='icon xr-icon-file-text2'><use xlink:href='#icon-file-text2'></use></svg></label><input id='data-540f4852-87ab-486d-86a0-65c8d0f26159' class='xr-var-data-in' type='checkbox'><label for='data-540f4852-87ab-486d-86a0-65c8d0f26159' title='Show/Hide data repr'><svg class='icon xr-icon-database'><use xlink:href='#icon-database'></use></svg></label><div class='xr-var-attrs'><dl class='xr-attrs'><dt><span>units :</span></dt><dd>kg kg-1</dd><dt><span>long_name :</span></dt><dd>specific humidity</dd></dl></div><div class='xr-var-data'><pre>[136 values with dtype=float64]</pre></div></li><li class='xr-var-item'><div class='xr-var-name'><span>o3</span></div><div class='xr-var-dims'>(lev)</div><div class='xr-var-dtype'>float64</div><div class='xr-var-preview xr-preview'>...</div><input id='attrs-623ffd59-6aad-4605-925b-de5d5ea3ccd3' class='xr-var-attrs-in' type='checkbox' ><label for='attrs-623ffd59-6aad-4605-925b-de5d5ea3ccd3' title='Show/Hide attributes'><svg class='icon xr-icon-file-text2'><use xlink:href='#icon-file-text2'></use></svg></label><input id='data-1adb7521-e388-433b-aa0f-47d1136a74aa' class='xr-var-data-in' type='checkbox'><label for='data-1adb7521-e388-433b-aa0f-47d1136a74aa' title='Show/Hide data repr'><svg class='icon xr-icon-database'><use xlink:href='#icon-database'></use></svg></label><div class='xr-var-attrs'><dl class='xr-attrs'><dt><span>units :</span></dt><dd>kg kg-1</dd><dt><span>long_name :</span></dt><dd>ozone mass mixing ratio</dd></dl></div><div class='xr-var-data'><pre>[136 values with dtype=float64]</pre></div></li><li class='xr-var-item'><div class='xr-var-name'><span>ps</span></div><div class='xr-var-dims'>()</div><div class='xr-var-dtype'>float64</div><div class='xr-var-preview xr-preview'>...</div><input id='attrs-9fed9e4c-da65-4bfb-bb4a-fd822f1021df' class='xr-var-attrs-in' type='checkbox' ><label for='attrs-9fed9e4c-da65-4bfb-bb4a-fd822f1021df' title='Show/Hide attributes'><svg class='icon xr-icon-file-text2'><use xlink:href='#icon-file-text2'></use></svg></label><input id='data-bf6c8baa-fd53-4e50-a257-97d77e5300ba' class='xr-var-data-in' type='checkbox'><label for='data-bf6c8baa-fd53-4e50-a257-97d77e5300ba' title='Show/Hide data repr'><svg class='icon xr-icon-database'><use xlink:href='#icon-database'></use></svg></label><div class='xr-var-attrs'><dl class='xr-attrs'><dt><span>units :</span></dt><dd>Pa</dd><dt><span>long_name :</span></dt><dd>surface pressure</dd></dl></div><div class='xr-var-data'><pre>[1 values with dtype=float64]</pre></div></li><li class='xr-var-item'><div class='xr-var-name'><span>thetas</span></div><div class='xr-var-dims'>()</div><div class='xr-var-dtype'>float64</div><div class='xr-var-preview xr-preview'>...</div><input id='attrs-e8a87004-2232-433a-8826-bf511b9eee76' class='xr-var-attrs-in' type='checkbox' ><label for='attrs-e8a87004-2232-433a-8826-bf511b9eee76' title='Show/Hide attributes'><svg class='icon xr-icon-file-text2'><use xlink:href='#icon-file-text2'></use></svg></label><input id='data-ebc32f38-9539-4928-b75b-5e85446942db' class='xr-var-data-in' type='checkbox'><label for='data-ebc32f38-9539-4928-b75b-5e85446942db' title='Show/Hide data repr'><svg class='icon xr-icon-database'><use xlink:href='#icon-database'></use></svg></label><div class='xr-var-attrs'><dl class='xr-attrs'><dt><span>units :</span></dt><dd>K</dd><dt><span>long_name :</span></dt><dd>surface potential temperature</dd></dl></div><div class='xr-var-data'><pre>[1 values with dtype=float64]</pre></div></li><li class='xr-var-item'><div class='xr-var-name'><span>ug</span></div><div class='xr-var-dims'>(time, lev)</div><div class='xr-var-dtype'>float64</div><div class='xr-var-preview xr-preview'>...</div><input id='attrs-55b9fda4-02fe-4a03-b544-6112cdc1e199' class='xr-var-attrs-in' type='checkbox' ><label for='attrs-55b9fda4-02fe-4a03-b544-6112cdc1e199' title='Show/Hide attributes'><svg class='icon xr-icon-file-text2'><use xlink:href='#icon-file-text2'></use></svg></label><input id='data-a6fefb5f-8c1c-495a-b2b8-4711fd1ed55b' class='xr-var-data-in' type='checkbox'><label for='data-a6fefb5f-8c1c-495a-b2b8-4711fd1ed55b' title='Show/Hide data repr'><svg class='icon xr-icon-database'><use xlink:href='#icon-database'></use></svg></label><div class='xr-var-attrs'><dl class='xr-attrs'><dt><span>units :</span></dt><dd>m s-1</dd><dt><span>long_name :</span></dt><dd>geostrophic zonal wind</dd></dl></div><div class='xr-var-data'><pre>[2856 values with dtype=float64]</pre></div></li><li class='xr-var-item'><div class='xr-var-name'><span>vg</span></div><div class='xr-var-dims'>(time, lev)</div><div class='xr-var-dtype'>float64</div><div class='xr-var-preview xr-preview'>...</div><input id='attrs-b23fa7c7-4d15-42f6-93fe-274d20fb80b5' class='xr-var-attrs-in' type='checkbox' ><label for='attrs-b23fa7c7-4d15-42f6-93fe-274d20fb80b5' title='Show/Hide attributes'><svg class='icon xr-icon-file-text2'><use xlink:href='#icon-file-text2'></use></svg></label><input id='data-e38bd7ce-98d2-47a9-b51f-c47fd58b8c25' class='xr-var-data-in' type='checkbox'><label for='data-e38bd7ce-98d2-47a9-b51f-c47fd58b8c25' title='Show/Hide data repr'><svg class='icon xr-icon-database'><use xlink:href='#icon-database'></use></svg></label><div class='xr-var-attrs'><dl class='xr-attrs'><dt><span>units :</span></dt><dd>m s-1</dd><dt><span>long_name :</span></dt><dd>geostrophic meridional wind</dd></dl></div><div class='xr-var-data'><pre>[2856 values with dtype=float64]</pre></div></li><li class='xr-var-item'><div class='xr-var-name'><span>u_nudging</span></div><div class='xr-var-dims'>(time, lev)</div><div class='xr-var-dtype'>float64</div><div class='xr-var-preview xr-preview'>...</div><input id='attrs-578d4f32-9ea7-4bee-b77e-e61432675611' class='xr-var-attrs-in' type='checkbox' ><label for='attrs-578d4f32-9ea7-4bee-b77e-e61432675611' title='Show/Hide attributes'><svg class='icon xr-icon-file-text2'><use xlink:href='#icon-file-text2'></use></svg></label><input id='data-7b369d32-2af7-4e83-a823-06d94e270766' class='xr-var-data-in' type='checkbox'><label for='data-7b369d32-2af7-4e83-a823-06d94e270766' title='Show/Hide data repr'><svg class='icon xr-icon-database'><use xlink:href='#icon-database'></use></svg></label><div class='xr-var-attrs'><dl class='xr-attrs'><dt><span>units :</span></dt><dd>m s-1</dd><dt><span>long_name :</span></dt><dd>zonal wind profile for nudging</dd></dl></div><div class='xr-var-data'><pre>[2856 values with dtype=float64]</pre></div></li><li class='xr-var-item'><div class='xr-var-name'><span>v_nudging</span></div><div class='xr-var-dims'>(time, lev)</div><div class='xr-var-dtype'>float64</div><div class='xr-var-preview xr-preview'>...</div><input id='attrs-5f1aaefb-645e-45da-93a5-32a221adde6d' class='xr-var-attrs-in' type='checkbox' ><label for='attrs-5f1aaefb-645e-45da-93a5-32a221adde6d' title='Show/Hide attributes'><svg class='icon xr-icon-file-text2'><use xlink:href='#icon-file-text2'></use></svg></label><input id='data-97aca535-e2c0-44ce-b5ba-c9990240d6cb' class='xr-var-data-in' type='checkbox'><label for='data-97aca535-e2c0-44ce-b5ba-c9990240d6cb' title='Show/Hide data repr'><svg class='icon xr-icon-database'><use xlink:href='#icon-database'></use></svg></label><div class='xr-var-attrs'><dl class='xr-attrs'><dt><span>units :</span></dt><dd>m s-1</dd><dt><span>long_name :</span></dt><dd>meridional wind profile for nudging</dd></dl></div><div class='xr-var-data'><pre>[2856 values with dtype=float64]</pre></div></li><li class='xr-var-item'><div class='xr-var-name'><span>theta_nudging</span></div><div class='xr-var-dims'>(time, lev)</div><div class='xr-var-dtype'>float64</div><div class='xr-var-preview xr-preview'>...</div><input id='attrs-4f17ffdd-57c6-49d2-8b59-450fa4eb6f81' class='xr-var-attrs-in' type='checkbox' ><label for='attrs-4f17ffdd-57c6-49d2-8b59-450fa4eb6f81' title='Show/Hide attributes'><svg class='icon xr-icon-file-text2'><use xlink:href='#icon-file-text2'></use></svg></label><input id='data-08f9bd6e-f517-49b0-9c79-c6a250067df0' class='xr-var-data-in' type='checkbox'><label for='data-08f9bd6e-f517-49b0-9c79-c6a250067df0' title='Show/Hide data repr'><svg class='icon xr-icon-database'><use xlink:href='#icon-database'></use></svg></label><div class='xr-var-attrs'><dl class='xr-attrs'><dt><span>units :</span></dt><dd>K</dd><dt><span>long_name :</span></dt><dd>potential temperature profile for nudging</dd></dl></div><div class='xr-var-data'><pre>[2856 values with dtype=float64]</pre></div></li><li class='xr-var-item'><div class='xr-var-name'><span>qv_nudging</span></div><div class='xr-var-dims'>(time, lev)</div><div class='xr-var-dtype'>float64</div><div class='xr-var-preview xr-preview'>...</div><input id='attrs-fd6dd752-1981-4f6e-9764-aefa4cd26b1b' class='xr-var-attrs-in' type='checkbox' ><label for='attrs-fd6dd752-1981-4f6e-9764-aefa4cd26b1b' title='Show/Hide attributes'><svg class='icon xr-icon-file-text2'><use xlink:href='#icon-file-text2'></use></svg></label><input id='data-aac9e29a-1681-4d95-98de-1963f08253a5' class='xr-var-data-in' type='checkbox'><label for='data-aac9e29a-1681-4d95-98de-1963f08253a5' title='Show/Hide data repr'><svg class='icon xr-icon-database'><use xlink:href='#icon-database'></use></svg></label><div class='xr-var-attrs'><dl class='xr-attrs'><dt><span>units :</span></dt><dd>kg kg-1</dd><dt><span>long_name :</span></dt><dd>specific humidity profile for nudging</dd></dl></div><div class='xr-var-data'><pre>[2856 values with dtype=float64]</pre></div></li><li class='xr-var-item'><div class='xr-var-name'><span>w_nudging</span></div><div class='xr-var-dims'>(time, lev)</div><div class='xr-var-dtype'>float64</div><div class='xr-var-preview xr-preview'>...</div><input id='attrs-f68b4676-4617-47c8-9fef-2d8cc53aad07' class='xr-var-attrs-in' type='checkbox' ><label for='attrs-f68b4676-4617-47c8-9fef-2d8cc53aad07' title='Show/Hide attributes'><svg class='icon xr-icon-file-text2'><use xlink:href='#icon-file-text2'></use></svg></label><input id='data-f258e30a-33ea-4de5-ae60-01656e2abfd6' class='xr-var-data-in' type='checkbox'><label for='data-f258e30a-33ea-4de5-ae60-01656e2abfd6' title='Show/Hide data repr'><svg class='icon xr-icon-database'><use xlink:href='#icon-database'></use></svg></label><div class='xr-var-attrs'><dl class='xr-attrs'><dt><span>units :</span></dt><dd>Pa s-1</dd><dt><span>long_name :</span></dt><dd>vertical velocity for nudging</dd></dl></div><div class='xr-var-data'><pre>[2856 values with dtype=float64]</pre></div></li><li class='xr-var-item'><div class='xr-var-name'><span>ts</span></div><div class='xr-var-dims'>(time)</div><div class='xr-var-dtype'>float64</div><div class='xr-var-preview xr-preview'>...</div><input id='attrs-04eadac7-bbed-4748-bf18-534172190811' class='xr-var-attrs-in' type='checkbox' ><label for='attrs-04eadac7-bbed-4748-bf18-534172190811' title='Show/Hide attributes'><svg class='icon xr-icon-file-text2'><use xlink:href='#icon-file-text2'></use></svg></label><input id='data-dcbf3a68-6bcd-4e4c-af94-349c4da66d2e' class='xr-var-data-in' type='checkbox'><label for='data-dcbf3a68-6bcd-4e4c-af94-349c4da66d2e' title='Show/Hide data repr'><svg class='icon xr-icon-database'><use xlink:href='#icon-database'></use></svg></label><div class='xr-var-attrs'><dl class='xr-attrs'><dt><span>units :</span></dt><dd>K</dd><dt><span>long_name :</span></dt><dd>surface temperature</dd></dl></div><div class='xr-var-data'><pre>[21 values with dtype=float64]</pre></div></li><li class='xr-var-item'><div class='xr-var-name'><span>lat_ref</span></div><div class='xr-var-dims'>(time)</div><div class='xr-var-dtype'>float32</div><div class='xr-var-preview xr-preview'>...</div><input id='attrs-3bc11f90-0216-4771-9053-71155770a5a4' class='xr-var-attrs-in' type='checkbox' ><label for='attrs-3bc11f90-0216-4771-9053-71155770a5a4' title='Show/Hide attributes'><svg class='icon xr-icon-file-text2'><use xlink:href='#icon-file-text2'></use></svg></label><input id='data-40d1dd6a-7058-4869-a284-b07abc5ed7e0' class='xr-var-data-in' type='checkbox'><label for='data-40d1dd6a-7058-4869-a284-b07abc5ed7e0' title='Show/Hide data repr'><svg class='icon xr-icon-database'><use xlink:href='#icon-database'></use></svg></label><div class='xr-var-attrs'><dl class='xr-attrs'><dt><span>units :</span></dt><dd>degrees_north</dd><dt><span>long_name :</span></dt><dd>reference latitude</dd></dl></div><div class='xr-var-data'><pre>[21 values with dtype=float32]</pre></div></li><li class='xr-var-item'><div class='xr-var-name'><span>lon_ref</span></div><div class='xr-var-dims'>(time)</div><div class='xr-var-dtype'>float32</div><div class='xr-var-preview xr-preview'>...</div><input id='attrs-d13a4d71-d9fb-4b69-a81a-cdb9ce2daff9' class='xr-var-attrs-in' type='checkbox' ><label for='attrs-d13a4d71-d9fb-4b69-a81a-cdb9ce2daff9' title='Show/Hide attributes'><svg class='icon xr-icon-file-text2'><use xlink:href='#icon-file-text2'></use></svg></label><input id='data-ac8a5af0-4787-48fd-ad73-c814bb5ab160' class='xr-var-data-in' type='checkbox'><label for='data-ac8a5af0-4787-48fd-ad73-c814bb5ab160' title='Show/Hide data repr'><svg class='icon xr-icon-database'><use xlink:href='#icon-database'></use></svg></label><div class='xr-var-attrs'><dl class='xr-attrs'><dt><span>units :</span></dt><dd>degrees_east</dd><dt><span>long_name :</span></dt><dd>reference longitude</dd></dl></div><div class='xr-var-data'><pre>[21 values with dtype=float32]</pre></div></li></ul></div></li><li class='xr-section-item'><input id='section-5a8a7de0-93aa-43e2-b24d-6be7f1d919e8' class='xr-section-summary-in' type='checkbox'  ><label for='section-5a8a7de0-93aa-43e2-b24d-6be7f1d919e8' class='xr-section-summary' >Indexes: <span>(3)</span></label><div class='xr-section-inline-details'></div><div class='xr-section-details'><ul class='xr-var-list'><li class='xr-var-item'><div class='xr-index-name'><div>time</div></div><div class='xr-index-preview'>PandasIndex</div><div></div><input id='index-dbfb1bb0-43e0-40f9-9adc-c552857a5bc3' class='xr-index-data-in' type='checkbox'/><label for='index-dbfb1bb0-43e0-40f9-9adc-c552857a5bc3' title='Show/Hide index repr'><svg class='icon xr-icon-database'><use xlink:href='#icon-database'></use></svg></label><div class='xr-index-data'><pre>PandasIndex(DatetimeIndex([&#x27;2020-03-12 22:00:00&#x27;, &#x27;2020-03-12 23:00:00&#x27;,\n",
       "               &#x27;2020-03-13 00:00:00&#x27;, &#x27;2020-03-13 01:00:00&#x27;,\n",
       "               &#x27;2020-03-13 02:00:00&#x27;, &#x27;2020-03-13 03:00:00&#x27;,\n",
       "               &#x27;2020-03-13 04:00:00&#x27;, &#x27;2020-03-13 05:00:00&#x27;,\n",
       "               &#x27;2020-03-13 06:00:00&#x27;, &#x27;2020-03-13 07:00:00&#x27;,\n",
       "               &#x27;2020-03-13 08:00:00&#x27;, &#x27;2020-03-13 09:00:00&#x27;,\n",
       "               &#x27;2020-03-13 10:00:00&#x27;, &#x27;2020-03-13 11:00:00&#x27;,\n",
       "               &#x27;2020-03-13 12:00:00&#x27;, &#x27;2020-03-13 13:00:00&#x27;,\n",
       "               &#x27;2020-03-13 14:00:00&#x27;, &#x27;2020-03-13 15:00:00&#x27;,\n",
       "               &#x27;2020-03-13 16:00:00&#x27;, &#x27;2020-03-13 17:00:00&#x27;,\n",
       "               &#x27;2020-03-13 18:00:00&#x27;],\n",
       "              dtype=&#x27;datetime64[ns]&#x27;, name=&#x27;time&#x27;, freq=None))</pre></div></li><li class='xr-var-item'><div class='xr-index-name'><div>lev</div></div><div class='xr-index-preview'>PandasIndex</div><div></div><input id='index-d2c28add-8cad-40d5-9495-1425f8c51563' class='xr-index-data-in' type='checkbox'/><label for='index-d2c28add-8cad-40d5-9495-1425f8c51563' title='Show/Hide index repr'><svg class='icon xr-icon-database'><use xlink:href='#icon-database'></use></svg></label><div class='xr-index-data'><pre>PandasIndex(Float64Index([ 18.16781997680664, 37.829158782958984, 59.353187561035156,\n",
       "               82.94095611572266,  108.6346435546875,  136.7628173828125,\n",
       "              167.47406005859375, 201.00625610351562, 237.57296752929688,\n",
       "                277.470947265625,\n",
       "              ...\n",
       "                   51109.3515625,     52942.93359375,     54864.77734375,\n",
       "                  56872.01953125,      58972.8828125,      61185.2734375,\n",
       "                  63514.48828125,      65957.2734375,          68512.125,\n",
       "                   71170.8984375],\n",
       "             dtype=&#x27;float64&#x27;, name=&#x27;lev&#x27;, length=136))</pre></div></li><li class='xr-var-item'><div class='xr-index-name'><div>zw_grid</div></div><div class='xr-index-preview'>PandasIndex</div><div></div><input id='index-2b2a63f5-6c3e-427b-9335-58d2d538bb95' class='xr-index-data-in' type='checkbox'/><label for='index-2b2a63f5-6c3e-427b-9335-58d2d538bb95' title='Show/Hide index repr'><svg class='icon xr-icon-database'><use xlink:href='#icon-database'></use></svg></label><div class='xr-index-data'><pre>PandasIndex(Float64Index([   0.0,   20.0,   45.0,   75.0,  110.0,  150.0,  190.0,  230.0,\n",
       "               270.0,  310.0,\n",
       "              ...\n",
       "              6330.0, 6410.0, 6490.0, 6570.0, 6650.0, 6730.0, 6810.0, 6890.0,\n",
       "              6950.0, 7000.0],\n",
       "             dtype=&#x27;float64&#x27;, name=&#x27;zw_grid&#x27;, length=160))</pre></div></li></ul></div></li><li class='xr-section-item'><input id='section-ed26557c-d317-4507-8d2a-27421921920e' class='xr-section-summary-in' type='checkbox'  ><label for='section-ed26557c-d317-4507-8d2a-27421921920e' class='xr-section-summary' >Attributes: <span>(20)</span></label><div class='xr-section-inline-details'></div><div class='xr-section-details'><dl class='xr-attrs'><dt><span>title :</span></dt><dd>Forcing and initial conditions for 13 March 2020 COMBLE intercomparison case</dd><dt><span>reference :</span></dt><dd>https://arm-development.github.io/comble-mip/</dd><dt><span>authors :</span></dt><dd>Timothy W. Juliano (NCAR/RAL, tjuliano@ucar.edu); Florian Tornow (NASA/GISS, ft2544@columbia.edu); Ann M. Fridlind (NASA/GISS, ann.fridlind@nasa.gov)</dd><dt><span>version :</span></dt><dd>Created on 2023-12-01</dd><dt><span>format_version :</span></dt><dd>DEPHY SCM format version 2.0</dd><dt><span>script :</span></dt><dd>create_comble_forcing_v2.3.ipynb</dd><dt><span>startDate :</span></dt><dd>2020-03-12 22:00:00</dd><dt><span>endDate :</span></dt><dd>2020-03-13 18:00:00</dd><dt><span>forc_geo :</span></dt><dd>1</dd><dt><span>radiation :</span></dt><dd>on</dd><dt><span>forc_wap :</span></dt><dd>0</dd><dt><span>forc_wa :</span></dt><dd>0</dd><dt><span>surface_type :</span></dt><dd>ocean</dd><dt><span>surface_forcing_temp :</span></dt><dd>ts</dd><dt><span>z0h :</span></dt><dd>5.5e-6 m</dd><dt><span>surface_forcing_moisture :</span></dt><dd>none</dd><dt><span>z0q :</span></dt><dd>5.5e-6 m</dd><dt><span>surface_forcing_wind :</span></dt><dd>z0</dd><dt><span>z0 :</span></dt><dd>9.0e-4 m</dd><dt><span>lat :</span></dt><dd>74.5 deg N</dd></dl></div></li></ul></div></div>"
      ],
      "text/plain": [
       "<xarray.Dataset>\n",
       "Dimensions:        (time: 21, lev: 136, zw_grid: 160)\n",
       "Coordinates:\n",
       "    t0             datetime64[ns] 2020-03-12T22:00:00\n",
       "    lat            float32 74.5\n",
       "    lon            float32 9.9\n",
       "  * time           (time) datetime64[ns] 2020-03-12T22:00:00 ... 2020-03-13T1...\n",
       "  * lev            (lev) float64 18.17 37.83 59.35 ... 6.851e+04 7.117e+04\n",
       "  * zw_grid        (zw_grid) float64 0.0 20.0 45.0 ... 6.89e+03 6.95e+03 7e+03\n",
       "Data variables: (12/19)\n",
       "    pressure       (lev) float64 ...\n",
       "    u              (lev) float64 ...\n",
       "    v              (lev) float64 ...\n",
       "    temp           (lev) float64 ...\n",
       "    theta          (lev) float64 ...\n",
       "    qv             (lev) float64 ...\n",
       "    ...             ...\n",
       "    theta_nudging  (time, lev) float64 ...\n",
       "    qv_nudging     (time, lev) float64 ...\n",
       "    w_nudging      (time, lev) float64 ...\n",
       "    ts             (time) float64 ...\n",
       "    lat_ref        (time) float32 ...\n",
       "    lon_ref        (time) float32 ...\n",
       "Attributes: (12/20)\n",
       "    title:                     Forcing and initial conditions for 13 March 20...\n",
       "    reference:                 https://arm-development.github.io/comble-mip/\n",
       "    authors:                   Timothy W. Juliano (NCAR/RAL, tjuliano@ucar.ed...\n",
       "    version:                   Created on 2023-12-01\n",
       "    format_version:            DEPHY SCM format version 2.0\n",
       "    script:                    create_comble_forcing_v2.3.ipynb\n",
       "    ...                        ...\n",
       "    z0h:                       5.5e-6 m\n",
       "    surface_forcing_moisture:  none\n",
       "    z0q:                       5.5e-6 m\n",
       "    surface_forcing_wind:      z0\n",
       "    z0:                        9.0e-4 m\n",
       "    lat:                       74.5 deg N"
      ]
     },
     "execution_count": 3,
     "metadata": {},
     "output_type": "execute_result"
    }
   ],
   "source": [
    "dephy_filename = '../forcing/COMBLE_INTERCOMPARISON_FORCING_V2.3.nc'\n",
    "dephy = xr.open_dataset(dephy_filename)\n",
    "dephy = dephy.squeeze()\n",
    "dephy"
   ]
  },
  {
   "cell_type": "markdown",
   "id": "2739f889-df5a-4d01-9829-0c77da22ad73",
   "metadata": {
    "tags": []
   },
   "source": [
    "## Create input files for WRF-LES in ASCII or NetCDF format\n",
    "\n",
    "Write initial sounding, ozone profile, forcing and vertical grid files"
   ]
  },
  {
   "cell_type": "markdown",
   "id": "21479f70",
   "metadata": {},
   "source": [
    "### Write input sounding file for WRF LES in ASCII format"
   ]
  },
  {
   "cell_type": "code",
   "execution_count": 4,
   "id": "0c782307",
   "metadata": {
    "tags": []
   },
   "outputs": [],
   "source": [
    "# use a list to accumulate output ASCII lines\n",
    "lines_sounding = []\n",
    "\n",
    "# number of lines to be read\n",
    "n_z = dephy.dims['lev']\n",
    "\n",
    "# arrays to be reported in columns\n",
    "z_arr = dephy.coords['lev'].values\n",
    "th_arr = dephy['theta'].values.squeeze() # K\n",
    "qt_arr = dephy['qv'].values.squeeze()*1000. # g/kg\n",
    "u_arr = dephy['u'].values.squeeze() # m/s\n",
    "v_arr = dephy['v'].values.squeeze() # m/s\n",
    "ps = dephy['ps'].values.squeeze()/100. # hPa\n",
    "thetas = dephy['thetas'].values.squeeze() # K\n",
    "\n",
    "# add a surface point (required by WRF code)\n",
    "vars_arr = np.array([ps,thetas,qt_arr[0]])\n",
    "str_firstline = np.array2string(vars_arr,formatter={'float_kind':lambda vars_arr:\"%11.5f\" % vars_arr})[1:-1]\n",
    "lines_sounding.append(str_firstline)\n",
    "\n",
    "# do profile\n",
    "for kk in range(n_z):\n",
    "    vars_arr = np.array([z_arr[kk],th_arr[kk],qt_arr[kk],u_arr[kk],v_arr[kk]])\n",
    "    str_vars = np.array2string(vars_arr,formatter={'float_kind':lambda vars_arr:\"%11.5f\" % vars_arr})[1:-1]\n",
    "    lines_sounding.append(str_vars)\n",
    "\n",
    "# write list contents to ASCII file\n",
    "filename_sounding_LES = 'input_sounding'\n",
    "with open(filename_sounding_LES,mode='wt',encoding='utf-8') as sounding_file:\n",
    "    sounding_file.write('\\n'.join(lines_sounding))"
   ]
  },
  {
   "cell_type": "markdown",
   "id": "b6bbd078",
   "metadata": {},
   "source": [
    "### Write ozone file for RRTMG\n",
    "#### Pressure file"
   ]
  },
  {
   "cell_type": "code",
   "execution_count": 5,
   "id": "30c6ad42",
   "metadata": {
    "tags": []
   },
   "outputs": [],
   "source": [
    "# use a list to accumulate output ASCII lines\n",
    "lines_pressure = []\n",
    "\n",
    "# arrays to be reported in columns\n",
    "p_arr = dephy['pressure'].values.squeeze() # Pa\n",
    "p_arr = p_arr[::-1]/100. # hPa\n",
    "\n",
    "# do profile\n",
    "for kk in range(n_z):\n",
    "    vars_arr = np.array([p_arr[kk]])\n",
    "    str_vars = np.array2string(vars_arr,formatter={'float_kind':lambda vars_arr:\"%11.4f\" % vars_arr})[1:-1]\n",
    "    lines_pressure.append(str_vars)\n",
    "\n",
    "# write list contents to ASCII file\n",
    "filename_pressure_LES = 'ozone_plev.formatted'\n",
    "with open(filename_pressure_LES,mode='wt',encoding='utf-8') as pressure_file:\n",
    "    pressure_file.write('\\n'.join(lines_pressure))"
   ]
  },
  {
   "cell_type": "markdown",
   "id": "84b93484",
   "metadata": {},
   "source": [
    "#### Ozone file"
   ]
  },
  {
   "cell_type": "code",
   "execution_count": 6,
   "id": "1669a64c",
   "metadata": {
    "tags": []
   },
   "outputs": [],
   "source": [
    "# use a list to accumulate output ASCII lines\n",
    "lines_ozone = []\n",
    "\n",
    "n_months = 12\n",
    "n_lat = 64\n",
    "\n",
    "# arrays to be reported in columns\n",
    "o3_arr = dephy['o3'].values.squeeze() # kg kg-1\n",
    "o3_arr = o3_arr[::-1]\n",
    "\n",
    "# do profile\n",
    "for ii in range(n_months):\n",
    "    for jj in range(n_lat):\n",
    "        for kk in range(n_z):\n",
    "            vars_arr = np.array([o3_arr[kk]])\n",
    "            str_vars = np.array2string(vars_arr,formatter={'float_kind':lambda vars_arr:\"%.4E\" % vars_arr})[1:-1]\n",
    "            lines_ozone.append(str_vars)\n",
    "\n",
    "# write list contents to ASCII file\n",
    "filename_ozone_LES = 'ozone.formatted'\n",
    "with open(filename_ozone_LES,mode='wt',encoding='utf-8') as ozone_file:\n",
    "    ozone_file.write('\\n'.join(lines_ozone))"
   ]
  },
  {
   "cell_type": "markdown",
   "id": "cb8d2632-b3e5-4136-afea-83b28dfea711",
   "metadata": {},
   "source": [
    "### Write forcing file"
   ]
  },
  {
   "cell_type": "markdown",
   "id": "ed815e93",
   "metadata": {},
   "source": [
    "#### Read forcing winds from forcing file"
   ]
  },
  {
   "cell_type": "code",
   "execution_count": 7,
   "id": "a983e193",
   "metadata": {
    "tags": []
   },
   "outputs": [],
   "source": [
    "u_force = dephy['ug'][:,:].values # m/s\n",
    "v_force = dephy['vg'][:,:].values # m/s"
   ]
  },
  {
   "cell_type": "markdown",
   "id": "0b5c57b2",
   "metadata": {},
   "source": [
    "#### Repeat z_ls 1D array to be 2D array for writing"
   ]
  },
  {
   "cell_type": "code",
   "execution_count": 8,
   "id": "44ebe1b5",
   "metadata": {
    "tags": []
   },
   "outputs": [],
   "source": [
    "nhrs = dephy.dims['time']\n",
    "z_ls_write = np.tile(z_arr,(np.shape(u_force)[0],1))[0:nhrs,:]"
   ]
  },
  {
   "cell_type": "markdown",
   "id": "079e9382",
   "metadata": {},
   "source": [
    "#### Compute wind forcing tendency"
   ]
  },
  {
   "cell_type": "code",
   "execution_count": 9,
   "id": "54997b1a-f0be-47d3-84b2-60adbd2b3587",
   "metadata": {
    "tags": []
   },
   "outputs": [],
   "source": [
    "delt = ((dephy['time'][1]-dephy['time'][0]).dt.seconds).values # time between profiles (s)\n",
    "\n",
    "u_tend = np.zeros([np.shape(u_force)[0],np.shape(u_force)[1]])\n",
    "v_tend = np.zeros([np.shape(u_force)[0],np.shape(u_force)[1]])\n",
    "z_tend = np.zeros([np.shape(u_force)[0],np.shape(u_force)[1]])\n",
    "\n",
    "u_tend[0:-1,:] = (u_force[1:,:] - u_force[0:-1,:]) / delt\n",
    "u_tend[-1,:] = u_tend[-2,:]\n",
    "v_tend[0:-1,:] = (v_force[1:,:] - v_force[0:-1,:]) / delt\n",
    "v_tend[-1,:] = v_tend[-2,:]\n",
    "z_tend[0:-1,:] = (z_ls_write[1:,:] - z_ls_write[0:-1,:]) / delt\n",
    "z_tend[-1,:] = z_tend[-2,:]"
   ]
  },
  {
   "cell_type": "markdown",
   "id": "80f9c481",
   "metadata": {},
   "source": [
    " #### Forcing NetCDF name and delete file if already exists"
   ]
  },
  {
   "cell_type": "code",
   "execution_count": 10,
   "id": "45aba81f",
   "metadata": {
    "tags": []
   },
   "outputs": [
    {
     "name": "stdout",
     "output_type": "stream",
     "text": [
      "The file input_ls_forcing.nc has been deleted successfully\n"
     ]
    }
   ],
   "source": [
    "savename = 'input_ls_forcing.nc'\n",
    "\n",
    "if os.path.exists(savename):\n",
    "    os.remove(savename)\n",
    "    print('The file ' + savename + ' has been deleted successfully')"
   ]
  },
  {
   "cell_type": "markdown",
   "id": "0a1f723b",
   "metadata": {},
   "source": [
    "#### Create new netcdf file"
   ]
  },
  {
   "cell_type": "code",
   "execution_count": 11,
   "id": "3a6b159c",
   "metadata": {
    "tags": []
   },
   "outputs": [],
   "source": [
    "try: ncfile.close()  # just to be safe, make sure dataset is not already open.\n",
    "except: pass\n",
    "ncfile = Dataset('./' + savename,mode='w',format='NETCDF3_CLASSIC') \n",
    "#print(ncfile)"
   ]
  },
  {
   "cell_type": "markdown",
   "id": "8055d4c5",
   "metadata": {},
   "source": [
    "#### Create dimensions"
   ]
  },
  {
   "cell_type": "code",
   "execution_count": 12,
   "id": "c86aede0",
   "metadata": {},
   "outputs": [],
   "source": [
    "levs = np.shape(u_force)[1]\n",
    "lev_dim = ncfile.createDimension('force_layers', levs)      # level axis\n",
    "time_dim = ncfile.createDimension('Time', None)    # unlimited axis (can be appended to)\n",
    "datestrlen = ncfile.createDimension('DateStrLen', 19)"
   ]
  },
  {
   "cell_type": "markdown",
   "id": "d13d94a3",
   "metadata": {},
   "source": [
    "#### Create global attributes"
   ]
  },
  {
   "cell_type": "code",
   "execution_count": 13,
   "id": "0c591ccd",
   "metadata": {},
   "outputs": [],
   "source": [
    "ncfile.title='AUXILIARY FORCING FOR CRM'"
   ]
  },
  {
   "cell_type": "markdown",
   "id": "b878c0e0",
   "metadata": {},
   "source": [
    "#### Create variables"
   ]
  },
  {
   "cell_type": "markdown",
   "id": "bcdf2879",
   "metadata": {},
   "source": [
    "##### Dimensions"
   ]
  },
  {
   "cell_type": "code",
   "execution_count": 14,
   "id": "69e94eb6",
   "metadata": {
    "tags": []
   },
   "outputs": [],
   "source": [
    "time = ncfile.createVariable('Times', 'S1', ('Time','DateStrLen',))"
   ]
  },
  {
   "cell_type": "markdown",
   "id": "5b5f44d6",
   "metadata": {},
   "source": [
    "### Add times"
   ]
  },
  {
   "cell_type": "code",
   "execution_count": 15,
   "id": "3b2cc02d-0106-4d92-8553-08ebf11feb02",
   "metadata": {
    "tags": []
   },
   "outputs": [],
   "source": [
    "for i in np.arange(len(dephy['time'].values)):\n",
    "    yyyy = pd.to_datetime(dephy['time'].values[i]).year\n",
    "    m = pd.to_datetime(dephy['time'].values[i]).month\n",
    "    dd = pd.to_datetime(dephy['time'].values[i]).day\n",
    "    hh = pd.to_datetime(dephy['time'].values[i]).hour\n",
    "    hold = dt.datetime(yyyy,m,dd,hh)\n",
    "    hold2 = hold.strftime('%Y-%m-%d_%H:%M:%S')\n",
    "    \n",
    "    time[i,:] = stringtochar(np.array(hold2, 'S19'))"
   ]
  },
  {
   "cell_type": "markdown",
   "id": "747f3205",
   "metadata": {},
   "source": [
    "#### Time-varying wind forcing profiles"
   ]
  },
  {
   "cell_type": "code",
   "execution_count": 16,
   "id": "a4864508",
   "metadata": {},
   "outputs": [],
   "source": [
    "u_ls = ncfile.createVariable('U_LS', np.float32, ('Time','force_layers',),fill_value=-999.)\n",
    "u_ls.FieldType = 104\n",
    "u_ls.MemoryOrder = 'Z  '\n",
    "u_ls.description = 'large scale zonal wind velocity'\n",
    "u_ls.units = ''\n",
    "u_ls.stagger = ''\n",
    "\n",
    "v_ls = ncfile.createVariable('V_LS', np.float32, ('Time','force_layers',),fill_value=-999.)\n",
    "v_ls.FieldType = 104\n",
    "v_ls.MemoryOrder = 'Z  '\n",
    "v_ls.description = 'large scale meridional wind velocity'\n",
    "v_ls.units = ''\n",
    "v_ls.stagger = ''\n",
    "\n",
    "z_ls = ncfile.createVariable('Z_LS', np.float32, ('Time','force_layers',),fill_value=-999.)\n",
    "z_ls.FieldType = 104\n",
    "z_ls.MemoryOrder = 'Z  '\n",
    "z_ls.description = 'height of forcing time series'\n",
    "z_ls.units = ''\n",
    "z_ls.stagger = ''\n",
    "\n",
    "u_ls_tend = ncfile.createVariable('U_LS_TEND', np.float32, ('Time','force_layers',),fill_value=-999.)\n",
    "u_ls_tend.FieldType = 104\n",
    "u_ls_tend.MemoryOrder = 'Z  '\n",
    "u_ls_tend.description = 'tendency of zonal wind'\n",
    "u_ls_tend.units = ''\n",
    "u_ls_tend.stagger = ''\n",
    "\n",
    "v_ls_tend = ncfile.createVariable('V_LS_TEND', np.float32, ('Time','force_layers',),fill_value=-999.)\n",
    "v_ls_tend.FieldType = 104\n",
    "v_ls_tend.MemoryOrder = 'Z  '\n",
    "v_ls_tend.description = 'tendency of meridional wind'\n",
    "v_ls_tend.units = ''\n",
    "v_ls_tend.stagger = ''\n",
    "\n",
    "z_ls_tend = ncfile.createVariable('Z_LS_TEND', np.float32, ('Time','force_layers',),fill_value=-999.)\n",
    "z_ls_tend.FieldType = 104\n",
    "z_ls_tend.MemoryOrder = 'Z  '\n",
    "z_ls_tend.description = 'height of forcing time series'\n",
    "z_ls_tend.units = ''\n",
    "z_ls_tend.stagger = ''"
   ]
  },
  {
   "cell_type": "markdown",
   "id": "e9cfe73f",
   "metadata": {},
   "source": [
    "### Write data"
   ]
  },
  {
   "cell_type": "code",
   "execution_count": 17,
   "id": "5de5a3f2",
   "metadata": {},
   "outputs": [],
   "source": [
    "u_ls[:] = u_force\n",
    "v_ls[:] = v_force\n",
    "z_ls[:] = z_ls_write\n",
    "u_ls_tend[:] = u_tend\n",
    "v_ls_tend[:] = v_tend\n",
    "z_ls_tend[:] = z_tend"
   ]
  },
  {
   "cell_type": "markdown",
   "id": "85f96413",
   "metadata": {},
   "source": [
    "### Close the file"
   ]
  },
  {
   "cell_type": "code",
   "execution_count": 18,
   "id": "0415a82a",
   "metadata": {},
   "outputs": [
    {
     "name": "stdout",
     "output_type": "stream",
     "text": [
      "<class 'netCDF4._netCDF4.Dataset'>\n",
      "root group (NETCDF3_CLASSIC data model, file format NETCDF3):\n",
      "    title: AUXILIARY FORCING FOR CRM\n",
      "    dimensions(sizes): force_layers(136), Time(21), DateStrLen(19)\n",
      "    variables(dimensions): |S1 Times(Time, DateStrLen), float32 U_LS(Time, force_layers), float32 V_LS(Time, force_layers), float32 Z_LS(Time, force_layers), float32 U_LS_TEND(Time, force_layers), float32 V_LS_TEND(Time, force_layers), float32 Z_LS_TEND(Time, force_layers)\n",
      "    groups: \n",
      "Dataset is closed!\n"
     ]
    }
   ],
   "source": [
    "# first print the Dataset object to see what we've got\n",
    "print(ncfile)\n",
    "# close the Dataset.\n",
    "ncfile.close(); print('Dataset is closed!')"
   ]
  },
  {
   "cell_type": "markdown",
   "id": "45a69b46",
   "metadata": {},
   "source": [
    "### Write surface forcing file for WRF LES in netCDF format"
   ]
  },
  {
   "cell_type": "markdown",
   "id": "3ce00f4e",
   "metadata": {},
   "source": [
    "#### Read skin temperature from forcing file"
   ]
  },
  {
   "cell_type": "code",
   "execution_count": 19,
   "id": "29c286d4",
   "metadata": {},
   "outputs": [],
   "source": [
    "ts_arr = dephy['ts'][:].values # K"
   ]
  },
  {
   "cell_type": "markdown",
   "id": "47087937",
   "metadata": {},
   "source": [
    "#### Compute skin temperature tendency"
   ]
  },
  {
   "cell_type": "code",
   "execution_count": 20,
   "id": "6afc5f32",
   "metadata": {},
   "outputs": [],
   "source": [
    "ts_tend = np.zeros(nhrs)\n",
    "\n",
    "ts_tend[0:-1] = (ts_arr[1:] - ts_arr[0:-1]) / delt\n",
    "ts_tend[-1] = ts_tend[-2]"
   ]
  },
  {
   "cell_type": "markdown",
   "id": "785f25b5",
   "metadata": {},
   "source": [
    " #### Forcing NetCDF name and delete file if already exists"
   ]
  },
  {
   "cell_type": "code",
   "execution_count": 21,
   "id": "83cf680b",
   "metadata": {},
   "outputs": [
    {
     "name": "stdout",
     "output_type": "stream",
     "text": [
      "The file input_sfc_forcing.nc has been deleted successfully\n"
     ]
    }
   ],
   "source": [
    "savename = 'input_sfc_forcing.nc'\n",
    "\n",
    "if os.path.exists(savename):\n",
    "    os.remove(savename)\n",
    "    print('The file ' + savename + ' has been deleted successfully')"
   ]
  },
  {
   "cell_type": "markdown",
   "id": "379ab4d9",
   "metadata": {},
   "source": [
    "#### Create new netcdf file"
   ]
  },
  {
   "cell_type": "code",
   "execution_count": 22,
   "id": "b03d06bb",
   "metadata": {},
   "outputs": [],
   "source": [
    "try: ncfile.close()  # just to be safe, make sure dataset is not already open.\n",
    "except: pass\n",
    "ncfile = Dataset('./' + savename,mode='w',format='NETCDF3_CLASSIC') \n",
    "#print(ncfile)"
   ]
  },
  {
   "cell_type": "markdown",
   "id": "c9a54a88",
   "metadata": {},
   "source": [
    "#### Create dimensions"
   ]
  },
  {
   "cell_type": "code",
   "execution_count": 23,
   "id": "e994f3f5",
   "metadata": {},
   "outputs": [],
   "source": [
    "time_dim = ncfile.createDimension('Time', None)    # unlimited axis (can be appended to)\n",
    "datestrlen = ncfile.createDimension('DateStrLen', 19)"
   ]
  },
  {
   "cell_type": "markdown",
   "id": "ace6f6a8",
   "metadata": {},
   "source": [
    "#### Create global attributes"
   ]
  },
  {
   "cell_type": "code",
   "execution_count": 24,
   "id": "93fadb71",
   "metadata": {},
   "outputs": [],
   "source": [
    "ncfile.title='AUXILIARY FORCING FOR CRM'"
   ]
  },
  {
   "cell_type": "markdown",
   "id": "8cb024e4",
   "metadata": {},
   "source": [
    "#### Create variables"
   ]
  },
  {
   "cell_type": "markdown",
   "id": "2235eefe",
   "metadata": {},
   "source": [
    "#### Dimensions"
   ]
  },
  {
   "cell_type": "code",
   "execution_count": 25,
   "id": "6b448fa5",
   "metadata": {},
   "outputs": [],
   "source": [
    "time = ncfile.createVariable('Times', 'S1', ('Time','DateStrLen',))"
   ]
  },
  {
   "cell_type": "markdown",
   "id": "06cad8cd",
   "metadata": {},
   "source": [
    "#### Add times"
   ]
  },
  {
   "cell_type": "code",
   "execution_count": 26,
   "id": "4674da1f",
   "metadata": {},
   "outputs": [],
   "source": [
    "for i in np.arange(len(dephy['time'].values)):\n",
    "    yyyy = pd.to_datetime(dephy['time'].values[i]).year\n",
    "    m = pd.to_datetime(dephy['time'].values[i]).month\n",
    "    dd = pd.to_datetime(dephy['time'].values[i]).day\n",
    "    hh = pd.to_datetime(dephy['time'].values[i]).hour\n",
    "    hold = dt.datetime(yyyy,m,dd,hh)\n",
    "    hold2 = hold.strftime('%Y-%m-%d_%H:%M:%S')\n",
    "    \n",
    "    time[i,:] = stringtochar(np.array(hold2, 'S19'))"
   ]
  },
  {
   "cell_type": "markdown",
   "id": "959e74ef",
   "metadata": {},
   "source": [
    "#### Time-varying skin temperature"
   ]
  },
  {
   "cell_type": "code",
   "execution_count": 27,
   "id": "828da8b1",
   "metadata": {},
   "outputs": [],
   "source": [
    "pre_tsk = ncfile.createVariable('PRE_TSK', np.float32, ('Time',),fill_value=-999.)\n",
    "pre_tsk.FieldType = 104\n",
    "pre_tsk.MemoryOrder = 'Z  '\n",
    "pre_tsk.description = 'skin temperature'\n",
    "pre_tsk.units = ''\n",
    "pre_tsk.stagger = ''\n",
    "\n",
    "pre_tsk_tend = ncfile.createVariable('PRE_TSK_TEND', np.float32, ('Time',),fill_value=-999.)\n",
    "pre_tsk_tend.FieldType = 104\n",
    "pre_tsk_tend.MemoryOrder = 'Z  '\n",
    "pre_tsk_tend.description = 'skin temperature'\n",
    "pre_tsk_tend.units = ''\n",
    "pre_tsk_tend.stagger = ''"
   ]
  },
  {
   "cell_type": "markdown",
   "id": "b1b5b9a5",
   "metadata": {},
   "source": [
    "#### Write data"
   ]
  },
  {
   "cell_type": "code",
   "execution_count": 28,
   "id": "19798da0",
   "metadata": {},
   "outputs": [],
   "source": [
    "pre_tsk[:] = ts_arr\n",
    "pre_tsk_tend[:] = ts_tend"
   ]
  },
  {
   "cell_type": "markdown",
   "id": "df1f3f8f",
   "metadata": {},
   "source": [
    "#### Close the file"
   ]
  },
  {
   "cell_type": "code",
   "execution_count": 29,
   "id": "740f49db",
   "metadata": {},
   "outputs": [
    {
     "name": "stdout",
     "output_type": "stream",
     "text": [
      "<class 'netCDF4._netCDF4.Dataset'>\n",
      "root group (NETCDF3_CLASSIC data model, file format NETCDF3):\n",
      "    title: AUXILIARY FORCING FOR CRM\n",
      "    dimensions(sizes): Time(21), DateStrLen(19)\n",
      "    variables(dimensions): |S1 Times(Time, DateStrLen), float32 PRE_TSK(Time), float32 PRE_TSK_TEND(Time)\n",
      "    groups: \n",
      "Dataset is closed!\n"
     ]
    }
   ],
   "source": [
    "# first print the Dataset object to see what we've got\n",
    "print(ncfile)\n",
    "# close the Dataset.\n",
    "ncfile.close(); print('Dataset is closed!')"
   ]
  },
  {
   "cell_type": "markdown",
   "id": "f912dabb",
   "metadata": {},
   "source": [
    "### Write vertical grid file for WRF LES in ASCII format"
   ]
  },
  {
   "cell_type": "code",
   "execution_count": 30,
   "id": "1998478b",
   "metadata": {
    "tags": []
   },
   "outputs": [],
   "source": [
    "# create vertical grid file contents as list\n",
    "lines_zw = []\n",
    "\n",
    "n_zw = n_z = dephy.dims['zw_grid'] # number of heights\n",
    "\n",
    "for kk in range(n_zw):\n",
    "    lines_zw.append(str(dephy['zw_grid'][kk].values))\n",
    "\n",
    "# write vertical grid to ASCII file\n",
    "filename_zw_LES = 'input_zw_grid'\n",
    "with open(filename_zw_LES,mode='wt',encoding='utf-8') as zw_file:\n",
    "    zw_file.write('\\n'.join(lines_zw))"
   ]
  },
  {
   "cell_type": "code",
   "execution_count": null,
   "id": "a790d6c9",
   "metadata": {},
   "outputs": [],
   "source": []
  }
 ],
 "metadata": {
  "kernelspec": {
   "display_name": "Python [conda env:base] *",
   "language": "python",
   "name": "conda-base-py"
  },
  "language_info": {
   "codemirror_mode": {
    "name": "ipython",
    "version": 3
   },
   "file_extension": ".py",
   "mimetype": "text/x-python",
   "name": "python",
   "nbconvert_exporter": "python",
   "pygments_lexer": "ipython3",
   "version": "3.10.9"
  }
 },
 "nbformat": 4,
 "nbformat_minor": 5
}
