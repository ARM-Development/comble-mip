{
 "cells": [
  {
   "cell_type": "markdown",
   "metadata": {},
   "source": [
    "# Example: convert DEPHY forcing to WRF-LES forcing"
   ]
  },
  {
   "cell_type": "markdown",
   "metadata": {},
   "source": [
    "# Code to read COMBLE LES/SCM DEPHY forcing files and write input files for WRF LES (ASCII/NetCDF)\n",
    "### Contributed by Tim Juliano from NCAR/RAL on 2/2/23"
   ]
  },
  {
   "cell_type": "markdown",
   "metadata": {},
   "source": [
    "### Import libraries"
   ]
  },
  {
   "cell_type": "code",
   "execution_count": 2,
   "metadata": {},
   "outputs": [],
   "source": [
    "import xarray as xr\n",
    "import numpy as np\n",
    "import pandas as pd\n",
    "import netCDF4\n",
    "from netCDF4 import Dataset, date2num,num2date, stringtochar\n",
    "import os\n",
    "import datetime as dt"
   ]
  },
  {
   "cell_type": "markdown",
   "metadata": {},
   "source": [
    "### !!! BEGIN USER MODS !!!\n",
    "#### How many hours before ice edge do you want to start?\n",
    "#### Note: t0_h = 0 means you are starting approx. at ice edge, t0_h = 10 means you are starting 10 h upstream (north) of the ice edge\n",
    "#### Note: t0_h must be an integer"
   ]
  },
  {
   "cell_type": "code",
   "execution_count": 18,
   "metadata": {},
   "outputs": [],
   "source": [
    "t0_h = 10\n",
    "if t0_h < 0 or t0_h > 10:\n",
    "    sys.exit('Error: Please set 0 <= t0_h >= 10')"
   ]
  },
  {
   "cell_type": "markdown",
   "metadata": {},
   "source": [
    "### !!! END USER MODS !!!"
   ]
  },
  {
   "cell_type": "markdown",
   "metadata": {},
   "source": [
    "### Set some things"
   ]
  },
  {
   "cell_type": "code",
   "execution_count": 19,
   "metadata": {},
   "outputs": [
    {
     "name": "stdout",
     "output_type": "stream",
     "text": [
      "Start time is: 2020-03-12 14:00:00\n"
     ]
    }
   ],
   "source": [
    "nhrs = 18 + t0_h + 1 # total number of simulation hours, including t0; default is from 2020-03-12 at 14 UTC to 2020-03-14 at 00 UTC\n",
    "if t0_h == 0:\n",
    "    start_time = '2020-03-13 00:00:00'\n",
    "    start_day = 13\n",
    "    start_hour = 0\n",
    "else:\n",
    "    start_time = '2020-03-12 ' + str(24-t0_h) + ':00:00'\n",
    "    start_day = 12\n",
    "    start_hour = 24-t0_h\n",
    "print ('Start time is: ' + start_time)"
   ]
  },
  {
   "cell_type": "markdown",
   "metadata": {},
   "source": [
    "### Read forcing file"
   ]
  },
  {
   "cell_type": "code",
   "execution_count": 3,
   "metadata": {},
   "outputs": [
    {
     "data": {
      "text/html": [
       "<div><svg style=\"position: absolute; width: 0; height: 0; overflow: hidden\">\n",
       "<defs>\n",
       "<symbol id=\"icon-database\" viewBox=\"0 0 32 32\">\n",
       "<title>Show/Hide data repr</title>\n",
       "<path d=\"M16 0c-8.837 0-16 2.239-16 5v4c0 2.761 7.163 5 16 5s16-2.239 16-5v-4c0-2.761-7.163-5-16-5z\"></path>\n",
       "<path d=\"M16 17c-8.837 0-16-2.239-16-5v6c0 2.761 7.163 5 16 5s16-2.239 16-5v-6c0 2.761-7.163 5-16 5z\"></path>\n",
       "<path d=\"M16 26c-8.837 0-16-2.239-16-5v6c0 2.761 7.163 5 16 5s16-2.239 16-5v-6c0 2.761-7.163 5-16 5z\"></path>\n",
       "</symbol>\n",
       "<symbol id=\"icon-file-text2\" viewBox=\"0 0 32 32\">\n",
       "<title>Show/Hide attributes</title>\n",
       "<path d=\"M28.681 7.159c-0.694-0.947-1.662-2.053-2.724-3.116s-2.169-2.030-3.116-2.724c-1.612-1.182-2.393-1.319-2.841-1.319h-15.5c-1.378 0-2.5 1.121-2.5 2.5v27c0 1.378 1.122 2.5 2.5 2.5h23c1.378 0 2.5-1.122 2.5-2.5v-19.5c0-0.448-0.137-1.23-1.319-2.841zM24.543 5.457c0.959 0.959 1.712 1.825 2.268 2.543h-4.811v-4.811c0.718 0.556 1.584 1.309 2.543 2.268zM28 29.5c0 0.271-0.229 0.5-0.5 0.5h-23c-0.271 0-0.5-0.229-0.5-0.5v-27c0-0.271 0.229-0.5 0.5-0.5 0 0 15.499-0 15.5 0v7c0 0.552 0.448 1 1 1h7v19.5z\"></path>\n",
       "<path d=\"M23 26h-14c-0.552 0-1-0.448-1-1s0.448-1 1-1h14c0.552 0 1 0.448 1 1s-0.448 1-1 1z\"></path>\n",
       "<path d=\"M23 22h-14c-0.552 0-1-0.448-1-1s0.448-1 1-1h14c0.552 0 1 0.448 1 1s-0.448 1-1 1z\"></path>\n",
       "<path d=\"M23 18h-14c-0.552 0-1-0.448-1-1s0.448-1 1-1h14c0.552 0 1 0.448 1 1s-0.448 1-1 1z\"></path>\n",
       "</symbol>\n",
       "</defs>\n",
       "</svg>\n",
       "<style>/* CSS stylesheet for displaying xarray objects in jupyterlab.\n",
       " *\n",
       " */\n",
       "\n",
       ":root {\n",
       "  --xr-font-color0: var(--jp-content-font-color0, rgba(0, 0, 0, 1));\n",
       "  --xr-font-color2: var(--jp-content-font-color2, rgba(0, 0, 0, 0.54));\n",
       "  --xr-font-color3: var(--jp-content-font-color3, rgba(0, 0, 0, 0.38));\n",
       "  --xr-border-color: var(--jp-border-color2, #e0e0e0);\n",
       "  --xr-disabled-color: var(--jp-layout-color3, #bdbdbd);\n",
       "  --xr-background-color: var(--jp-layout-color0, white);\n",
       "  --xr-background-color-row-even: var(--jp-layout-color1, white);\n",
       "  --xr-background-color-row-odd: var(--jp-layout-color2, #eeeeee);\n",
       "}\n",
       "\n",
       ".xr-wrap {\n",
       "  min-width: 300px;\n",
       "  max-width: 700px;\n",
       "}\n",
       "\n",
       ".xr-header {\n",
       "  padding-top: 6px;\n",
       "  padding-bottom: 6px;\n",
       "  margin-bottom: 4px;\n",
       "  border-bottom: solid 1px var(--xr-border-color);\n",
       "}\n",
       "\n",
       ".xr-header > div,\n",
       ".xr-header > ul {\n",
       "  display: inline;\n",
       "  margin-top: 0;\n",
       "  margin-bottom: 0;\n",
       "}\n",
       "\n",
       ".xr-obj-type,\n",
       ".xr-array-name {\n",
       "  margin-left: 2px;\n",
       "  margin-right: 10px;\n",
       "}\n",
       "\n",
       ".xr-obj-type {\n",
       "  color: var(--xr-font-color2);\n",
       "}\n",
       "\n",
       ".xr-sections {\n",
       "  padding-left: 0 !important;\n",
       "  display: grid;\n",
       "  grid-template-columns: 150px auto auto 1fr 20px 20px;\n",
       "}\n",
       "\n",
       ".xr-section-item {\n",
       "  display: contents;\n",
       "}\n",
       "\n",
       ".xr-section-item input {\n",
       "  display: none;\n",
       "}\n",
       "\n",
       ".xr-section-item input + label {\n",
       "  color: var(--xr-disabled-color);\n",
       "}\n",
       "\n",
       ".xr-section-item input:enabled + label {\n",
       "  cursor: pointer;\n",
       "  color: var(--xr-font-color2);\n",
       "}\n",
       "\n",
       ".xr-section-item input:enabled + label:hover {\n",
       "  color: var(--xr-font-color0);\n",
       "}\n",
       "\n",
       ".xr-section-summary {\n",
       "  grid-column: 1;\n",
       "  color: var(--xr-font-color2);\n",
       "  font-weight: 500;\n",
       "}\n",
       "\n",
       ".xr-section-summary > span {\n",
       "  display: inline-block;\n",
       "  padding-left: 0.5em;\n",
       "}\n",
       "\n",
       ".xr-section-summary-in:disabled + label {\n",
       "  color: var(--xr-font-color2);\n",
       "}\n",
       "\n",
       ".xr-section-summary-in + label:before {\n",
       "  display: inline-block;\n",
       "  content: '►';\n",
       "  font-size: 11px;\n",
       "  width: 15px;\n",
       "  text-align: center;\n",
       "}\n",
       "\n",
       ".xr-section-summary-in:disabled + label:before {\n",
       "  color: var(--xr-disabled-color);\n",
       "}\n",
       "\n",
       ".xr-section-summary-in:checked + label:before {\n",
       "  content: '▼';\n",
       "}\n",
       "\n",
       ".xr-section-summary-in:checked + label > span {\n",
       "  display: none;\n",
       "}\n",
       "\n",
       ".xr-section-summary,\n",
       ".xr-section-inline-details {\n",
       "  padding-top: 4px;\n",
       "  padding-bottom: 4px;\n",
       "}\n",
       "\n",
       ".xr-section-inline-details {\n",
       "  grid-column: 2 / -1;\n",
       "}\n",
       "\n",
       ".xr-section-details {\n",
       "  display: none;\n",
       "  grid-column: 1 / -1;\n",
       "  margin-bottom: 5px;\n",
       "}\n",
       "\n",
       ".xr-section-summary-in:checked ~ .xr-section-details {\n",
       "  display: contents;\n",
       "}\n",
       "\n",
       ".xr-array-wrap {\n",
       "  grid-column: 1 / -1;\n",
       "  display: grid;\n",
       "  grid-template-columns: 20px auto;\n",
       "}\n",
       "\n",
       ".xr-array-wrap > label {\n",
       "  grid-column: 1;\n",
       "  vertical-align: top;\n",
       "}\n",
       "\n",
       ".xr-preview {\n",
       "  color: var(--xr-font-color3);\n",
       "}\n",
       "\n",
       ".xr-array-preview,\n",
       ".xr-array-data {\n",
       "  padding: 0 5px !important;\n",
       "  grid-column: 2;\n",
       "}\n",
       "\n",
       ".xr-array-data,\n",
       ".xr-array-in:checked ~ .xr-array-preview {\n",
       "  display: none;\n",
       "}\n",
       "\n",
       ".xr-array-in:checked ~ .xr-array-data,\n",
       ".xr-array-preview {\n",
       "  display: inline-block;\n",
       "}\n",
       "\n",
       ".xr-dim-list {\n",
       "  display: inline-block !important;\n",
       "  list-style: none;\n",
       "  padding: 0 !important;\n",
       "  margin: 0;\n",
       "}\n",
       "\n",
       ".xr-dim-list li {\n",
       "  display: inline-block;\n",
       "  padding: 0;\n",
       "  margin: 0;\n",
       "}\n",
       "\n",
       ".xr-dim-list:before {\n",
       "  content: '(';\n",
       "}\n",
       "\n",
       ".xr-dim-list:after {\n",
       "  content: ')';\n",
       "}\n",
       "\n",
       ".xr-dim-list li:not(:last-child):after {\n",
       "  content: ',';\n",
       "  padding-right: 5px;\n",
       "}\n",
       "\n",
       ".xr-has-index {\n",
       "  font-weight: bold;\n",
       "}\n",
       "\n",
       ".xr-var-list,\n",
       ".xr-var-item {\n",
       "  display: contents;\n",
       "}\n",
       "\n",
       ".xr-var-item > div,\n",
       ".xr-var-item label,\n",
       ".xr-var-item > .xr-var-name span {\n",
       "  background-color: var(--xr-background-color-row-even);\n",
       "  margin-bottom: 0;\n",
       "}\n",
       "\n",
       ".xr-var-item > .xr-var-name:hover span {\n",
       "  padding-right: 5px;\n",
       "}\n",
       "\n",
       ".xr-var-list > li:nth-child(odd) > div,\n",
       ".xr-var-list > li:nth-child(odd) > label,\n",
       ".xr-var-list > li:nth-child(odd) > .xr-var-name span {\n",
       "  background-color: var(--xr-background-color-row-odd);\n",
       "}\n",
       "\n",
       ".xr-var-name {\n",
       "  grid-column: 1;\n",
       "}\n",
       "\n",
       ".xr-var-dims {\n",
       "  grid-column: 2;\n",
       "}\n",
       "\n",
       ".xr-var-dtype {\n",
       "  grid-column: 3;\n",
       "  text-align: right;\n",
       "  color: var(--xr-font-color2);\n",
       "}\n",
       "\n",
       ".xr-var-preview {\n",
       "  grid-column: 4;\n",
       "}\n",
       "\n",
       ".xr-var-name,\n",
       ".xr-var-dims,\n",
       ".xr-var-dtype,\n",
       ".xr-preview,\n",
       ".xr-attrs dt {\n",
       "  white-space: nowrap;\n",
       "  overflow: hidden;\n",
       "  text-overflow: ellipsis;\n",
       "  padding-right: 10px;\n",
       "}\n",
       "\n",
       ".xr-var-name:hover,\n",
       ".xr-var-dims:hover,\n",
       ".xr-var-dtype:hover,\n",
       ".xr-attrs dt:hover {\n",
       "  overflow: visible;\n",
       "  width: auto;\n",
       "  z-index: 1;\n",
       "}\n",
       "\n",
       ".xr-var-attrs,\n",
       ".xr-var-data {\n",
       "  display: none;\n",
       "  background-color: var(--xr-background-color) !important;\n",
       "  padding-bottom: 5px !important;\n",
       "}\n",
       "\n",
       ".xr-var-attrs-in:checked ~ .xr-var-attrs,\n",
       ".xr-var-data-in:checked ~ .xr-var-data {\n",
       "  display: block;\n",
       "}\n",
       "\n",
       ".xr-var-data > table {\n",
       "  float: right;\n",
       "}\n",
       "\n",
       ".xr-var-name span,\n",
       ".xr-var-data,\n",
       ".xr-attrs {\n",
       "  padding-left: 25px !important;\n",
       "}\n",
       "\n",
       ".xr-attrs,\n",
       ".xr-var-attrs,\n",
       ".xr-var-data {\n",
       "  grid-column: 1 / -1;\n",
       "}\n",
       "\n",
       "dl.xr-attrs {\n",
       "  padding: 0;\n",
       "  margin: 0;\n",
       "  display: grid;\n",
       "  grid-template-columns: 125px auto;\n",
       "}\n",
       "\n",
       ".xr-attrs dt, dd {\n",
       "  padding: 0;\n",
       "  margin: 0;\n",
       "  float: left;\n",
       "  padding-right: 10px;\n",
       "  width: auto;\n",
       "}\n",
       "\n",
       ".xr-attrs dt {\n",
       "  font-weight: normal;\n",
       "  grid-column: 1;\n",
       "}\n",
       "\n",
       ".xr-attrs dt:hover span {\n",
       "  display: inline-block;\n",
       "  background: var(--xr-background-color);\n",
       "  padding-right: 10px;\n",
       "}\n",
       "\n",
       ".xr-attrs dd {\n",
       "  grid-column: 2;\n",
       "  white-space: pre-wrap;\n",
       "  word-break: break-all;\n",
       "}\n",
       "\n",
       ".xr-icon-database,\n",
       ".xr-icon-file-text2 {\n",
       "  display: inline-block;\n",
       "  vertical-align: middle;\n",
       "  width: 1em;\n",
       "  height: 1.5em !important;\n",
       "  stroke-width: 0;\n",
       "  stroke: currentColor;\n",
       "  fill: currentColor;\n",
       "}\n",
       "</style><div class='xr-wrap'><div class='xr-header'><div class='xr-obj-type'>xarray.Dataset</div></div><ul class='xr-sections'><li class='xr-section-item'><input id='section-c9acb5d9-9101-4346-b14a-cdc311aa6842' class='xr-section-summary-in' type='checkbox' disabled ><label for='section-c9acb5d9-9101-4346-b14a-cdc311aa6842' class='xr-section-summary'  title='Expand/collapse section'>Dimensions:</label><div class='xr-section-inline-details'><ul class='xr-dim-list'><li><span class='xr-has-index'>time</span>: 337</li></ul></div><div class='xr-section-details'></div></li><li class='xr-section-item'><input id='section-cb90ebcd-c4ce-48a0-8dbb-98add2791011' class='xr-section-summary-in' type='checkbox'  checked><label for='section-cb90ebcd-c4ce-48a0-8dbb-98add2791011' class='xr-section-summary' >Coordinates: <span>(1)</span></label><div class='xr-section-inline-details'></div><div class='xr-section-details'><ul class='xr-var-list'><li class='xr-var-item'><div class='xr-var-name'><span class='xr-has-index'>time</span></div><div class='xr-var-dims'>(time)</div><div class='xr-var-dtype'>datetime64[ns]</div><div class='xr-var-preview xr-preview'>2020-03-12T14:00:00 ... 2020-03-13T18:00:00</div><input id='attrs-60a587b6-90f5-44e7-ac63-030bbeee24eb' class='xr-var-attrs-in' type='checkbox' ><label for='attrs-60a587b6-90f5-44e7-ac63-030bbeee24eb' title='Show/Hide attributes'><svg class='icon xr-icon-file-text2'><use xlink:href='#icon-file-text2'></use></svg></label><input id='data-b60d7cc5-dfe9-4bca-9549-53248a0af670' class='xr-var-data-in' type='checkbox'><label for='data-b60d7cc5-dfe9-4bca-9549-53248a0af670' title='Show/Hide data repr'><svg class='icon xr-icon-database'><use xlink:href='#icon-database'></use></svg></label><div class='xr-var-attrs'><dl class='xr-attrs'><dt><span>long_name :</span></dt><dd>time</dd></dl></div><pre class='xr-var-data'>array([&#x27;2020-03-12T14:00:00.000000000&#x27;, &#x27;2020-03-12T14:05:00.000000000&#x27;,\n",
       "       &#x27;2020-03-12T14:10:00.000000000&#x27;, ..., &#x27;2020-03-13T17:50:00.000000000&#x27;,\n",
       "       &#x27;2020-03-13T17:55:00.000000000&#x27;, &#x27;2020-03-13T18:00:00.000000000&#x27;],\n",
       "      dtype=&#x27;datetime64[ns]&#x27;)</pre></li></ul></div></li><li class='xr-section-item'><input id='section-69e6e426-7ada-4d19-a290-f393192d760f' class='xr-section-summary-in' type='checkbox'  checked><label for='section-69e6e426-7ada-4d19-a290-f393192d760f' class='xr-section-summary' >Data variables: <span>(1)</span></label><div class='xr-section-inline-details'></div><div class='xr-section-details'><ul class='xr-var-list'><li class='xr-var-item'><div class='xr-var-name'><span>ts</span></div><div class='xr-var-dims'>(time)</div><div class='xr-var-dtype'>float64</div><div class='xr-var-preview xr-preview'>...</div><input id='attrs-422a6e0b-1b70-49e8-9922-c09680991f52' class='xr-var-attrs-in' type='checkbox' ><label for='attrs-422a6e0b-1b70-49e8-9922-c09680991f52' title='Show/Hide attributes'><svg class='icon xr-icon-file-text2'><use xlink:href='#icon-file-text2'></use></svg></label><input id='data-fad004af-13ef-447a-b2da-bec1c311e924' class='xr-var-data-in' type='checkbox'><label for='data-fad004af-13ef-447a-b2da-bec1c311e924' title='Show/Hide data repr'><svg class='icon xr-icon-database'><use xlink:href='#icon-database'></use></svg></label><div class='xr-var-attrs'><dl class='xr-attrs'><dt><span>units :</span></dt><dd>K</dd><dt><span>long_name :</span></dt><dd>surface temperature</dd></dl></div><pre class='xr-var-data'>array([247.      , 247.      , 247.      , ..., 278.045578, 277.917801,\n",
       "       277.790039])</pre></li></ul></div></li><li class='xr-section-item'><input id='section-9581bd77-a7a7-46fa-b35a-5f14ed71c0d8' class='xr-section-summary-in' type='checkbox'  ><label for='section-9581bd77-a7a7-46fa-b35a-5f14ed71c0d8' class='xr-section-summary' >Attributes: <span>(18)</span></label><div class='xr-section-inline-details'></div><div class='xr-section-details'><dl class='xr-attrs'><dt><span>title :</span></dt><dd>Time-varying surface conditions for 13 March 2020 COMBLE intercomparison case</dd><dt><span>reference :</span></dt><dd>https://arm-development.github.io/comble-mip/</dd><dt><span>authors :</span></dt><dd>Timothy W. Juliano (NCAR/RAL, tjuliano@ucar.edu); Florian Tornow (NASA/GISS, ft2544@columbia.edu); Ann M. Fridlind (NASA/GISS, ann.fridlind@nasa.gov)</dd><dt><span>version :</span></dt><dd>Created on 2023-02-01</dd><dt><span>format_version :</span></dt><dd>DEPHY SCM format version 1</dd><dt><span>script :</span></dt><dd>create_comble_sfc_forcing_era5ml.ipynb</dd><dt><span>startDate :</span></dt><dd>2020-03-12 14:00:00</dd><dt><span>endDate :</span></dt><dd>2020-03-13 18:00:00</dd><dt><span>force_geo :</span></dt><dd>1</dd><dt><span>surfaceType :</span></dt><dd>ocean</dd><dt><span>surfaceForcing :</span></dt><dd>ts</dd><dt><span>lat :</span></dt><dd>77.6 deg N</dd><dt><span>dx :</span></dt><dd>150 m</dd><dt><span>dy :</span></dt><dd>150 m</dd><dt><span>dz :</span></dt><dd>see zw_grid variable</dd><dt><span>nx :</span></dt><dd>648</dd><dt><span>ny :</span></dt><dd>648</dd><dt><span>nz :</span></dt><dd>160</dd></dl></div></li></ul></div></div>"
      ],
      "text/plain": [
       "<xarray.Dataset>\n",
       "Dimensions:  (time: 337)\n",
       "Coordinates:\n",
       "  * time     (time) datetime64[ns] 2020-03-12T14:00:00 ... 2020-03-13T18:00:00\n",
       "Data variables:\n",
       "    ts       (time) float64 ...\n",
       "Attributes:\n",
       "    title:           Time-varying surface conditions for 13 March 2020 COMBLE...\n",
       "    reference:       https://arm-development.github.io/comble-mip/\n",
       "    authors:         Timothy W. Juliano (NCAR/RAL, tjuliano@ucar.edu); Floria...\n",
       "    version:         Created on 2023-02-01\n",
       "    format_version:  DEPHY SCM format version 1\n",
       "    script:          create_comble_sfc_forcing_era5ml.ipynb\n",
       "    startDate:       2020-03-12 14:00:00\n",
       "    endDate:         2020-03-13 18:00:00\n",
       "    force_geo:       1\n",
       "    surfaceType:     ocean\n",
       "    surfaceForcing:  ts\n",
       "    lat:             77.6 deg N\n",
       "    dx:              150 m\n",
       "    dy:              150 m\n",
       "    dz:              see zw_grid variable\n",
       "    nx:              648\n",
       "    ny:              648\n",
       "    nz:              160"
      ]
     },
     "execution_count": 3,
     "metadata": {},
     "output_type": "execute_result"
    }
   ],
   "source": [
    "dephy_filename = 'COMBLE_INTERCOMPARISON_NUDGING_FORCING.nc'\n",
    "dephy = xr.open_dataset(dephy_filename)\n",
    "dephy\n",
    "\n",
    "dephy_sfc_filename = 'COMBLE_INTERCOMPARISON_SFC_FORCING.nc'\n",
    "dephy_sfc = xr.open_dataset(dephy_sfc_filename)\n",
    "dephy_sfc"
   ]
  },
  {
   "cell_type": "markdown",
   "metadata": {},
   "source": [
    "### Write input sounding file for WRF LES in ASCII format"
   ]
  },
  {
   "cell_type": "code",
   "execution_count": 4,
   "metadata": {},
   "outputs": [],
   "source": [
    "# use a list to accumulate output ASCII lines\n",
    "lines_sounding = []\n",
    "\n",
    "# number of lines to be read\n",
    "n_z = dephy.dims['lev']\n",
    "\n",
    "# arrays to be reported in columns\n",
    "z_arr = dephy.coords['lev'].values\n",
    "th_arr = dephy['theta'][0,:,0,0].values # K\n",
    "qt_arr = dephy['qv'][0,:,0,0].values*1000. # g/kg\n",
    "u_arr = dephy['u'][0,:,0,0].values # m/s\n",
    "v_arr = dephy['v'][0,:,0,0].values # m/s\n",
    "ps = dephy['ps'][0,0,0].values # hPa\n",
    "thetas = dephy['thetas'][0,0,0].values # K\n",
    "\n",
    "# add a surface point (required by DHARMA code)\n",
    "vars_arr = np.array([ps,thetas,qt_arr[0]])\n",
    "str_firstline = np.array2string(vars_arr,formatter={'float_kind':lambda vars_arr:\"%11.5f\" % vars_arr})[1:-1]\n",
    "lines_sounding.append(str_firstline)\n",
    "\n",
    "# do profile\n",
    "for kk in range(n_z):\n",
    "    vars_arr = np.array([z_arr[kk],th_arr[kk],qt_arr[kk],u_arr[kk],v_arr[kk]])\n",
    "    str_vars = np.array2string(vars_arr,formatter={'float_kind':lambda vars_arr:\"%11.5f\" % vars_arr})[1:-1]\n",
    "    lines_sounding.append(str_vars)\n",
    "\n",
    "# write list contents to ASCII file\n",
    "filename_sounding_LES = 'input_sounding'\n",
    "with open(filename_sounding_LES,mode='wt',encoding='utf-8') as sounding_file:\n",
    "    sounding_file.write('\\n'.join(lines_sounding))"
   ]
  },
  {
   "cell_type": "markdown",
   "metadata": {},
   "source": [
    "### Write ozone file for RRTMG\n",
    "#### Pressure file"
   ]
  },
  {
   "cell_type": "code",
   "execution_count": 5,
   "metadata": {},
   "outputs": [],
   "source": [
    "# use a list to accumulate output ASCII lines\n",
    "#lines_pressure = []\n",
    "\n",
    "# number of lines to be read\n",
    "#n_z = dephy.dims['pres_o3']\n",
    "\n",
    "# arrays to be reported in columns\n",
    "#p_arr = dephy.coords['pres_o3'].values # Pa\n",
    "#p_arr = p_arr[::-1] / 100. # hPa\n",
    "\n",
    "# do profile\n",
    "#for kk in range(n_z):\n",
    "#    vars_arr = np.array([p_arr[kk]])\n",
    "#    str_vars = np.array2string(vars_arr,formatter={'float_kind':lambda vars_arr:\"%11.4f\" % vars_arr})[1:-1]\n",
    "#    lines_pressure.append(str_vars)\n",
    "\n",
    "# write list contents to ASCII file\n",
    "#filename_pressure_LES = 'ozone_plev.formatted'\n",
    "#with open(filename_pressure_LES,mode='wt',encoding='utf-8') as pressure_file:\n",
    "#    pressure_file.write('\\n'.join(lines_pressure))"
   ]
  },
  {
   "cell_type": "markdown",
   "metadata": {},
   "source": [
    "#### Ozone file"
   ]
  },
  {
   "cell_type": "code",
   "execution_count": 6,
   "metadata": {},
   "outputs": [],
   "source": [
    "# use a list to accumulate output ASCII lines\n",
    "#lines_ozone = []\n",
    "\n",
    "# number of lines to be read\n",
    "#n_z = dephy.dims['pres_o3']\n",
    "\n",
    "#n_months = 12\n",
    "#n_lat = 64\n",
    "\n",
    "# arrays to be reported in columns\n",
    "#o3_arr = dephy['o3'][0,:,0,0].values # kg kg-1\n",
    "#o3_arr = o3_arr[::-1]\n",
    "\n",
    "# do profile\n",
    "#for ii in range(n_months):\n",
    "#    for jj in range(n_lat):\n",
    "#        for kk in range(n_z):\n",
    "#            vars_arr = np.array([o3_arr[kk]])\n",
    "#            str_vars = np.array2string(vars_arr,formatter={'float_kind':lambda vars_arr:\"%.4E\" % vars_arr})[1:-1]\n",
    "#            lines_ozone.append(str_vars)\n",
    "\n",
    "# write list contents to ASCII file\n",
    "#filename_ozone_LES = 'ozone.formatted'\n",
    "#with open(filename_ozone_LES,mode='wt',encoding='utf-8') as ozone_file:\n",
    "#    ozone_file.write('\\n'.join(lines_ozone))"
   ]
  },
  {
   "cell_type": "markdown",
   "metadata": {},
   "source": [
    "# Write large-scale forcing file for WRF LES in netCDF format"
   ]
  },
  {
   "cell_type": "markdown",
   "metadata": {},
   "source": [
    "### Pressure gradient forcing or nudging?"
   ]
  },
  {
   "cell_type": "code",
   "execution_count": 7,
   "metadata": {},
   "outputs": [],
   "source": [
    "ls_forcing = 'nudging'"
   ]
  },
  {
   "cell_type": "markdown",
   "metadata": {},
   "source": [
    "#### Read forcing winds from forcing file"
   ]
  },
  {
   "cell_type": "code",
   "execution_count": 8,
   "metadata": {},
   "outputs": [],
   "source": [
    "if ls_forcing == 'geostrophic':\n",
    "    u_force = dephy['ug'][:,:].values # m/s\n",
    "    v_force = dephy['vg'][:,:].values # m/s\n",
    "elif ls_forcing == 'nudging':\n",
    "    u_force = dephy['u_nudging'][:,:].values # m/s\n",
    "    v_force = dephy['v_nudging'][:,:].values # m/s\n",
    "else:\n",
    "    print ('Not sure what to do!')\n",
    "    sys.exit()"
   ]
  },
  {
   "cell_type": "markdown",
   "metadata": {},
   "source": [
    "### Repeat z_ls 1D array to be 2D array for writing"
   ]
  },
  {
   "cell_type": "code",
   "execution_count": 9,
   "metadata": {},
   "outputs": [],
   "source": [
    "nhrs = dephy.dims['time']\n",
    "z_ls_write = np.tile(z_arr,(np.shape(u_force)[0],1))[0:nhrs,:]"
   ]
  },
  {
   "cell_type": "markdown",
   "metadata": {},
   "source": [
    "### Compute wind forcing tendency"
   ]
  },
  {
   "cell_type": "code",
   "execution_count": 10,
   "metadata": {},
   "outputs": [],
   "source": [
    "delt = 60.*60. # time between profiles (s)\n",
    "\n",
    "u_tend = np.zeros([np.shape(u_force)[0],np.shape(u_force)[1]])\n",
    "v_tend = np.zeros([np.shape(u_force)[0],np.shape(u_force)[1]])\n",
    "z_tend = np.zeros([np.shape(u_force)[0],np.shape(u_force)[1]])\n",
    "\n",
    "u_tend[0:-1,:] = (u_force[1:,:] - u_force[0:-1,:]) / delt\n",
    "u_tend[-1,:] = u_tend[-2,:]\n",
    "v_tend[0:-1,:] = (v_force[1:,:] - v_force[0:-1,:]) / delt\n",
    "v_tend[-1,:] = v_tend[-2,:]\n",
    "z_tend[0:-1,:] = (z_ls_write[1:,:] - z_ls_write[0:-1,:]) / delt\n",
    "z_tend[-1,:] = z_tend[-2,:]"
   ]
  },
  {
   "cell_type": "markdown",
   "metadata": {},
   "source": [
    "### Set relaxation time scales if nudging"
   ]
  },
  {
   "cell_type": "code",
   "execution_count": 11,
   "metadata": {},
   "outputs": [],
   "source": [
    "if ls_forcing == 'nudging':\n",
    "    uv_nudge_asl = 500.\n",
    "    \n",
    "    tau_h = 2. # hours\n",
    "    tau_s = tau_h*60.*60.\n",
    "    inv_tau = np.zeros([np.shape(u_force)[0],np.shape(u_force)[1]]) # time x height\n",
    "    inv_tau[:,:] = (1./tau_s)*np.ones(np.shape(u_force)[1])\n",
    "    for i in np.arange(np.shape(u_force)[0]):\n",
    "        for j in np.arange(np.shape(u_force)[1]):\n",
    "            if z_ls_write[i,j] < uv_nudge_asl:\n",
    "                inv_tau[i,j] = 0.0"
   ]
  },
  {
   "cell_type": "markdown",
   "metadata": {},
   "source": [
    " ### Forcing NetCDF name and delete file if already exists"
   ]
  },
  {
   "cell_type": "code",
   "execution_count": 12,
   "metadata": {},
   "outputs": [],
   "source": [
    "savename = 'input_ls_forcing.nc'\n",
    "\n",
    "if os.path.exists(savename):\n",
    "    os.remove(savename)\n",
    "    print('The file ' + savename + ' has been deleted successfully')"
   ]
  },
  {
   "cell_type": "markdown",
   "metadata": {},
   "source": [
    "### Create new netcdf file"
   ]
  },
  {
   "cell_type": "code",
   "execution_count": 13,
   "metadata": {},
   "outputs": [],
   "source": [
    "try: ncfile.close()  # just to be safe, make sure dataset is not already open.\n",
    "except: pass\n",
    "ncfile = Dataset('./' + savename,mode='w',format='NETCDF3_CLASSIC') \n",
    "#print(ncfile)"
   ]
  },
  {
   "cell_type": "markdown",
   "metadata": {},
   "source": [
    "### Create dimensions"
   ]
  },
  {
   "cell_type": "code",
   "execution_count": 14,
   "metadata": {},
   "outputs": [],
   "source": [
    "levs = np.shape(u_force)[1]\n",
    "lev_dim = ncfile.createDimension('force_layers', levs)      # level axis\n",
    "time_dim = ncfile.createDimension('Time', None)    # unlimited axis (can be appended to)\n",
    "datestrlen = ncfile.createDimension('DateStrLen', 19)"
   ]
  },
  {
   "cell_type": "markdown",
   "metadata": {},
   "source": [
    "### Create global attributes"
   ]
  },
  {
   "cell_type": "code",
   "execution_count": 15,
   "metadata": {},
   "outputs": [],
   "source": [
    "ncfile.title='AUXILIARY FORCING FOR CRM'"
   ]
  },
  {
   "cell_type": "markdown",
   "metadata": {},
   "source": [
    "### Create variables"
   ]
  },
  {
   "cell_type": "markdown",
   "metadata": {},
   "source": [
    "#### Dimensions"
   ]
  },
  {
   "cell_type": "code",
   "execution_count": 16,
   "metadata": {},
   "outputs": [],
   "source": [
    "time = ncfile.createVariable('Times', 'S1', ('Time','DateStrLen',))"
   ]
  },
  {
   "cell_type": "markdown",
   "metadata": {},
   "source": [
    "### Add times"
   ]
  },
  {
   "cell_type": "code",
   "execution_count": 23,
   "metadata": {},
   "outputs": [],
   "source": [
    "#dates = []\n",
    "#for i in np.arange(nhrs):\n",
    "#    if nhrs == 19:\n",
    "#        dates.append(dt.datetime(2020,3,13,i))\n",
    "#    else:\n",
    "#        if start_hour+i > 23:\n",
    "#            dates.append(dt.datetime(2020,3,13,start_hour+i-24))\n",
    "#        else:\n",
    "#            dates.append(dt.datetime(2020,3,12,start_hour+i))\n",
    "#times = date2num(dates, time.units)\n",
    "#time[:] = times\n",
    "\n",
    "\n",
    "for i in np.arange(nhrs):\n",
    "    if nhrs == 19:\n",
    "        hold = dt.datetime(2020,3,13,i)\n",
    "    else:\n",
    "        if start_hour+i > 23:\n",
    "            hold = dt.datetime(2020,3,13,start_hour+i-24)\n",
    "        else:\n",
    "            hold = dt.datetime(2020,3,12,start_hour+i)\n",
    "    hold2 = hold.strftime('%Y-%m-%d_%H:%M:%S')\n",
    "    \n",
    "    time[i,:] = stringtochar(np.array(hold2, 'S19'))"
   ]
  },
  {
   "cell_type": "markdown",
   "metadata": {},
   "source": [
    "#### Time-varying wind forcing profiles"
   ]
  },
  {
   "cell_type": "code",
   "execution_count": 24,
   "metadata": {},
   "outputs": [],
   "source": [
    "u_ls = ncfile.createVariable('U_LS', np.float32, ('Time','force_layers',),fill_value=-999.)\n",
    "u_ls.FieldType = 104\n",
    "u_ls.MemoryOrder = 'Z  '\n",
    "u_ls.description = 'large scale zonal wind velocity'\n",
    "u_ls.units = ''\n",
    "u_ls.stagger = ''\n",
    "\n",
    "v_ls = ncfile.createVariable('V_LS', np.float32, ('Time','force_layers',),fill_value=-999.)\n",
    "v_ls.FieldType = 104\n",
    "v_ls.MemoryOrder = 'Z  '\n",
    "v_ls.description = 'large scale meridional wind velocity'\n",
    "v_ls.units = ''\n",
    "v_ls.stagger = ''\n",
    "\n",
    "z_ls = ncfile.createVariable('Z_LS', np.float32, ('Time','force_layers',),fill_value=-999.)\n",
    "z_ls.FieldType = 104\n",
    "z_ls.MemoryOrder = 'Z  '\n",
    "z_ls.description = 'height of forcing time series'\n",
    "z_ls.units = ''\n",
    "z_ls.stagger = ''\n",
    "\n",
    "u_ls_tend = ncfile.createVariable('U_LS_TEND', np.float32, ('Time','force_layers',),fill_value=-999.)\n",
    "u_ls_tend.FieldType = 104\n",
    "u_ls_tend.MemoryOrder = 'Z  '\n",
    "u_ls_tend.description = 'tendency of zonal wind'\n",
    "u_ls_tend.units = ''\n",
    "u_ls_tend.stagger = ''\n",
    "\n",
    "v_ls_tend = ncfile.createVariable('V_LS_TEND', np.float32, ('Time','force_layers',),fill_value=-999.)\n",
    "v_ls_tend.FieldType = 104\n",
    "v_ls_tend.MemoryOrder = 'Z  '\n",
    "v_ls_tend.description = 'tendency of meridional wind'\n",
    "v_ls_tend.units = ''\n",
    "v_ls_tend.stagger = ''\n",
    "\n",
    "z_ls_tend = ncfile.createVariable('Z_LS_TEND', np.float32, ('Time','force_layers',),fill_value=-999.)\n",
    "z_ls_tend.FieldType = 104\n",
    "z_ls_tend.MemoryOrder = 'Z  '\n",
    "z_ls_tend.description = 'height of forcing time series'\n",
    "z_ls_tend.units = ''\n",
    "z_ls_tend.stagger = ''\n",
    "\n",
    "if ls_forcing == 'nudging':\n",
    "    inv_tau_m = ncfile.createVariable('INV_TAU_M', np.float32, ('Time','force_layers',),fill_value=-999.)\n",
    "    inv_tau_m.FieldType = 104\n",
    "    inv_tau_m.MemoryOrder = 'Z  '\n",
    "    inv_tau_m.description = 'inverse relaxation time for momentum'\n",
    "    inv_tau_m.units = ''\n",
    "    inv_tau_m.stagger = ''"
   ]
  },
  {
   "cell_type": "markdown",
   "metadata": {},
   "source": [
    "### Write data"
   ]
  },
  {
   "cell_type": "code",
   "execution_count": 25,
   "metadata": {},
   "outputs": [],
   "source": [
    "u_ls[:] = u_force\n",
    "v_ls[:] = v_force\n",
    "z_ls[:] = z_ls_write\n",
    "u_ls_tend[:] = u_tend\n",
    "v_ls_tend[:] = v_tend\n",
    "z_ls_tend[:] = z_tend\n",
    "if ls_forcing == 'nudging':\n",
    "    inv_tau_m[:] = inv_tau"
   ]
  },
  {
   "cell_type": "markdown",
   "metadata": {},
   "source": [
    "### Close the file"
   ]
  },
  {
   "cell_type": "code",
   "execution_count": 26,
   "metadata": {},
   "outputs": [
    {
     "name": "stdout",
     "output_type": "stream",
     "text": [
      "<class 'netCDF4._netCDF4.Dataset'>\n",
      "root group (NETCDF3_CLASSIC data model, file format NETCDF3):\n",
      "    title: AUXILIARY FORCING FOR CRM\n",
      "    dimensions(sizes): force_layers(136), Time(29), DateStrLen(19)\n",
      "    variables(dimensions): |S1 Times(Time,DateStrLen), float32 U_LS(Time,force_layers), float32 V_LS(Time,force_layers), float32 Z_LS(Time,force_layers), float32 U_LS_TEND(Time,force_layers), float32 V_LS_TEND(Time,force_layers), float32 Z_LS_TEND(Time,force_layers), float32 INV_TAU_M(Time,force_layers)\n",
      "    groups: \n",
      "Dataset is closed!\n"
     ]
    }
   ],
   "source": [
    "# first print the Dataset object to see what we've got\n",
    "print(ncfile)\n",
    "# close the Dataset.\n",
    "ncfile.close(); print('Dataset is closed!')"
   ]
  },
  {
   "cell_type": "markdown",
   "metadata": {},
   "source": [
    "# Write surface forcing file for WRF LES in netCDF format"
   ]
  },
  {
   "cell_type": "markdown",
   "metadata": {},
   "source": [
    "### Read skin temperature from forcing file"
   ]
  },
  {
   "cell_type": "code",
   "execution_count": 27,
   "metadata": {},
   "outputs": [],
   "source": [
    "ts_arr = dephy_sfc['ts'][:].values # K\n",
    "nhrs_sfc = dephy_sfc.dims['time']"
   ]
  },
  {
   "cell_type": "markdown",
   "metadata": {},
   "source": [
    "### Compute skin temperature tendency"
   ]
  },
  {
   "cell_type": "code",
   "execution_count": 28,
   "metadata": {},
   "outputs": [],
   "source": [
    "delt = 5.*60. # time between profiles (s)\n",
    "\n",
    "ts_tend = np.zeros(nhrs_sfc)\n",
    "\n",
    "ts_tend[0:-1] = (ts_arr[1:] - ts_arr[0:-1]) / delt\n",
    "ts_tend[-1] = ts_tend[-2]"
   ]
  },
  {
   "cell_type": "markdown",
   "metadata": {},
   "source": [
    " ### Forcing NetCDF name and delete file if already exists"
   ]
  },
  {
   "cell_type": "code",
   "execution_count": 29,
   "metadata": {},
   "outputs": [],
   "source": [
    "savename = 'input_sfc_forcing.nc'\n",
    "\n",
    "if os.path.exists(savename):\n",
    "    os.remove(savename)\n",
    "    print('The file ' + savename + ' has been deleted successfully')"
   ]
  },
  {
   "cell_type": "markdown",
   "metadata": {},
   "source": [
    "### Create new netcdf file"
   ]
  },
  {
   "cell_type": "code",
   "execution_count": 30,
   "metadata": {},
   "outputs": [],
   "source": [
    "try: ncfile.close()  # just to be safe, make sure dataset is not already open.\n",
    "except: pass\n",
    "ncfile = Dataset('./' + savename,mode='w',format='NETCDF3_CLASSIC') \n",
    "#print(ncfile)"
   ]
  },
  {
   "cell_type": "markdown",
   "metadata": {},
   "source": [
    "### Create dimensions"
   ]
  },
  {
   "cell_type": "code",
   "execution_count": 31,
   "metadata": {},
   "outputs": [],
   "source": [
    "time_dim = ncfile.createDimension('Time', None)    # unlimited axis (can be appended to)\n",
    "datestrlen = ncfile.createDimension('DateStrLen', 19)"
   ]
  },
  {
   "cell_type": "markdown",
   "metadata": {},
   "source": [
    "### Create global attributes"
   ]
  },
  {
   "cell_type": "code",
   "execution_count": 32,
   "metadata": {},
   "outputs": [],
   "source": [
    "ncfile.title='AUXILIARY FORCING FOR CRM'"
   ]
  },
  {
   "cell_type": "markdown",
   "metadata": {},
   "source": [
    "### Create variables"
   ]
  },
  {
   "cell_type": "markdown",
   "metadata": {},
   "source": [
    "#### Dimensions"
   ]
  },
  {
   "cell_type": "code",
   "execution_count": 33,
   "metadata": {},
   "outputs": [],
   "source": [
    "time = ncfile.createVariable('Times', 'S1', ('Time','DateStrLen',))"
   ]
  },
  {
   "cell_type": "markdown",
   "metadata": {},
   "source": [
    "### Add times"
   ]
  },
  {
   "cell_type": "code",
   "execution_count": 38,
   "metadata": {},
   "outputs": [],
   "source": [
    "curr_hh = start_hour\n",
    "curr_dd = start_day\n",
    "ii = 0\n",
    "first_pass = 1\n",
    "for i in np.arange(nhrs_sfc):\n",
    "    curr_min = 5*ii\n",
    "    if curr_min % 60 == 0 and first_pass == 0:\n",
    "        curr_hh+=1\n",
    "        ii = 0\n",
    "        curr_min = 5*ii\n",
    "        if curr_hh == 24:\n",
    "            curr_hh = 0\n",
    "            curr_dd+=1\n",
    "            \n",
    "    hold = dt.datetime(2020,3,curr_dd,curr_hh,curr_min)\n",
    "    hold2 = hold.strftime('%Y-%m-%d_%H:%M:%S')\n",
    "    \n",
    "    first_pass = 0\n",
    "    ii+=1\n",
    "    \n",
    "    time[i,:] = stringtochar(np.array(hold2, 'S19'))"
   ]
  },
  {
   "cell_type": "markdown",
   "metadata": {},
   "source": [
    "#### Time-varying skin temperature"
   ]
  },
  {
   "cell_type": "code",
   "execution_count": 39,
   "metadata": {},
   "outputs": [],
   "source": [
    "pre_tsk = ncfile.createVariable('PRE_TSK', np.float32, ('Time',),fill_value=-999.)\n",
    "pre_tsk.FieldType = 104\n",
    "pre_tsk.MemoryOrder = 'Z  '\n",
    "pre_tsk.description = 'skin temperature'\n",
    "pre_tsk.units = ''\n",
    "pre_tsk.stagger = ''\n",
    "\n",
    "pre_tsk_tend = ncfile.createVariable('PRE_TSK_TEND', np.float32, ('Time',),fill_value=-999.)\n",
    "pre_tsk_tend.FieldType = 104\n",
    "pre_tsk_tend.MemoryOrder = 'Z  '\n",
    "pre_tsk_tend.description = 'skin temperature'\n",
    "pre_tsk_tend.units = ''\n",
    "pre_tsk_tend.stagger = ''"
   ]
  },
  {
   "cell_type": "markdown",
   "metadata": {},
   "source": [
    "### Write data"
   ]
  },
  {
   "cell_type": "code",
   "execution_count": 40,
   "metadata": {},
   "outputs": [],
   "source": [
    "pre_tsk[:] = ts_arr\n",
    "pre_tsk_tend[:] = ts_tend"
   ]
  },
  {
   "cell_type": "markdown",
   "metadata": {},
   "source": [
    "### Close the file"
   ]
  },
  {
   "cell_type": "code",
   "execution_count": 41,
   "metadata": {},
   "outputs": [
    {
     "name": "stdout",
     "output_type": "stream",
     "text": [
      "<class 'netCDF4._netCDF4.Dataset'>\n",
      "root group (NETCDF3_CLASSIC data model, file format NETCDF3):\n",
      "    title: AUXILIARY FORCING FOR CRM\n",
      "    dimensions(sizes): Time(337), DateStrLen(19)\n",
      "    variables(dimensions): |S1 Times(Time,DateStrLen), float32 PRE_TSK(Time), float32 PRE_TSK_TEND(Time)\n",
      "    groups: \n",
      "Dataset is closed!\n"
     ]
    }
   ],
   "source": [
    "# first print the Dataset object to see what we've got\n",
    "print(ncfile)\n",
    "# close the Dataset.\n",
    "ncfile.close(); print('Dataset is closed!')"
   ]
  },
  {
   "cell_type": "markdown",
   "metadata": {},
   "source": [
    "# Write vertical grid file for WRF LES in ASCII format"
   ]
  },
  {
   "cell_type": "code",
   "execution_count": 42,
   "metadata": {},
   "outputs": [],
   "source": [
    "# create vertical grid file contents as list\n",
    "lines_zw = []\n",
    "\n",
    "n_zw = n_z = dephy.dims['zw_grid'] # number of heights\n",
    "\n",
    "for kk in range(n_zw):\n",
    "    lines_zw.append(str(dephy['zw_grid'][kk].values))\n",
    "\n",
    "# write vertical grid to ASCII file\n",
    "filename_zw_LES = 'input_zw_grid'\n",
    "with open(filename_zw_LES,mode='wt',encoding='utf-8') as zw_file:\n",
    "    zw_file.write('\\n'.join(lines_zw))"
   ]
  },
  {
   "cell_type": "code",
   "execution_count": null,
   "metadata": {},
   "outputs": [],
   "source": []
  }
 ],
 "metadata": {
  "kernelspec": {
   "display_name": "Python 3",
   "language": "python",
   "name": "python3"
  },
  "language_info": {
   "codemirror_mode": {
    "name": "ipython",
    "version": 3
   },
   "file_extension": ".py",
   "mimetype": "text/x-python",
   "name": "python",
   "nbconvert_exporter": "python",
   "pygments_lexer": "ipython3",
   "version": "3.6.8"
  }
 },
 "nbformat": 4,
 "nbformat_minor": 5
}
